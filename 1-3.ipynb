{
 "cells": [
  {
   "cell_type": "code",
   "execution_count": 1,
   "id": "0853bef8",
   "metadata": {},
   "outputs": [
    {
     "data": {
      "text/plain": [
       "'EVERYTING IN PYTHON IS AN OBJECT'"
      ]
     },
     "execution_count": 1,
     "metadata": {},
     "output_type": "execute_result"
    }
   ],
   "source": [
    "\"Everyting in Python is an object\".upper() #문자열도 객체"
   ]
  },
  {
   "cell_type": "code",
   "execution_count": 2,
   "id": "3b9c0d1f",
   "metadata": {},
   "outputs": [
    {
     "name": "stdout",
     "output_type": "stream",
     "text": [
      "카운터의 값 = 1\n"
     ]
    }
   ],
   "source": [
    "class Counter:\n",
    "    def __init__(self):   #클래스의 생성자\n",
    "        self.count = 0   #인스턴스 변수 생성. 항상 self.\n",
    "    def increment(self):   #클래스의 메소드. 항상 첫 번째 매개변수는 self여야 한다.\n",
    "        self.count += 1\n",
    "        \n",
    "a = Counter() #인스턴스 생성.\n",
    "a.increment() #메소드 실행(self에 대한 매개변수는 안준다.)\n",
    "print(\"카운터의 값 =\", a.count)"
   ]
  },
  {
   "cell_type": "code",
   "execution_count": 4,
   "id": "02d45f4b",
   "metadata": {},
   "outputs": [
    {
     "name": "stdout",
     "output_type": "stream",
     "text": [
      "9 10 True\n",
      "11 10 True\n"
     ]
    }
   ],
   "source": [
    "class Television:\n",
    "    def __init__(self, channel, volume, on):\n",
    "        self.channel = channel\n",
    "        self.volume = volume\n",
    "        self.on = on\n",
    "        \n",
    "    def show(self):\n",
    "        print(self.channel, self.volume, self.on)\n",
    "    \n",
    "    def setChannel(self, channel):\n",
    "        self.channel = channel\n",
    "        \n",
    "    def getChannel(self):\n",
    "        return self.channel\n",
    "    \n",
    "t = Television(9,10,True)\n",
    "t.show()\n",
    "\n",
    "t.setChannel(11)\n",
    "t.show()"
   ]
  },
  {
   "cell_type": "code",
   "execution_count": 7,
   "id": "91a6cbfd",
   "metadata": {},
   "outputs": [
    {
     "name": "stdout",
     "output_type": "stream",
     "text": [
      "원의 면적 314.1592653589793\n",
      "원의 둘레 62.83185307179586\n"
     ]
    }
   ],
   "source": [
    "import math\n",
    "class Circle:\n",
    "    def __init__(self, radius):\n",
    "        self.radius = radius\n",
    "    \n",
    "    def getArea(self):\n",
    "        return self.radius**2*math.pi\n",
    "    \n",
    "    def getPerimeter(self):\n",
    "        return self.radius*2*math.pi\n",
    "    \n",
    "circle = Circle(10)\n",
    "print(f\"원의 면적 {circle.getArea()}\")\n",
    "print(f\"원의 둘레 {circle.getPerimeter()}\")"
   ]
  },
  {
   "cell_type": "code",
   "execution_count": null,
   "id": "d845d3a6",
   "metadata": {},
   "outputs": [],
   "source": []
  }
 ],
 "metadata": {
  "kernelspec": {
   "display_name": "Python 3 (ipykernel)",
   "language": "python",
   "name": "python3"
  },
  "language_info": {
   "codemirror_mode": {
    "name": "ipython",
    "version": 3
   },
   "file_extension": ".py",
   "mimetype": "text/x-python",
   "name": "python",
   "nbconvert_exporter": "python",
   "pygments_lexer": "ipython3",
   "version": "3.7.13"
  }
 },
 "nbformat": 4,
 "nbformat_minor": 5
}

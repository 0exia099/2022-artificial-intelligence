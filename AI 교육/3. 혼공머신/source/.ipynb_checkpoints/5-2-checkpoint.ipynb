{
 "cells": [
  {
   "cell_type": "markdown",
   "metadata": {
    "id": "OhvdLMdiU9Uu"
   },
   "source": [
    "# 교차 검증과 그리드 서치"
   ]
  },
  {
   "cell_type": "markdown",
   "metadata": {
    "id": "dra_UawFU9Ux"
   },
   "source": [
    "<table align=\"left\">\n",
    "  <td>\n",
    "    <a target=\"_blank\" href=\"https://colab.research.google.com/github/rickiepark/hg-mldl/blob/master/5-2.ipynb\"><img src=\"https://www.tensorflow.org/images/colab_logo_32px.png\" />구글 코랩에서 실행하기</a>\n",
    "  </td>\n",
    "</table>"
   ]
  },
  {
   "cell_type": "markdown",
   "metadata": {
    "id": "dVNF7yZjyvoO"
   },
   "source": [
    "## 검증 세트"
   ]
  },
  {
   "cell_type": "code",
   "execution_count": 1,
   "metadata": {
    "executionInfo": {
     "elapsed": 1169,
     "status": "ok",
     "timestamp": 1644910916358,
     "user": {
      "displayName": "차세대컴퓨터시스템연구실",
      "photoUrl": "https://lh3.googleusercontent.com/a/default-user=s64",
      "userId": "00707404389080078471"
     },
     "user_tz": -540
    },
    "id": "banlvMA6RfnM"
   },
   "outputs": [],
   "source": [
    "import pandas as pd\n",
    "\n",
    "wine = pd.read_csv('https://bit.ly/wine-date')"
   ]
  },
  {
   "cell_type": "code",
   "execution_count": 2,
   "metadata": {
    "executionInfo": {
     "elapsed": 3,
     "status": "ok",
     "timestamp": 1644910918728,
     "user": {
      "displayName": "차세대컴퓨터시스템연구실",
      "photoUrl": "https://lh3.googleusercontent.com/a/default-user=s64",
      "userId": "00707404389080078471"
     },
     "user_tz": -540
    },
    "id": "abR6QA7qRoKl"
   },
   "outputs": [],
   "source": [
    "data = wine[['alcohol', 'sugar', 'pH']].to_numpy()\n",
    "target = wine['class'].to_numpy()"
   ]
  },
  {
   "cell_type": "code",
   "execution_count": 3,
   "metadata": {
    "executionInfo": {
     "elapsed": 1118,
     "status": "ok",
     "timestamp": 1644910923396,
     "user": {
      "displayName": "차세대컴퓨터시스템연구실",
      "photoUrl": "https://lh3.googleusercontent.com/a/default-user=s64",
      "userId": "00707404389080078471"
     },
     "user_tz": -540
    },
    "id": "auLnVXyMRoeb"
   },
   "outputs": [],
   "source": [
    "from sklearn.model_selection import train_test_split\n",
    "\n",
    "train_input, test_input, train_target, test_target = train_test_split(\n",
    "    data, target, test_size=0.2, random_state=42)"
   ]
  },
  {
   "cell_type": "code",
   "execution_count": 4,
   "metadata": {
    "executionInfo": {
     "elapsed": 350,
     "status": "ok",
     "timestamp": 1644910927412,
     "user": {
      "displayName": "차세대컴퓨터시스템연구실",
      "photoUrl": "https://lh3.googleusercontent.com/a/default-user=s64",
      "userId": "00707404389080078471"
     },
     "user_tz": -540
    },
    "id": "E-yV4cCXRqNK"
   },
   "outputs": [],
   "source": [
    "sub_input, val_input, sub_target, val_target = train_test_split(\n",
    "    train_input, train_target, test_size=0.2, random_state=42)"
   ]
  },
  {
   "cell_type": "code",
   "execution_count": 5,
   "metadata": {
    "colab": {
     "base_uri": "https://localhost:8080/"
    },
    "executionInfo": {
     "elapsed": 365,
     "status": "ok",
     "timestamp": 1644910931063,
     "user": {
      "displayName": "차세대컴퓨터시스템연구실",
      "photoUrl": "https://lh3.googleusercontent.com/a/default-user=s64",
      "userId": "00707404389080078471"
     },
     "user_tz": -540
    },
    "id": "k29hKbw4R7Ki",
    "outputId": "c0137687-cd88-4aa8-8e64-112c52b7369e"
   },
   "outputs": [
    {
     "name": "stdout",
     "output_type": "stream",
     "text": [
      "(4157, 3) (1040, 3)\n"
     ]
    }
   ],
   "source": [
    "print(sub_input.shape, val_input.shape)"
   ]
  },
  {
   "cell_type": "code",
   "execution_count": 6,
   "metadata": {
    "colab": {
     "base_uri": "https://localhost:8080/"
    },
    "executionInfo": {
     "elapsed": 353,
     "status": "ok",
     "timestamp": 1644910934252,
     "user": {
      "displayName": "차세대컴퓨터시스템연구실",
      "photoUrl": "https://lh3.googleusercontent.com/a/default-user=s64",
      "userId": "00707404389080078471"
     },
     "user_tz": -540
    },
    "id": "4VQz-UZ2SeLq",
    "outputId": "93276cfc-97f0-4120-f615-9ae38ba6d777"
   },
   "outputs": [
    {
     "name": "stdout",
     "output_type": "stream",
     "text": [
      "0.9971133028626413\n",
      "0.864423076923077\n"
     ]
    }
   ],
   "source": [
    "from sklearn.tree import DecisionTreeClassifier\n",
    "\n",
    "dt = DecisionTreeClassifier(random_state=42)\n",
    "dt.fit(sub_input, sub_target)\n",
    "\n",
    "print(dt.score(sub_input, sub_target))\n",
    "print(dt.score(val_input, val_target))"
   ]
  },
  {
   "cell_type": "markdown",
   "metadata": {
    "id": "Z4gRXnK6y2Pt"
   },
   "source": [
    "## 교차 검증"
   ]
  },
  {
   "cell_type": "code",
   "execution_count": 7,
   "metadata": {
    "colab": {
     "base_uri": "https://localhost:8080/"
    },
    "executionInfo": {
     "elapsed": 360,
     "status": "ok",
     "timestamp": 1644910963958,
     "user": {
      "displayName": "차세대컴퓨터시스템연구실",
      "photoUrl": "https://lh3.googleusercontent.com/a/default-user=s64",
      "userId": "00707404389080078471"
     },
     "user_tz": -540
    },
    "id": "_J3LId-vSmNH",
    "outputId": "bc1a210e-153e-41aa-9477-a95aaf226d7a"
   },
   "outputs": [
    {
     "name": "stdout",
     "output_type": "stream",
     "text": [
      "{'fit_time': array([0.01002002, 0.00725555, 0.00748992, 0.00734949, 0.00733757]), 'score_time': array([0.00097966, 0.0007391 , 0.00071096, 0.00074863, 0.00081944]), 'test_score': array([0.86923077, 0.84615385, 0.87680462, 0.84889317, 0.83541867])}\n"
     ]
    }
   ],
   "source": [
    "from sklearn.model_selection import cross_validate\n",
    "\n",
    "scores = cross_validate(dt, train_input, train_target)\n",
    "print(scores)"
   ]
  },
  {
   "cell_type": "code",
   "execution_count": 8,
   "metadata": {
    "colab": {
     "base_uri": "https://localhost:8080/"
    },
    "executionInfo": {
     "elapsed": 347,
     "status": "ok",
     "timestamp": 1644910969635,
     "user": {
      "displayName": "차세대컴퓨터시스템연구실",
      "photoUrl": "https://lh3.googleusercontent.com/a/default-user=s64",
      "userId": "00707404389080078471"
     },
     "user_tz": -540
    },
    "id": "Yp3aagOoTHsO",
    "outputId": "1780e4a0-379f-4423-caec-69fabd061e86"
   },
   "outputs": [
    {
     "name": "stdout",
     "output_type": "stream",
     "text": [
      "0.855300214703487\n"
     ]
    }
   ],
   "source": [
    "import numpy as np\n",
    "\n",
    "print(np.mean(scores['test_score']))"
   ]
  },
  {
   "cell_type": "code",
   "execution_count": 9,
   "metadata": {
    "colab": {
     "base_uri": "https://localhost:8080/"
    },
    "executionInfo": {
     "elapsed": 355,
     "status": "ok",
     "timestamp": 1644910973515,
     "user": {
      "displayName": "차세대컴퓨터시스템연구실",
      "photoUrl": "https://lh3.googleusercontent.com/a/default-user=s64",
      "userId": "00707404389080078471"
     },
     "user_tz": -540
    },
    "id": "0tQyaG0576Vn",
    "outputId": "f7c03f21-d4ee-4e8b-8d4c-25d5301b6e8c"
   },
   "outputs": [
    {
     "name": "stdout",
     "output_type": "stream",
     "text": [
      "0.855300214703487\n"
     ]
    }
   ],
   "source": [
    "from sklearn.model_selection import StratifiedKFold\n",
    "\n",
    "scores = cross_validate(dt, train_input, train_target, cv=StratifiedKFold())\n",
    "print(np.mean(scores['test_score']))"
   ]
  },
  {
   "cell_type": "code",
   "execution_count": 10,
   "metadata": {
    "colab": {
     "base_uri": "https://localhost:8080/"
    },
    "executionInfo": {
     "elapsed": 352,
     "status": "ok",
     "timestamp": 1644910978501,
     "user": {
      "displayName": "차세대컴퓨터시스템연구실",
      "photoUrl": "https://lh3.googleusercontent.com/a/default-user=s64",
      "userId": "00707404389080078471"
     },
     "user_tz": -540
    },
    "id": "1BmP_OTT_agM",
    "outputId": "c750e0ce-a482-4ea8-f5ec-dbb7b067f1fd"
   },
   "outputs": [
    {
     "name": "stdout",
     "output_type": "stream",
     "text": [
      "0.8574181117533719\n"
     ]
    }
   ],
   "source": [
    "splitter = StratifiedKFold(n_splits=10, shuffle=True, random_state=42)\n",
    "scores = cross_validate(dt, train_input, train_target, cv=splitter)\n",
    "print(np.mean(scores['test_score']))"
   ]
  },
  {
   "cell_type": "markdown",
   "metadata": {
    "id": "Q21W8RsqDsDV"
   },
   "source": [
    "## 하이퍼파라미터 튜닝"
   ]
  },
  {
   "cell_type": "code",
   "execution_count": 11,
   "metadata": {
    "executionInfo": {
     "elapsed": 342,
     "status": "ok",
     "timestamp": 1644910982196,
     "user": {
      "displayName": "차세대컴퓨터시스템연구실",
      "photoUrl": "https://lh3.googleusercontent.com/a/default-user=s64",
      "userId": "00707404389080078471"
     },
     "user_tz": -540
    },
    "id": "S8pqss8onjR5"
   },
   "outputs": [],
   "source": [
    "from sklearn.model_selection import GridSearchCV\n",
    "\n",
    "params = {'min_impurity_decrease': [0.0001, 0.0002, 0.0003, 0.0004, 0.0005]}"
   ]
  },
  {
   "cell_type": "code",
   "execution_count": 12,
   "metadata": {
    "executionInfo": {
     "elapsed": 331,
     "status": "ok",
     "timestamp": 1644910984171,
     "user": {
      "displayName": "차세대컴퓨터시스템연구실",
      "photoUrl": "https://lh3.googleusercontent.com/a/default-user=s64",
      "userId": "00707404389080078471"
     },
     "user_tz": -540
    },
    "id": "79MymJqxTu0P"
   },
   "outputs": [],
   "source": [
    "gs = GridSearchCV(DecisionTreeClassifier(random_state=42), params, n_jobs=-1)"
   ]
  },
  {
   "cell_type": "code",
   "execution_count": 13,
   "metadata": {
    "colab": {
     "base_uri": "https://localhost:8080/"
    },
    "executionInfo": {
     "elapsed": 1499,
     "status": "ok",
     "timestamp": 1644910988258,
     "user": {
      "displayName": "차세대컴퓨터시스템연구실",
      "photoUrl": "https://lh3.googleusercontent.com/a/default-user=s64",
      "userId": "00707404389080078471"
     },
     "user_tz": -540
    },
    "id": "tKAlTabkU-Lz",
    "outputId": "d3bbb407-e441-472a-a646-1f24e37d83c7"
   },
   "outputs": [
    {
     "data": {
      "text/plain": [
       "GridSearchCV(estimator=DecisionTreeClassifier(random_state=42), n_jobs=-1,\n",
       "             param_grid={'min_impurity_decrease': [0.0001, 0.0002, 0.0003,\n",
       "                                                   0.0004, 0.0005]})"
      ]
     },
     "execution_count": 13,
     "metadata": {},
     "output_type": "execute_result"
    }
   ],
   "source": [
    "gs.fit(train_input, train_target)"
   ]
  },
  {
   "cell_type": "code",
   "execution_count": 14,
   "metadata": {
    "colab": {
     "base_uri": "https://localhost:8080/"
    },
    "executionInfo": {
     "elapsed": 324,
     "status": "ok",
     "timestamp": 1644911005189,
     "user": {
      "displayName": "차세대컴퓨터시스템연구실",
      "photoUrl": "https://lh3.googleusercontent.com/a/default-user=s64",
      "userId": "00707404389080078471"
     },
     "user_tz": -540
    },
    "id": "q6iX3vH-VeEb",
    "outputId": "8374ee58-00dc-4b27-8224-e44d636a98c9"
   },
   "outputs": [
    {
     "name": "stdout",
     "output_type": "stream",
     "text": [
      "0.9615162593804117\n"
     ]
    }
   ],
   "source": [
    "dt = gs.best_estimator_\n",
    "print(dt.score(train_input, train_target))"
   ]
  },
  {
   "cell_type": "code",
   "execution_count": 15,
   "metadata": {
    "colab": {
     "base_uri": "https://localhost:8080/"
    },
    "executionInfo": {
     "elapsed": 335,
     "status": "ok",
     "timestamp": 1644911008386,
     "user": {
      "displayName": "차세대컴퓨터시스템연구실",
      "photoUrl": "https://lh3.googleusercontent.com/a/default-user=s64",
      "userId": "00707404389080078471"
     },
     "user_tz": -540
    },
    "id": "lIzod3BwVHq-",
    "outputId": "542a589c-faaa-45ad-f548-7606c4e4c723"
   },
   "outputs": [
    {
     "name": "stdout",
     "output_type": "stream",
     "text": [
      "{'min_impurity_decrease': 0.0001}\n"
     ]
    }
   ],
   "source": [
    "print(gs.best_params_)"
   ]
  },
  {
   "cell_type": "code",
   "execution_count": 16,
   "metadata": {
    "colab": {
     "base_uri": "https://localhost:8080/"
    },
    "executionInfo": {
     "elapsed": 346,
     "status": "ok",
     "timestamp": 1644911010278,
     "user": {
      "displayName": "차세대컴퓨터시스템연구실",
      "photoUrl": "https://lh3.googleusercontent.com/a/default-user=s64",
      "userId": "00707404389080078471"
     },
     "user_tz": -540
    },
    "id": "0xfQswiui4Tr",
    "outputId": "9a79c830-b6b6-4fc0-c46a-622b548e6f1a"
   },
   "outputs": [
    {
     "name": "stdout",
     "output_type": "stream",
     "text": [
      "[0.86819297 0.86453617 0.86492226 0.86780891 0.86761605]\n"
     ]
    }
   ],
   "source": [
    "print(gs.cv_results_['mean_test_score'])"
   ]
  },
  {
   "cell_type": "code",
   "execution_count": 17,
   "metadata": {
    "colab": {
     "base_uri": "https://localhost:8080/"
    },
    "executionInfo": {
     "elapsed": 3,
     "status": "ok",
     "timestamp": 1644911013008,
     "user": {
      "displayName": "차세대컴퓨터시스템연구실",
      "photoUrl": "https://lh3.googleusercontent.com/a/default-user=s64",
      "userId": "00707404389080078471"
     },
     "user_tz": -540
    },
    "id": "Rwg2aSyEVO17",
    "outputId": "ed899d8c-d939-4209-b742-b3422f05c3ae"
   },
   "outputs": [
    {
     "name": "stdout",
     "output_type": "stream",
     "text": [
      "{'min_impurity_decrease': 0.0001}\n"
     ]
    }
   ],
   "source": [
    "best_index = np.argmax(gs.cv_results_['mean_test_score'])\n",
    "print(gs.cv_results_['params'][best_index])"
   ]
  },
  {
   "cell_type": "code",
   "execution_count": 18,
   "metadata": {
    "executionInfo": {
     "elapsed": 324,
     "status": "ok",
     "timestamp": 1644911016581,
     "user": {
      "displayName": "차세대컴퓨터시스템연구실",
      "photoUrl": "https://lh3.googleusercontent.com/a/default-user=s64",
      "userId": "00707404389080078471"
     },
     "user_tz": -540
    },
    "id": "8jHxZ7XmVU11"
   },
   "outputs": [],
   "source": [
    "params = {'min_impurity_decrease': np.arange(0.0001, 0.001, 0.0001),\n",
    "          'max_depth': range(5, 20, 1),\n",
    "          'min_samples_split': range(2, 100, 10)\n",
    "          }"
   ]
  },
  {
   "cell_type": "code",
   "execution_count": 19,
   "metadata": {
    "colab": {
     "base_uri": "https://localhost:8080/"
    },
    "executionInfo": {
     "elapsed": 30770,
     "status": "ok",
     "timestamp": 1644911051330,
     "user": {
      "displayName": "차세대컴퓨터시스템연구실",
      "photoUrl": "https://lh3.googleusercontent.com/a/default-user=s64",
      "userId": "00707404389080078471"
     },
     "user_tz": -540
    },
    "id": "KnP3GA6MVsVH",
    "outputId": "012da2fb-4d8c-4768-9949-03945a195001"
   },
   "outputs": [
    {
     "data": {
      "text/plain": [
       "GridSearchCV(estimator=DecisionTreeClassifier(random_state=42), n_jobs=-1,\n",
       "             param_grid={'max_depth': range(5, 20),\n",
       "                         'min_impurity_decrease': array([0.0001, 0.0002, 0.0003, 0.0004, 0.0005, 0.0006, 0.0007, 0.0008,\n",
       "       0.0009]),\n",
       "                         'min_samples_split': range(2, 100, 10)})"
      ]
     },
     "execution_count": 19,
     "metadata": {},
     "output_type": "execute_result"
    }
   ],
   "source": [
    "gs = GridSearchCV(DecisionTreeClassifier(random_state=42), params, n_jobs=-1)\n",
    "gs.fit(train_input, train_target)"
   ]
  },
  {
   "cell_type": "code",
   "execution_count": 20,
   "metadata": {
    "colab": {
     "base_uri": "https://localhost:8080/"
    },
    "executionInfo": {
     "elapsed": 338,
     "status": "ok",
     "timestamp": 1644911063317,
     "user": {
      "displayName": "차세대컴퓨터시스템연구실",
      "photoUrl": "https://lh3.googleusercontent.com/a/default-user=s64",
      "userId": "00707404389080078471"
     },
     "user_tz": -540
    },
    "id": "qi9-O_VGV0Ho",
    "outputId": "5df6f397-18dc-4843-ed0f-eae6a20073ab"
   },
   "outputs": [
    {
     "name": "stdout",
     "output_type": "stream",
     "text": [
      "{'max_depth': 14, 'min_impurity_decrease': 0.0004, 'min_samples_split': 12}\n"
     ]
    }
   ],
   "source": [
    "print(gs.best_params_)"
   ]
  },
  {
   "cell_type": "code",
   "execution_count": 21,
   "metadata": {
    "colab": {
     "base_uri": "https://localhost:8080/"
    },
    "executionInfo": {
     "elapsed": 343,
     "status": "ok",
     "timestamp": 1644911068806,
     "user": {
      "displayName": "차세대컴퓨터시스템연구실",
      "photoUrl": "https://lh3.googleusercontent.com/a/default-user=s64",
      "userId": "00707404389080078471"
     },
     "user_tz": -540
    },
    "id": "ZnJjLATAV2Sq",
    "outputId": "26eb3906-1812-465e-bb31-63b7c126deee"
   },
   "outputs": [
    {
     "name": "stdout",
     "output_type": "stream",
     "text": [
      "0.8683865773302731\n"
     ]
    }
   ],
   "source": [
    "print(np.max(gs.cv_results_['mean_test_score']))"
   ]
  },
  {
   "cell_type": "markdown",
   "metadata": {
    "id": "d0k9DQTNlaD6"
   },
   "source": [
    "### 랜덤 서치"
   ]
  },
  {
   "cell_type": "code",
   "execution_count": 22,
   "metadata": {
    "executionInfo": {
     "elapsed": 348,
     "status": "ok",
     "timestamp": 1644911071467,
     "user": {
      "displayName": "차세대컴퓨터시스템연구실",
      "photoUrl": "https://lh3.googleusercontent.com/a/default-user=s64",
      "userId": "00707404389080078471"
     },
     "user_tz": -540
    },
    "id": "_T9KTEk1GBcY"
   },
   "outputs": [],
   "source": [
    "from scipy.stats import uniform, randint"
   ]
  },
  {
   "cell_type": "code",
   "execution_count": 23,
   "metadata": {
    "colab": {
     "base_uri": "https://localhost:8080/"
    },
    "executionInfo": {
     "elapsed": 2,
     "status": "ok",
     "timestamp": 1644911072984,
     "user": {
      "displayName": "차세대컴퓨터시스템연구실",
      "photoUrl": "https://lh3.googleusercontent.com/a/default-user=s64",
      "userId": "00707404389080078471"
     },
     "user_tz": -540
    },
    "id": "fd0UJpCGGDhz",
    "outputId": "423e003b-47e5-4fad-db72-e4f56407948c"
   },
   "outputs": [
    {
     "data": {
      "text/plain": [
       "array([4, 5, 3, 9, 3, 3, 6, 9, 2, 8])"
      ]
     },
     "execution_count": 23,
     "metadata": {},
     "output_type": "execute_result"
    }
   ],
   "source": [
    "rgen = randint(0, 10)\n",
    "rgen.rvs(10)"
   ]
  },
  {
   "cell_type": "code",
   "execution_count": 24,
   "metadata": {
    "colab": {
     "base_uri": "https://localhost:8080/"
    },
    "executionInfo": {
     "elapsed": 5,
     "status": "ok",
     "timestamp": 1644911074930,
     "user": {
      "displayName": "차세대컴퓨터시스템연구실",
      "photoUrl": "https://lh3.googleusercontent.com/a/default-user=s64",
      "userId": "00707404389080078471"
     },
     "user_tz": -540
    },
    "id": "ch3zTUohIJR6",
    "outputId": "fb9525a9-71ac-4677-f15d-176af68eb443"
   },
   "outputs": [
    {
     "data": {
      "text/plain": [
       "(array([0, 1, 2, 3, 4, 5, 6, 7, 8, 9]),\n",
       " array([ 84, 110, 103,  73, 114, 106,  90, 109, 114,  97]))"
      ]
     },
     "execution_count": 24,
     "metadata": {},
     "output_type": "execute_result"
    }
   ],
   "source": [
    "np.unique(rgen.rvs(1000), return_counts=True)"
   ]
  },
  {
   "cell_type": "code",
   "execution_count": 25,
   "metadata": {
    "colab": {
     "base_uri": "https://localhost:8080/"
    },
    "executionInfo": {
     "elapsed": 345,
     "status": "ok",
     "timestamp": 1644911077500,
     "user": {
      "displayName": "차세대컴퓨터시스템연구실",
      "photoUrl": "https://lh3.googleusercontent.com/a/default-user=s64",
      "userId": "00707404389080078471"
     },
     "user_tz": -540
    },
    "id": "bGhshTn0IjkI",
    "outputId": "4736c5c1-a859-433a-8239-2c58cacc74db"
   },
   "outputs": [
    {
     "data": {
      "text/plain": [
       "array([0.92909019, 0.54286498, 0.72455204, 0.76281113, 0.49843841,\n",
       "       0.78052978, 0.21777394, 0.11125938, 0.088838  , 0.89123118])"
      ]
     },
     "execution_count": 25,
     "metadata": {},
     "output_type": "execute_result"
    }
   ],
   "source": [
    "ugen = uniform(0, 1)\n",
    "ugen.rvs(10)"
   ]
  },
  {
   "cell_type": "code",
   "execution_count": 26,
   "metadata": {
    "executionInfo": {
     "elapsed": 528,
     "status": "ok",
     "timestamp": 1644911080147,
     "user": {
      "displayName": "차세대컴퓨터시스템연구실",
      "photoUrl": "https://lh3.googleusercontent.com/a/default-user=s64",
      "userId": "00707404389080078471"
     },
     "user_tz": -540
    },
    "id": "irDX9e6WYTIH"
   },
   "outputs": [],
   "source": [
    "params = {'min_impurity_decrease': uniform(0.0001, 0.001),\n",
    "          'max_depth': randint(20, 50),\n",
    "          'min_samples_split': randint(2, 25),\n",
    "          'min_samples_leaf': randint(1, 25),\n",
    "          }"
   ]
  },
  {
   "cell_type": "code",
   "execution_count": 27,
   "metadata": {
    "colab": {
     "base_uri": "https://localhost:8080/"
    },
    "executionInfo": {
     "elapsed": 2758,
     "status": "ok",
     "timestamp": 1644911085001,
     "user": {
      "displayName": "차세대컴퓨터시스템연구실",
      "photoUrl": "https://lh3.googleusercontent.com/a/default-user=s64",
      "userId": "00707404389080078471"
     },
     "user_tz": -540
    },
    "id": "Wc4OIingWQCK",
    "outputId": "59de8a20-ab9c-4798-f341-876cc371d03f"
   },
   "outputs": [
    {
     "data": {
      "text/plain": [
       "RandomizedSearchCV(estimator=DecisionTreeClassifier(random_state=42),\n",
       "                   n_iter=100, n_jobs=-1,\n",
       "                   param_distributions={'max_depth': <scipy.stats._distn_infrastructure.rv_frozen object at 0x7f272b539590>,\n",
       "                                        'min_impurity_decrease': <scipy.stats._distn_infrastructure.rv_frozen object at 0x7f2729ba67d0>,\n",
       "                                        'min_samples_leaf': <scipy.stats._distn_infrastructure.rv_frozen object at 0x7f2729d3cd50>,\n",
       "                                        'min_samples_split': <scipy.stats._distn_infrastructure.rv_frozen object at 0x7f272b22ef90>},\n",
       "                   random_state=42)"
      ]
     },
     "execution_count": 27,
     "metadata": {},
     "output_type": "execute_result"
    }
   ],
   "source": [
    "from sklearn.model_selection import RandomizedSearchCV\n",
    "\n",
    "gs = RandomizedSearchCV(DecisionTreeClassifier(random_state=42), params, \n",
    "                        n_iter=100, n_jobs=-1, random_state=42)\n",
    "gs.fit(train_input, train_target)"
   ]
  },
  {
   "cell_type": "code",
   "execution_count": 28,
   "metadata": {
    "colab": {
     "base_uri": "https://localhost:8080/"
    },
    "executionInfo": {
     "elapsed": 5,
     "status": "ok",
     "timestamp": 1644911112998,
     "user": {
      "displayName": "차세대컴퓨터시스템연구실",
      "photoUrl": "https://lh3.googleusercontent.com/a/default-user=s64",
      "userId": "00707404389080078471"
     },
     "user_tz": -540
    },
    "id": "p7IbsGH3ZSv-",
    "outputId": "597e9b8a-000a-4e32-cbbf-5d1c02ce2425"
   },
   "outputs": [
    {
     "name": "stdout",
     "output_type": "stream",
     "text": [
      "{'max_depth': 39, 'min_impurity_decrease': 0.00034102546602601173, 'min_samples_leaf': 7, 'min_samples_split': 13}\n"
     ]
    }
   ],
   "source": [
    "print(gs.best_params_)"
   ]
  },
  {
   "cell_type": "code",
   "execution_count": 29,
   "metadata": {
    "colab": {
     "base_uri": "https://localhost:8080/"
    },
    "executionInfo": {
     "elapsed": 338,
     "status": "ok",
     "timestamp": 1644911115285,
     "user": {
      "displayName": "차세대컴퓨터시스템연구실",
      "photoUrl": "https://lh3.googleusercontent.com/a/default-user=s64",
      "userId": "00707404389080078471"
     },
     "user_tz": -540
    },
    "id": "dYI3HwMQbtnr",
    "outputId": "a5965949-089d-4e24-cd32-c227f937a536"
   },
   "outputs": [
    {
     "name": "stdout",
     "output_type": "stream",
     "text": [
      "0.8695428296438884\n"
     ]
    }
   ],
   "source": [
    "print(np.max(gs.cv_results_['mean_test_score']))"
   ]
  },
  {
   "cell_type": "code",
   "execution_count": 30,
   "metadata": {
    "colab": {
     "base_uri": "https://localhost:8080/"
    },
    "executionInfo": {
     "elapsed": 341,
     "status": "ok",
     "timestamp": 1644911118511,
     "user": {
      "displayName": "차세대컴퓨터시스템연구실",
      "photoUrl": "https://lh3.googleusercontent.com/a/default-user=s64",
      "userId": "00707404389080078471"
     },
     "user_tz": -540
    },
    "id": "3QV7yRpidByf",
    "outputId": "5437a92f-86db-49bd-b34a-881ad50e5178"
   },
   "outputs": [
    {
     "name": "stdout",
     "output_type": "stream",
     "text": [
      "0.86\n"
     ]
    }
   ],
   "source": [
    "dt = gs.best_estimator_\n",
    "\n",
    "print(dt.score(test_input, test_target))"
   ]
  },
  {
   "cell_type": "markdown",
   "metadata": {
    "id": "cA42IsMdhgE7"
   },
   "source": [
    "## 확인문제"
   ]
  },
  {
   "cell_type": "code",
   "execution_count": 31,
   "metadata": {
    "colab": {
     "base_uri": "https://localhost:8080/"
    },
    "executionInfo": {
     "elapsed": 1741,
     "status": "ok",
     "timestamp": 1644911138685,
     "user": {
      "displayName": "차세대컴퓨터시스템연구실",
      "photoUrl": "https://lh3.googleusercontent.com/a/default-user=s64",
      "userId": "00707404389080078471"
     },
     "user_tz": -540
    },
    "id": "8qxg36iThiUm",
    "outputId": "eb26be43-2d59-4847-bc96-bd6ff26dcfa0"
   },
   "outputs": [
    {
     "data": {
      "text/plain": [
       "RandomizedSearchCV(estimator=DecisionTreeClassifier(random_state=42,\n",
       "                                                    splitter='random'),\n",
       "                   n_iter=100, n_jobs=-1,\n",
       "                   param_distributions={'max_depth': <scipy.stats._distn_infrastructure.rv_frozen object at 0x7f272b539590>,\n",
       "                                        'min_impurity_decrease': <scipy.stats._distn_infrastructure.rv_frozen object at 0x7f2729ba67d0>,\n",
       "                                        'min_samples_leaf': <scipy.stats._distn_infrastructure.rv_frozen object at 0x7f2729d3cd50>,\n",
       "                                        'min_samples_split': <scipy.stats._distn_infrastructure.rv_frozen object at 0x7f272b22ef90>},\n",
       "                   random_state=42)"
      ]
     },
     "execution_count": 31,
     "metadata": {},
     "output_type": "execute_result"
    }
   ],
   "source": [
    "gs = RandomizedSearchCV(DecisionTreeClassifier(splitter='random', random_state=42), params, \n",
    "                        n_iter=100, n_jobs=-1, random_state=42)\n",
    "gs.fit(train_input, train_target)"
   ]
  },
  {
   "cell_type": "code",
   "execution_count": 32,
   "metadata": {
    "colab": {
     "base_uri": "https://localhost:8080/"
    },
    "executionInfo": {
     "elapsed": 340,
     "status": "ok",
     "timestamp": 1644911144063,
     "user": {
      "displayName": "차세대컴퓨터시스템연구실",
      "photoUrl": "https://lh3.googleusercontent.com/a/default-user=s64",
      "userId": "00707404389080078471"
     },
     "user_tz": -540
    },
    "id": "CMZ4UE8ihqwg",
    "outputId": "f864a795-4553-423a-d61a-71cd152925a7"
   },
   "outputs": [
    {
     "name": "stdout",
     "output_type": "stream",
     "text": [
      "{'max_depth': 43, 'min_impurity_decrease': 0.00011407982271508446, 'min_samples_leaf': 19, 'min_samples_split': 18}\n",
      "0.8458726956392981\n",
      "0.786923076923077\n"
     ]
    }
   ],
   "source": [
    "print(gs.best_params_)\n",
    "print(np.max(gs.cv_results_['mean_test_score']))\n",
    "\n",
    "dt = gs.best_estimator_\n",
    "print(dt.score(test_input, test_target))"
   ]
  }
 ],
 "metadata": {
  "colab": {
   "collapsed_sections": [],
   "name": "5-2.ipynb",
   "provenance": []
  },
  "kernelspec": {
   "display_name": "Python 3 (ipykernel)",
   "language": "python",
   "name": "python3"
  },
  "language_info": {
   "codemirror_mode": {
    "name": "ipython",
    "version": 3
   },
   "file_extension": ".py",
   "mimetype": "text/x-python",
   "name": "python",
   "nbconvert_exporter": "python",
   "pygments_lexer": "ipython3",
   "version": "3.7.13"
  }
 },
 "nbformat": 4,
 "nbformat_minor": 1
}

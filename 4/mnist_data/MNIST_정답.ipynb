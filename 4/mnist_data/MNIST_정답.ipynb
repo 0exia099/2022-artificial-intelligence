{
  "nbformat": 4,
  "nbformat_minor": 0,
  "metadata": {
    "kernelspec": {
      "display_name": "TensorFlow 2.3 on Python 3.6 (CUDA 10.1)",
      "language": "python",
      "name": "python3"
    },
    "language_info": {
      "codemirror_mode": {
        "name": "ipython",
        "version": 3
      },
      "file_extension": ".py",
      "mimetype": "text/x-python",
      "name": "python",
      "nbconvert_exporter": "python",
      "pygments_lexer": "ipython3",
      "version": "3.6.9"
    },
    "colab": {
      "name": "MNIST_정답.ipynb",
      "provenance": [],
      "collapsed_sections": []
    },
    "accelerator": "TPU",
    "gpuClass": "standard"
  },
  "cells": [
    {
      "cell_type": "markdown",
      "metadata": {
        "id": "VsZV03UD5Qb5"
      },
      "source": [
        "# 합성곱 신경망을 사용한 이미지 분류"
      ]
    },
    {
      "cell_type": "markdown",
      "metadata": {
        "id": "MiG7uEQF5QcA"
      },
      "source": [
        "<table align=\"left\">\n",
        "  <td>\n",
        "    <a target=\"_blank\" href=\"https://colab.research.google.com/github/rickiepark/hg-mldl/blob/master/8-2.ipynb\"><img src=\"https://www.tensorflow.org/images/colab_logo_32px.png\" />구글 코랩에서 실행하기</a>\n",
        "  </td>\n",
        "</table>"
      ]
    },
    {
      "cell_type": "markdown",
      "metadata": {
        "id": "TpIIAufevWMJ"
      },
      "source": [
        "#수업시간에 배운 CNN을 이용하여 이미지를 분류해 보자!!!\n",
        "\n",
        "\n",
        "데이터 셋 정보: http://yann.lecun.com/exdb/mnist/"
      ]
    },
    {
      "cell_type": "markdown",
      "metadata": {
        "id": "fQSb0wK85QcA"
      },
      "source": [
        "## MNIST 데이터 셋 읽어오기"
      ]
    },
    {
      "cell_type": "code",
      "metadata": {
        "id": "BGJBttQs5QcA",
        "colab": {
          "base_uri": "https://localhost:8080/"
        },
        "outputId": "40ff82f9-c2f2-4648-ca50-507418c2e7e7"
      },
      "source": [
        "from tensorflow import keras\n",
        "from sklearn.model_selection import train_test_split\n",
        "import numpy as np\n",
        "import matplotlib.pyplot as plt\n",
        "\n",
        "\n",
        "\n",
        "(train_input, train_target), (test_input, test_target) = \\\n",
        "    keras.datasets.mnist.load_data()\n"
      ],
      "execution_count": 1,
      "outputs": [
        {
          "output_type": "stream",
          "name": "stdout",
          "text": [
            "Downloading data from https://storage.googleapis.com/tensorflow/tf-keras-datasets/mnist.npz\n",
            "11490434/11490434 [==============================] - 0s 0us/step\n"
          ]
        }
      ]
    },
    {
      "cell_type": "markdown",
      "metadata": {
        "id": "wdB_26i5ialq"
      },
      "source": [
        "##로드한 데이터의 shape을 확인하시오 (샘플 수: 60000, 28 x 28).\n",
        "##데이터 셋의 클래스 수를 확인하시오 (numpy unique() 활용 - 7일차 교육 MNIST 실습의 데이터 준비 슬라이드 참고)"
      ]
    },
    {
      "cell_type": "code",
      "metadata": {
        "colab": {
          "base_uri": "https://localhost:8080/"
        },
        "id": "zsMU5_gfiVYJ",
        "outputId": "663642fe-f5ca-444b-a1a8-1604b207934d"
      },
      "source": [
        "print(train_input.shape)\n",
        "print(np.unique(train_target))"
      ],
      "execution_count": 2,
      "outputs": [
        {
          "output_type": "stream",
          "name": "stdout",
          "text": [
            "(60000, 28, 28)\n",
            "[0 1 2 3 4 5 6 7 8 9]\n"
          ]
        }
      ]
    },
    {
      "cell_type": "markdown",
      "metadata": {
        "id": "gPnsEbQgiGpR"
      },
      "source": [
        "## 이미지에 깊이 1을 추가하고, 픽셀값을 0~1값으로 정규화하시오\n"
      ]
    },
    {
      "cell_type": "code",
      "metadata": {
        "id": "Vidbah1lg9da"
      },
      "source": [
        "train_scaled = train_input.reshape(-1, 28, 28, 1) / 255.0"
      ],
      "execution_count": 3,
      "outputs": []
    },
    {
      "cell_type": "markdown",
      "metadata": {
        "id": "Xgk3xLuTivWj"
      },
      "source": [
        "##데이터 세트를 훈련데이터 (80%)와 검증세트로 분리하시오"
      ]
    },
    {
      "cell_type": "code",
      "metadata": {
        "id": "tL5LSy-MiwRh"
      },
      "source": [
        "train_scaled, val_scaled, train_target, val_target = train_test_split(\n",
        "    train_scaled, train_target, test_size=0.2, random_state=42)"
      ],
      "execution_count": 4,
      "outputs": []
    },
    {
      "cell_type": "markdown",
      "metadata": {
        "id": "fKb9dsbniF5H"
      },
      "source": [
        "#분류가 잘 되었는지 확인하시오 (훈련 세트 = 48000, 검증세트 = 12000)"
      ]
    },
    {
      "cell_type": "code",
      "metadata": {
        "colab": {
          "base_uri": "https://localhost:8080/"
        },
        "id": "oc0FkyJTgJD6",
        "outputId": "86a5c622-e250-4fb4-eac5-9c27e15a6938"
      },
      "source": [
        "print(train_scaled.shape)"
      ],
      "execution_count": 5,
      "outputs": [
        {
          "output_type": "stream",
          "name": "stdout",
          "text": [
            "(48000, 28, 28, 1)\n"
          ]
        }
      ]
    },
    {
      "cell_type": "markdown",
      "metadata": {
        "id": "enGr7A9ijGY8"
      },
      "source": [
        "## matplotlib의 imshow() 메소드를 사용하여 정규화된 훈련세트의 5번째 인덱스의 이미지를 color bar와 함께 출력하시오. "
      ]
    },
    {
      "cell_type": "code",
      "metadata": {
        "colab": {
          "base_uri": "https://localhost:8080/",
          "height": 269
        },
        "id": "kh_66oiXgT-1",
        "outputId": "cc8bc628-ed12-4583-8ab5-25dc202b410d"
      },
      "source": [
        "import matplotlib.pyplot as plt\n",
        "plt.imshow(train_scaled[5].reshape(28,28), cmap=\"gray_r\") #변수명은 변경 가능\n",
        "plt.colorbar()\n",
        "plt.show()"
      ],
      "execution_count": 6,
      "outputs": [
        {
          "output_type": "display_data",
          "data": {
            "text/plain": [
              "<Figure size 432x288 with 2 Axes>"
            ],
            "image/png": "[encoded data removed]"
          },
          "metadata": {
            "needs_background": "light"
          }
        }
      ]
    },
    {
      "cell_type": "markdown",
      "metadata": {
        "id": "Y4m7l2115QcB"
      },
      "source": [
        "## 합성곱 신경망 만들기"
      ]
    },
    {
      "cell_type": "code",
      "metadata": {
        "id": "wubmkM6q5QcB"
      },
      "source": [
        "model = keras.Sequential()"
      ],
      "execution_count": 7,
      "outputs": []
    },
    {
      "cell_type": "markdown",
      "metadata": {
        "id": "e9yvL06sjfXk"
      },
      "source": [
        "##첫번째 합성곱 층을 생성후 모델에 추가하시오.\n",
        "필터 수: 32개\\\n",
        "필터 (커널) 사이즈: 3 x 3 x 1\\\n",
        "활성화 함수: ReLU\\\n",
        "패딩: same padding\\\n",
        "stride: 1\\\n",
        "input_shape는 데이터 특성에 맞게 지정"
      ]
    },
    {
      "cell_type": "code",
      "metadata": {
        "id": "fcuXinil5QcB"
      },
      "source": [
        "model.add(keras.layers.Conv2D(32, kernel_size=3, activation='relu', \n",
        "                              padding='same', input_shape=(28,28,1)))"
      ],
      "execution_count": 8,
      "outputs": []
    },
    {
      "cell_type": "markdown",
      "metadata": {
        "id": "X7k5QVzikIJH"
      },
      "source": [
        "## 2x2 최대 풀링 (max pooling) 층을 추가하시오"
      ]
    },
    {
      "cell_type": "code",
      "metadata": {
        "id": "ddZAIUwJ5QcB"
      },
      "source": [
        "model.add(keras.layers.MaxPooling2D(2))"
      ],
      "execution_count": 9,
      "outputs": []
    },
    {
      "cell_type": "markdown",
      "metadata": {
        "id": "z6xxkMhKkSmV"
      },
      "source": [
        "##두번째 합성곱 층을 생성 후 모델에 추가하시오\n",
        "필터 수: 64개\\\n",
        "필터 (커널) 사이즈: 3 x 3 x 32\\\n",
        "활성화 함수: ReLU\\\n",
        "패딩: same padding\\\n",
        "stride: 1"
      ]
    },
    {
      "cell_type": "code",
      "metadata": {
        "id": "6NbO08605QcC"
      },
      "source": [
        "model.add(keras.layers.Conv2D(64, kernel_size=(3,3), activation='relu', \n",
        "                              padding='same'))"
      ],
      "execution_count": 10,
      "outputs": []
    },
    {
      "cell_type": "markdown",
      "metadata": {
        "id": "NZlCRKk4kY0-"
      },
      "source": [
        "## 2x2 최대 풀링 (max pooling) 층을 추가하시오.\n",
        "stride: 2"
      ]
    },
    {
      "cell_type": "code",
      "metadata": {
        "id": "c0DNfw7hkX_C"
      },
      "source": [
        "model.add(keras.layers.MaxPooling2D(2))"
      ],
      "execution_count": 11,
      "outputs": []
    },
    {
      "cell_type": "markdown",
      "metadata": {
        "id": "hI85QelAkwRq"
      },
      "source": [
        "## Flatten 층을 추가하고, 출력을 위한 Dense 층 두개를 추가하시오.\n",
        "## 첫번째 Dense 층 이후에 Dropout 층을 추가하시오 (Dropout율: 30%) \n",
        "첫번째 Dense 층의 뉴런 갯수: 100개\\\n",
        "첫번째 Dense 층의 활성화 함수: ReLU\\\n",
        "두번째 Dense 층의 뉴런 갯수: 데이터 특성에 맞게 설정\\\n",
        "두번째 Dense 층의 활성화 함수: Softmax\n"
      ]
    },
    {
      "cell_type": "code",
      "metadata": {
        "id": "sxlx0yyS5QcC"
      },
      "source": [
        "model.add(keras.layers.Flatten())\n",
        "model.add(keras.layers.Dense(100, activation='relu'))\n",
        "model.add(keras.layers.Dropout(0.3))\n",
        "model.add(keras.layers.Dense(10, activation='softmax'))"
      ],
      "execution_count": 12,
      "outputs": []
    },
    {
      "cell_type": "markdown",
      "metadata": {
        "id": "kmSRg6bJnxU6"
      },
      "source": [
        "##model.summary()를 사용하여 모델이 잘 구성되었는지 확인"
      ]
    },
    {
      "cell_type": "code",
      "metadata": {
        "id": "1CFKlE-B5QcC",
        "colab": {
          "base_uri": "https://localhost:8080/"
        },
        "outputId": "68d2c161-da0d-49b6-cf99-a41acab2efe6"
      },
      "source": [
        "model.summary()"
      ],
      "execution_count": 13,
      "outputs": [
        {
          "output_type": "stream",
          "name": "stdout",
          "text": [
            "Model: \"sequential\"\n",
            "_________________________________________________________________\n",
            " Layer (type)                Output Shape              Param #   \n",
            "=================================================================\n",
            " conv2d (Conv2D)             (None, 28, 28, 32)        320       \n",
            "                                                                 \n",
            " max_pooling2d (MaxPooling2D  (None, 14, 14, 32)       0         \n",
            " )                                                               \n",
            "                                                                 \n",
            " conv2d_1 (Conv2D)           (None, 14, 14, 64)        18496     \n",
            "                                                                 \n",
            " max_pooling2d_1 (MaxPooling  (None, 7, 7, 64)         0         \n",
            " 2D)                                                             \n",
            "                                                                 \n",
            " flatten (Flatten)           (None, 3136)              0         \n",
            "                                                                 \n",
            " dense (Dense)               (None, 100)               313700    \n",
            "                                                                 \n",
            " dropout (Dropout)           (None, 100)               0         \n",
            "                                                                 \n",
            " dense_1 (Dense)             (None, 10)                1010      \n",
            "                                                                 \n",
            "=================================================================\n",
            "Total params: 333,526\n",
            "Trainable params: 333,526\n",
            "Non-trainable params: 0\n",
            "_________________________________________________________________\n"
          ]
        }
      ]
    },
    {
      "cell_type": "markdown",
      "metadata": {
        "id": "lTs-Kqz5os1Q"
      },
      "source": [
        "##utils.plot_model()을 사용하여 모델이 잘 구성되었는지 확인"
      ]
    },
    {
      "cell_type": "code",
      "metadata": {
        "id": "uO2xZfrF5QcD",
        "colab": {
          "base_uri": "https://localhost:8080/",
          "height": 856
        },
        "outputId": "05361600-b615-4057-f37f-2c4335e0b8f8"
      },
      "source": [
        "keras.utils.plot_model(model)"
      ],
      "execution_count": 14,
      "outputs": [
        {
          "output_type": "execute_result",
          "data": {
            "image/png": "[encoded data removed]",
            "text/plain": [
              "<IPython.core.display.Image object>"
            ]
          },
          "metadata": {},
          "execution_count": 14
        }
      ]
    },
    {
      "cell_type": "markdown",
      "metadata": {
        "id": "7sO3by845QcE"
      },
      "source": [
        "## 모델 컴파일과 훈련\n",
        "optimizer: adam\\\n",
        "손실함수: 다중분류를 위한 함수로 지정\\\n",
        "accuracy 메트릭 추가"
      ]
    },
    {
      "cell_type": "code",
      "metadata": {
        "id": "Msys0HQp5QcE"
      },
      "source": [
        "model.compile(optimizer='adam', loss='sparse_categorical_crossentropy', \n",
        "              metrics='accuracy')\n"
      ],
      "execution_count": 15,
      "outputs": []
    },
    {
      "cell_type": "markdown",
      "metadata": {
        "id": "Mj-qRH6UpXAv"
      },
      "source": [
        "## ModelCheckPoint 콜백 및 Early_stopping 콜백 사용을 사용하여 최적의 모델을 찾고 저장하시오.\n",
        "##에포크는 적당히 큰 값으로 설정 (예: 30)\n",
        "## patience: 2"
      ]
    },
    {
      "cell_type": "code",
      "metadata": {
        "colab": {
          "base_uri": "https://localhost:8080/"
        },
        "id": "YHHkTF1h969M",
        "outputId": "fab59f29-69f0-4028-bb19-9be586e7c85e"
      },
      "source": [
        "\n",
        "checkpoint_cb = keras.callbacks.ModelCheckpoint('best-cnn-model.h5', \n",
        "                                                save_best_only=True)\n",
        "early_stopping_cb = keras.callbacks.EarlyStopping(patience=2,\n",
        "                                                  restore_best_weights=True)\n",
        "\n",
        "history = model.fit(train_scaled, train_target, epochs=20,\n",
        "                    validation_data=(val_scaled, val_target),\n",
        "                    callbacks=[checkpoint_cb, early_stopping_cb])"
      ],
      "execution_count": 16,
      "outputs": [
        {
          "output_type": "stream",
          "name": "stdout",
          "text": [
            "Epoch 1/20\n",
            "1500/1500 [==============================] - 77s 50ms/step - loss: 0.2019 - accuracy: 0.9388 - val_loss: 0.0565 - val_accuracy: 0.9843\n",
            "Epoch 2/20\n",
            "1500/1500 [==============================] - 70s 47ms/step - loss: 0.0731 - accuracy: 0.9782 - val_loss: 0.0438 - val_accuracy: 0.9877\n",
            "Epoch 3/20\n",
            "1500/1500 [==============================] - 69s 46ms/step - loss: 0.0532 - accuracy: 0.9841 - val_loss: 0.0368 - val_accuracy: 0.9890\n",
            "Epoch 4/20\n",
            "1500/1500 [==============================] - 69s 46ms/step - loss: 0.0404 - accuracy: 0.9875 - val_loss: 0.0428 - val_accuracy: 0.9891\n",
            "Epoch 5/20\n",
            "1500/1500 [==============================] - 69s 46ms/step - loss: 0.0322 - accuracy: 0.9897 - val_loss: 0.0361 - val_accuracy: 0.9897\n",
            "Epoch 6/20\n",
            "1500/1500 [==============================] - 69s 46ms/step - loss: 0.0280 - accuracy: 0.9910 - val_loss: 0.0345 - val_accuracy: 0.9906\n",
            "Epoch 7/20\n",
            "1500/1500 [==============================] - 68s 46ms/step - loss: 0.0226 - accuracy: 0.9924 - val_loss: 0.0380 - val_accuracy: 0.9905\n",
            "Epoch 8/20\n",
            "1500/1500 [==============================] - 68s 46ms/step - loss: 0.0202 - accuracy: 0.9934 - val_loss: 0.0407 - val_accuracy: 0.9914\n"
          ]
        }
      ]
    },
    {
      "cell_type": "markdown",
      "metadata": {
        "id": "WIwHswz8qm-X"
      },
      "source": [
        "## matplotlib를 사용하여 학습 세트와 검증세트의 Loss율을 확인하시오."
      ]
    },
    {
      "cell_type": "code",
      "metadata": {
        "id": "1JaC-KDn5QcF",
        "colab": {
          "base_uri": "https://localhost:8080/",
          "height": 279
        },
        "outputId": "42db2476-6bc8-490f-9e61-44f19fa82596"
      },
      "source": [
        "plt.plot(history.history['loss'])\n",
        "plt.plot(history.history['val_loss'])\n",
        "plt.xlabel('epoch')\n",
        "plt.ylabel('loss')\n",
        "plt.legend(['train', 'val'])\n",
        "plt.show()"
      ],
      "execution_count": 17,
      "outputs": [
        {
          "output_type": "display_data",
          "data": {
            "text/plain": [
              "<Figure size 432x288 with 1 Axes>"
            ],
            "image/png": "[encoded data removed]"
          },
          "metadata": {
            "needs_background": "light"
          }
        }
      ]
    },
    {
      "cell_type": "markdown",
      "metadata": {
        "id": "9YLs-RdDq34t"
      },
      "source": [
        "## model.evaluate()를 사용하여 검증 세트에 대한 성능을 측정하시오"
      ]
    },
    {
      "cell_type": "code",
      "metadata": {
        "id": "W3pWBHLK5QcF",
        "colab": {
          "base_uri": "https://localhost:8080/"
        },
        "outputId": "072b01c1-999d-45dc-a6a7-8b7f4715cb10"
      },
      "source": [
        "model.evaluate(val_scaled, val_target)"
      ],
      "execution_count": 18,
      "outputs": [
        {
          "output_type": "stream",
          "name": "stdout",
          "text": [
            "375/375 [==============================] - 5s 14ms/step - loss: 0.0345 - accuracy: 0.9906\n"
          ]
        },
        {
          "output_type": "execute_result",
          "data": {
            "text/plain": [
              "[0.03446713835000992, 0.9905833601951599]"
            ]
          },
          "metadata": {},
          "execution_count": 18
        }
      ]
    },
    {
      "cell_type": "markdown",
      "metadata": {
        "id": "1uBrYDK2rU-j"
      },
      "source": [
        "##검증세트의 두번째 (인덱스 1) 이미지 출력"
      ]
    },
    {
      "cell_type": "code",
      "metadata": {
        "id": "a9wUbDQL5QcG",
        "colab": {
          "base_uri": "https://localhost:8080/",
          "height": 269
        },
        "outputId": "f47dc09a-2d34-4e42-c314-3b422f91ad8f"
      },
      "source": [
        "plt.imshow(val_scaled[1].reshape(28,28), cmap='gray_r')\n",
        "plt.colorbar()\n",
        "plt.show()"
      ],
      "execution_count": 19,
      "outputs": [
        {
          "output_type": "display_data",
          "data": {
            "text/plain": [
              "<Figure size 432x288 with 2 Axes>"
            ],
            "image/png": "[encoded data removed]"
          },
          "metadata": {
            "needs_background": "light"
          }
        }
      ]
    },
    {
      "cell_type": "markdown",
      "metadata": {
        "id": "BeZTLqEMtp-3"
      },
      "source": [
        "## 검증세트 두번째 (인덱스 1) 샘플의 예측결과를 확인"
      ]
    },
    {
      "cell_type": "code",
      "metadata": {
        "scrolled": true,
        "id": "nRe6TDpw5QcG",
        "colab": {
          "base_uri": "https://localhost:8080/"
        },
        "outputId": "2afd1c79-b6af-4849-cb5f-266141f78775"
      },
      "source": [
        "preds = model.predict(val_scaled[1:2])\n",
        "print(preds)"
      ],
      "execution_count": 20,
      "outputs": [
        {
          "output_type": "stream",
          "name": "stdout",
          "text": [
            "1/1 [==============================] - 0s 101ms/step\n",
            "[[2.08416574e-12 3.49166279e-10 1.00185950e-07 9.99999762e-01\n",
            "  7.96956164e-12 5.74482826e-08 1.00682885e-14 5.98464434e-09\n",
            "  2.31943775e-09 6.15213196e-08]]\n"
          ]
        }
      ]
    },
    {
      "cell_type": "markdown",
      "metadata": {
        "id": "42edfvKLtyRW"
      },
      "source": [
        "## 위 예측결과를 그래프로 출력 후 확인"
      ]
    },
    {
      "cell_type": "code",
      "metadata": {
        "id": "bOBfv6De5QcG",
        "colab": {
          "base_uri": "https://localhost:8080/",
          "height": 279
        },
        "outputId": "0c9bca81-031a-469f-aa20-5f90b78dbf74"
      },
      "source": [
        "plt.bar(range(1, 11), preds[0])\n",
        "plt.xlabel('class')\n",
        "plt.ylabel('prob.')\n",
        "plt.show()"
      ],
      "execution_count": 21,
      "outputs": [
        {
          "output_type": "display_data",
          "data": {
            "text/plain": [
              "<Figure size 432x288 with 1 Axes>"
            ],
            "image/png": "[encoded data removed]"
          },
          "metadata": {
            "needs_background": "light"
          }
        }
      ]
    },
    {
      "cell_type": "code",
      "metadata": {
        "id": "917fZGHu5QcG"
      },
      "source": [
        "classes = ['Zero', 'One', 'Two', 'Three', 'Four', 'Five',\n",
        "           'Six', 'Seven', 'Eight', 'Nine']"
      ],
      "execution_count": 22,
      "outputs": []
    },
    {
      "cell_type": "code",
      "metadata": {
        "id": "h1JqgKgk5QcH",
        "colab": {
          "base_uri": "https://localhost:8080/"
        },
        "outputId": "2c3bdb9f-cd92-4771-f2da-93b6e2647610"
      },
      "source": [
        "import numpy as np\n",
        "print(classes[np.argmax(preds)])"
      ],
      "execution_count": 23,
      "outputs": [
        {
          "output_type": "stream",
          "name": "stdout",
          "text": [
            "Three\n"
          ]
        }
      ]
    },
    {
      "cell_type": "markdown",
      "metadata": {
        "id": "GNAS06H0uoLV"
      },
      "source": [
        "##테스트 세트에 대한 성능을 평가해보자 (evaluate() 사용)"
      ]
    },
    {
      "cell_type": "code",
      "metadata": {
        "id": "G2ihSV-l5QcH"
      },
      "source": [
        "test_scaled = test_input.reshape(-1, 28, 28, 1) / 255.0"
      ],
      "execution_count": 24,
      "outputs": []
    },
    {
      "cell_type": "code",
      "metadata": {
        "id": "1AHKDd2U5QcH",
        "colab": {
          "base_uri": "https://localhost:8080/"
        },
        "outputId": "bd19283f-d943-46fd-cc06-ed65f1e970fd"
      },
      "source": [
        "model.evaluate(test_scaled, test_target)"
      ],
      "execution_count": 25,
      "outputs": [
        {
          "output_type": "stream",
          "name": "stdout",
          "text": [
            "313/313 [==============================] - 4s 14ms/step - loss: 0.0270 - accuracy: 0.9912\n"
          ]
        },
        {
          "output_type": "execute_result",
          "data": {
            "text/plain": [
              "[0.027043549343943596, 0.9911999702453613]"
            ]
          },
          "metadata": {},
          "execution_count": 25
        }
      ]
    }
  ]
}
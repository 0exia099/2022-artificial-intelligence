{
 "cells": [
  {
   "cell_type": "code",
   "execution_count": 1,
   "id": "45fd76bc",
   "metadata": {},
   "outputs": [
    {
     "name": "stdout",
     "output_type": "stream",
     "text": [
      "hello, world\n"
     ]
    }
   ],
   "source": [
    "print(\"hello, world\")"
   ]
  },
  {
   "cell_type": "code",
   "execution_count": 5,
   "id": "689b1223",
   "metadata": {},
   "outputs": [
    {
     "data": {
      "text/plain": [
       "7"
      ]
     },
     "execution_count": 5,
     "metadata": {},
     "output_type": "execute_result"
    }
   ],
   "source": [
    "3 + 4"
   ]
  },
  {
   "cell_type": "markdown",
   "id": "3179d59e",
   "metadata": {},
   "source": [
    "# 강의 1에서 실습한 내용들"
   ]
  },
  {
   "cell_type": "code",
   "execution_count": 6,
   "id": "93450e39",
   "metadata": {},
   "outputs": [
    {
     "data": {
      "text/plain": [
       "7"
      ]
     },
     "execution_count": 6,
     "metadata": {},
     "output_type": "execute_result"
    }
   ],
   "source": [
    "3+4"
   ]
  },
  {
   "cell_type": "code",
   "execution_count": 7,
   "id": "8e59f207",
   "metadata": {},
   "outputs": [
    {
     "data": {
      "text/plain": [
       "12"
      ]
     },
     "execution_count": 7,
     "metadata": {},
     "output_type": "execute_result"
    }
   ],
   "source": [
    "3*4"
   ]
  },
  {
   "cell_type": "code",
   "execution_count": 8,
   "id": "41538687",
   "metadata": {},
   "outputs": [
    {
     "data": {
      "text/plain": [
       "-1"
      ]
     },
     "execution_count": 8,
     "metadata": {},
     "output_type": "execute_result"
    }
   ],
   "source": [
    "3-4"
   ]
  },
  {
   "cell_type": "code",
   "execution_count": 9,
   "id": "98ee00b8",
   "metadata": {},
   "outputs": [
    {
     "data": {
      "text/plain": [
       "0.75"
      ]
     },
     "execution_count": 9,
     "metadata": {},
     "output_type": "execute_result"
    }
   ],
   "source": [
    "3/4"
   ]
  },
  {
   "cell_type": "code",
   "execution_count": 10,
   "id": "568c0297",
   "metadata": {},
   "outputs": [
    {
     "data": {
      "text/plain": [
       "3"
      ]
     },
     "execution_count": 10,
     "metadata": {},
     "output_type": "execute_result"
    }
   ],
   "source": [
    "13 // 4"
   ]
  },
  {
   "cell_type": "code",
   "execution_count": 11,
   "id": "132d4726",
   "metadata": {},
   "outputs": [
    {
     "data": {
      "text/plain": [
       "3.25"
      ]
     },
     "execution_count": 11,
     "metadata": {},
     "output_type": "execute_result"
    }
   ],
   "source": [
    "13 / 4"
   ]
  },
  {
   "cell_type": "code",
   "execution_count": 13,
   "id": "848ddaae",
   "metadata": {},
   "outputs": [
    {
     "data": {
      "text/plain": [
       "1"
      ]
     },
     "execution_count": 13,
     "metadata": {},
     "output_type": "execute_result"
    }
   ],
   "source": [
    "13 % 4"
   ]
  },
  {
   "cell_type": "code",
   "execution_count": 17,
   "id": "4bc77dad",
   "metadata": {},
   "outputs": [],
   "source": [
    "r = 3\n",
    "pi = 3.14159"
   ]
  },
  {
   "cell_type": "code",
   "execution_count": 18,
   "id": "0dc1b476",
   "metadata": {},
   "outputs": [
    {
     "name": "stdout",
     "output_type": "stream",
     "text": [
      "28.27431\n"
     ]
    }
   ],
   "source": [
    "print(pi * r ** 2)"
   ]
  },
  {
   "cell_type": "code",
   "execution_count": 19,
   "id": "ee41748a",
   "metadata": {},
   "outputs": [
    {
     "data": {
      "text/plain": [
       "81"
      ]
     },
     "execution_count": 19,
     "metadata": {},
     "output_type": "execute_result"
    }
   ],
   "source": [
    "3 ** 4"
   ]
  },
  {
   "cell_type": "code",
   "execution_count": 1,
   "id": "9c4debd9",
   "metadata": {},
   "outputs": [
    {
     "name": "stdout",
     "output_type": "stream",
     "text": [
      "입력하세요: 5\n",
      "5\n"
     ]
    }
   ],
   "source": [
    "x = input(\"입력하세요: \")\n",
    "print(x)"
   ]
  },
  {
   "cell_type": "code",
   "execution_count": null,
   "id": "e028909a",
   "metadata": {},
   "outputs": [],
   "source": [
    "d = 4\n",
    "d"
   ]
  },
  {
   "cell_type": "code",
   "execution_count": 2,
   "id": "0a2fa48b",
   "metadata": {},
   "outputs": [
    {
     "name": "stdout",
     "output_type": "stream",
     "text": [
      "314.0\n"
     ]
    }
   ],
   "source": [
    "print(3.14*10**2)"
   ]
  },
  {
   "cell_type": "code",
   "execution_count": 3,
   "id": "f541f0d2",
   "metadata": {},
   "outputs": [
    {
     "data": {
      "text/plain": [
       "314.0"
      ]
     },
     "execution_count": 3,
     "metadata": {},
     "output_type": "execute_result"
    }
   ],
   "source": [
    "3.14*10**2"
   ]
  },
  {
   "cell_type": "code",
   "execution_count": 4,
   "id": "b6708b9a",
   "metadata": {},
   "outputs": [],
   "source": [
    "import math"
   ]
  },
  {
   "cell_type": "code",
   "execution_count": 5,
   "id": "115541ae",
   "metadata": {},
   "outputs": [
    {
     "name": "stdout",
     "output_type": "stream",
     "text": [
      "2.280350850198276\n"
     ]
    }
   ],
   "source": [
    "print(math.sqrt(5.2))"
   ]
  },
  {
   "cell_type": "code",
   "execution_count": 1,
   "id": "8e934784",
   "metadata": {},
   "outputs": [
    {
     "ename": "Terminator",
     "evalue": "",
     "output_type": "error",
     "traceback": [
      "\u001b[1;31m---------------------------------------------------------------------------\u001b[0m",
      "\u001b[1;31mTerminator\u001b[0m                                Traceback (most recent call last)",
      "\u001b[1;32m<ipython-input-1-df321f3c101b>\u001b[0m in \u001b[0;36m<module>\u001b[1;34m\u001b[0m\n\u001b[0;32m     14\u001b[0m \u001b[1;33m\u001b[0m\u001b[0m\n\u001b[0;32m     15\u001b[0m \u001b[0mturtle\u001b[0m\u001b[1;33m.\u001b[0m\u001b[0mmainloop\u001b[0m\u001b[1;33m(\u001b[0m\u001b[1;33m)\u001b[0m       \u001b[1;31m# (6)\u001b[0m\u001b[1;33m\u001b[0m\u001b[1;33m\u001b[0m\u001b[0m\n\u001b[1;32m---> 16\u001b[1;33m \u001b[0mturtle\u001b[0m\u001b[1;33m.\u001b[0m\u001b[0mbye\u001b[0m\u001b[1;33m(\u001b[0m\u001b[1;33m)\u001b[0m\u001b[1;33m\u001b[0m\u001b[1;33m\u001b[0m\u001b[0m\n\u001b[0m",
      "\u001b[1;32m~\\miniconda3\\lib\\turtle.py\u001b[0m in \u001b[0;36mbye\u001b[1;34m()\u001b[0m\n",
      "\u001b[1;31mTerminator\u001b[0m: "
     ]
    }
   ],
   "source": [
    "import turtle \t\t# (1)\n",
    "\n",
    "t = turtle.Turtle() \t# (2)\n",
    "t.shape(\"turtle\") \t\t# (3)\n",
    "t.color(\"red\")\n",
    "\n",
    "t.forward(100) \t\t# (4)\n",
    "t.left(90) \t\t# (5)\n",
    "t.forward(50)\n",
    "t.left(90)\n",
    "t.fd(200)\n",
    "t.left(120)\n",
    "t.fd(150)\n",
    "\n",
    "turtle.mainloop()  \t# (6)\n",
    "turtle.bye()"
   ]
  },
  {
   "cell_type": "code",
   "execution_count": 6,
   "id": "660656d8",
   "metadata": {},
   "outputs": [
    {
     "ename": "Terminator",
     "evalue": "",
     "output_type": "error",
     "traceback": [
      "\u001b[1;31m---------------------------------------------------------------------------\u001b[0m",
      "\u001b[1;31mTerminator\u001b[0m                                Traceback (most recent call last)",
      "\u001b[1;32m<ipython-input-6-d138d174a3fe>\u001b[0m in \u001b[0;36m<module>\u001b[1;34m\u001b[0m\n\u001b[0;32m     24\u001b[0m \u001b[1;33m\u001b[0m\u001b[0m\n\u001b[0;32m     25\u001b[0m \u001b[0mturtle\u001b[0m\u001b[1;33m.\u001b[0m\u001b[0mmainloop\u001b[0m\u001b[1;33m(\u001b[0m\u001b[1;33m)\u001b[0m\u001b[1;33m\u001b[0m\u001b[1;33m\u001b[0m\u001b[0m\n\u001b[1;32m---> 26\u001b[1;33m \u001b[0mturtle\u001b[0m\u001b[1;33m.\u001b[0m\u001b[0mbye\u001b[0m\u001b[1;33m(\u001b[0m\u001b[1;33m)\u001b[0m\u001b[1;33m\u001b[0m\u001b[1;33m\u001b[0m\u001b[0m\n\u001b[0m",
      "\u001b[1;32m~\\miniconda3\\lib\\turtle.py\u001b[0m in \u001b[0;36mbye\u001b[1;34m()\u001b[0m\n",
      "\u001b[1;31mTerminator\u001b[0m: "
     ]
    }
   ],
   "source": [
    "import turtle\n",
    "\n",
    "t = turtle.Turtle()\n",
    "t.up()\n",
    "t.goto(-100,-100)\n",
    "t.down()\n",
    "t.color(\"red\")\n",
    "t.fd(200)\n",
    "t.left(72)\n",
    "t.color(\"green\")\n",
    "t.fd(200)\n",
    "t.left(72)\n",
    "t.color(\"blue\")\n",
    "t.width(3)\n",
    "t.fd(200)\n",
    "t.left(72)\n",
    "t.color(\"orange\")\n",
    "t.width(4)\n",
    "t.fd(200)\n",
    "t.left(72)\n",
    "t.color(\"purple\")\n",
    "t.fd(200)\n",
    "t.left(72)\n",
    "\n",
    "turtle.mainloop()\n",
    "turtle.bye()"
   ]
  },
  {
   "cell_type": "code",
   "execution_count": 7,
   "id": "9389c06e",
   "metadata": {},
   "outputs": [
    {
     "data": {
      "text/plain": [
       "111442737812.28842"
      ]
     },
     "execution_count": 7,
     "metadata": {},
     "output_type": "execute_result"
    }
   ],
   "source": [
    "24 * (1 + 0.06) ** 382"
   ]
  },
  {
   "cell_type": "code",
   "execution_count": 8,
   "id": "8f7fc0e2",
   "metadata": {},
   "outputs": [],
   "source": [
    "x, y = -1, 5"
   ]
  },
  {
   "cell_type": "code",
   "execution_count": 9,
   "id": "5e0068bf",
   "metadata": {},
   "outputs": [
    {
     "name": "stdout",
     "output_type": "stream",
     "text": [
      "16\n"
     ]
    }
   ],
   "source": [
    "print(x ** 2 - 3 * x * y)"
   ]
  },
  {
   "cell_type": "code",
   "execution_count": 10,
   "id": "6f488d21",
   "metadata": {},
   "outputs": [
    {
     "name": "stdout",
     "output_type": "stream",
     "text": [
      "-0.5714285714285714\n"
     ]
    }
   ],
   "source": [
    "print((x+y) / (2*x - y))"
   ]
  },
  {
   "cell_type": "code",
   "execution_count": 11,
   "id": "c50723a4",
   "metadata": {},
   "outputs": [],
   "source": [
    "import time\n"
   ]
  },
  {
   "cell_type": "code",
   "execution_count": 23,
   "id": "de748a21",
   "metadata": {},
   "outputs": [
    {
     "name": "stdout",
     "output_type": "stream",
     "text": [
      "현재 시간 = 10시 47분\n"
     ]
    }
   ],
   "source": [
    "now = int(time.time())\n",
    "hour = (now % (24 * 3600)) // 3600 + 9\n",
    "minute = ((now % (24 * 3600)) % 3600) // 60\n",
    "print(f\"현재 시간 = {hour}시 {minute}분\")"
   ]
  },
  {
   "cell_type": "code",
   "execution_count": 27,
   "id": "3744c914",
   "metadata": {},
   "outputs": [
    {
     "name": "stdout",
     "output_type": "stream",
     "text": [
      "중심점 좌표 = (3.3, 3.95)\n"
     ]
    }
   ],
   "source": [
    "x1, y1 = 5.2, 4.7\n",
    "x2, y2 = 1.4, 3.2\n",
    "\n",
    "print(f\"중심점 좌표 = ({(x1+x2)/2}, {(y1+y2)/2})\")"
   ]
  },
  {
   "cell_type": "code",
   "execution_count": 28,
   "id": "e585c32f",
   "metadata": {},
   "outputs": [
    {
     "name": "stdout",
     "output_type": "stream",
     "text": [
      "4.0853396431631\n"
     ]
    }
   ],
   "source": [
    "import math\n",
    "\n",
    "distance = math.sqrt((x2-x1)**2 + (y2-y1)**2)\n",
    "print(distance)"
   ]
  },
  {
   "cell_type": "code",
   "execution_count": 33,
   "id": "d87e4982",
   "metadata": {},
   "outputs": [
    {
     "name": "stdout",
     "output_type": "stream",
     "text": [
      "남학생과 여학생의 수를 입력하세요: 10 20\n",
      "남학생의 수:  10\n",
      "여학생의 수:  20\n"
     ]
    }
   ],
   "source": [
    "x, y = [int(a) for a in input(\"남학생과 여학생의 수를 입력하세요: \").split()]\n",
    "print(\"남학생의 수: \", x) \n",
    "print(\"여학생의 수: \", y)"
   ]
  },
  {
   "cell_type": "code",
   "execution_count": 34,
   "id": "24d64603",
   "metadata": {},
   "outputs": [
    {
     "data": {
      "text/plain": [
       "int"
      ]
     },
     "execution_count": 34,
     "metadata": {},
     "output_type": "execute_result"
    }
   ],
   "source": [
    "type(x)"
   ]
  },
  {
   "cell_type": "code",
   "execution_count": 31,
   "id": "a6b47320",
   "metadata": {},
   "outputs": [
    {
     "data": {
      "text/plain": [
       "'1020'"
      ]
     },
     "execution_count": 31,
     "metadata": {},
     "output_type": "execute_result"
    }
   ],
   "source": [
    "x + y"
   ]
  },
  {
   "cell_type": "code",
   "execution_count": 35,
   "id": "3dab9da3",
   "metadata": {},
   "outputs": [
    {
     "name": "stdout",
     "output_type": "stream",
     "text": [
      "정수를 입력하세요: 123\n",
      "123 + 123123 + 123123123 = 123246369\n"
     ]
    }
   ],
   "source": [
    "n = input(\"정수를 입력하세요: \")\n",
    "nn = n + n\n",
    "nnn = n * 3\n",
    "print(f\"{n} + {nn} + {nnn} = {int(n) + int(nn) + int(nnn)}\")"
   ]
  },
  {
   "cell_type": "code",
   "execution_count": 36,
   "id": "ce408f20",
   "metadata": {},
   "outputs": [
    {
     "name": "stdout",
     "output_type": "stream",
     "text": [
      "네자리 정수를 입력하세요: 1234\n",
      "자리수의 합 = 10\n"
     ]
    }
   ],
   "source": [
    "# 방법 1\n",
    "n = input(\"네자리 정수를 입력하세요: \")\n",
    "print(f\"자리수의 합 = {int(n[0]) + int(n[1]) + int(n[2]) + int(n[3])}\")"
   ]
  },
  {
   "cell_type": "code",
   "execution_count": 37,
   "id": "ab02003b",
   "metadata": {},
   "outputs": [
    {
     "name": "stdout",
     "output_type": "stream",
     "text": [
      "네 자리 정수를 입력하세요: 2345\n",
      "자리수의 합 = 14\n"
     ]
    }
   ],
   "source": [
    "# 방법 2\n",
    "n = int(input(\"네 자리 정수를 입력하세요: \"))\n",
    "d1000 = n // 1000\n",
    "d100 = n // 100 % 10\n",
    "d10 = n // 10 % 10\n",
    "d1 = n % 10\n",
    "print(f\"자리수의 합 = {d1000+d100+d10+d1}\")"
   ]
  },
  {
   "cell_type": "code",
   "execution_count": 38,
   "id": "30a5b718",
   "metadata": {},
   "outputs": [
    {
     "ename": "Terminator",
     "evalue": "",
     "output_type": "error",
     "traceback": [
      "\u001b[1;31m---------------------------------------------------------------------------\u001b[0m",
      "\u001b[1;31mTerminator\u001b[0m                                Traceback (most recent call last)",
      "\u001b[1;32m<ipython-input-38-b7e333d3e970>\u001b[0m in \u001b[0;36m<module>\u001b[1;34m\u001b[0m\n\u001b[0;32m     16\u001b[0m \u001b[1;33m\u001b[0m\u001b[0m\n\u001b[0;32m     17\u001b[0m \u001b[0mturtle\u001b[0m\u001b[1;33m.\u001b[0m\u001b[0mmainloop\u001b[0m\u001b[1;33m(\u001b[0m\u001b[1;33m)\u001b[0m\u001b[1;33m\u001b[0m\u001b[1;33m\u001b[0m\u001b[0m\n\u001b[1;32m---> 18\u001b[1;33m \u001b[0mturtle\u001b[0m\u001b[1;33m.\u001b[0m\u001b[0mbye\u001b[0m\u001b[1;33m(\u001b[0m\u001b[1;33m)\u001b[0m\u001b[1;33m\u001b[0m\u001b[1;33m\u001b[0m\u001b[0m\n\u001b[0m",
      "\u001b[1;32m~\\miniconda3\\lib\\turtle.py\u001b[0m in \u001b[0;36mbye\u001b[1;34m()\u001b[0m\n",
      "\u001b[1;31mTerminator\u001b[0m: "
     ]
    }
   ],
   "source": [
    "import turtle\n",
    "\n",
    "t = turtle.Turtle()\n",
    "t.color(\"red\")\n",
    "\n",
    "t.fd(200)\n",
    "t.right(144)\n",
    "t.fd(200)\n",
    "t.right(144)\n",
    "t.fd(200)\n",
    "t.right(144)\n",
    "t.fd(200)\n",
    "t.right(144)\n",
    "t.fd(200)\n",
    "t.right(144)\n",
    "\n",
    "turtle.mainloop()\n",
    "turtle.bye()"
   ]
  },
  {
   "cell_type": "code",
   "execution_count": 39,
   "id": "2c4ccfce",
   "metadata": {},
   "outputs": [
    {
     "name": "stdout",
     "output_type": "stream",
     "text": [
      "2022\n"
     ]
    }
   ],
   "source": [
    "import time\n",
    "\n",
    "now = time.localtime()\n",
    "year = now.tm_year\n",
    "print(year)"
   ]
  },
  {
   "cell_type": "code",
   "execution_count": 41,
   "id": "b129224e",
   "metadata": {},
   "outputs": [
    {
     "name": "stdout",
     "output_type": "stream",
     "text": [
      "주민번호 앞의 6자리를 입력하세요: 970915\n",
      "당신의 나이는 26세 입니다.\n"
     ]
    }
   ],
   "source": [
    "uid = int(input(\"주민번호 앞의 6자리를 입력하세요: \"))\n",
    "uyear = 1900 + uid // 10000\n",
    "print(f\"당신의 나이는 {year - uyear + 1}세 입니다.\")"
   ]
  },
  {
   "cell_type": "code",
   "execution_count": 1,
   "id": "d69d2df0",
   "metadata": {},
   "outputs": [
    {
     "name": "stdout",
     "output_type": "stream",
     "text": [
      "True\n",
      "False\n"
     ]
    }
   ],
   "source": [
    "s1 = \"Audrey Hepburn\"\n",
    "s2 = \"Audrey Hepburn\"\n",
    "print(s1 == s2)\n",
    "print(s1 is s2)"
   ]
  },
  {
   "cell_type": "code",
   "execution_count": 5,
   "id": "04f072f8",
   "metadata": {},
   "outputs": [
    {
     "name": "stdout",
     "output_type": "stream",
     "text": [
      "시간을 입력: 0030\n",
      "오전 12시 30분\n"
     ]
    }
   ],
   "source": [
    "h24 = int(input(\"시간을 입력: \"))\n",
    "hour = h24 // 100\n",
    "minute = h24 % 100\n",
    "if hour > 12:\n",
    "    print(f\"오후 {hour-12}시 {minute}분\")\n",
    "elif hour == 12:\n",
    "    print(f\"오후 12시 {minute}분\")\n",
    "elif hour > 0:\n",
    "    print(f\"오전 {hour}시 {minute}분\")\n",
    "else:\n",
    "    print(f\"오전 12시 {minute}분\")"
   ]
  },
  {
   "cell_type": "code",
   "execution_count": 10,
   "id": "91114141",
   "metadata": {},
   "outputs": [
    {
     "name": "stdout",
     "output_type": "stream",
     "text": [
      "1944660586416\n",
      "1944660567536\n"
     ]
    }
   ],
   "source": [
    "A = \"A B\"\n",
    "print(id(A))\n",
    "B = \"A B\"\n",
    "print(id(B))"
   ]
  },
  {
   "cell_type": "code",
   "execution_count": 13,
   "id": "a88e6b3c",
   "metadata": {},
   "outputs": [
    {
     "name": "stdout",
     "output_type": "stream",
     "text": [
      "연도를 입력하세요: 1100\n",
      "윤년이 아닙니다.\n"
     ]
    }
   ],
   "source": [
    "year = int(input(\"연도를 입력하세요: \"))\n",
    "if year % 400 == 0 or year % 4 == 0 and year % 100 != 0:\n",
    "    print(\"윤년입니다.\")\n",
    "else:\n",
    "    print(\"윤년이 아닙니다.\")"
   ]
  },
  {
   "cell_type": "code",
   "execution_count": 16,
   "id": "09ba0bfb",
   "metadata": {},
   "outputs": [
    {
     "name": "stdout",
     "output_type": "stream",
     "text": [
      "세 개의 실수를 입력하세요: 4.1 1.1 2.1\n",
      "제일 큰 수는 4.1\n"
     ]
    }
   ],
   "source": [
    "x, y, z = input(\"세 개의 실수를 입력하세요: \").split()\n",
    "x, y, z = float(x), float(y), float(z)\n",
    "\n",
    "if x > y:\n",
    "    if x > z:\n",
    "        print(\"제일 큰 수는\", x)\n",
    "    else:\n",
    "        print(\"제일 큰 수는\", z)\n",
    "else:   # y >= x\n",
    "    if y > z:\n",
    "        print(\"제일 큰 수는\", y)\n",
    "    else:\n",
    "        print(\"제일 큰 수는\", z)"
   ]
  },
  {
   "cell_type": "code",
   "execution_count": 17,
   "id": "f8e8b134",
   "metadata": {},
   "outputs": [
    {
     "name": "stdout",
     "output_type": "stream",
     "text": [
      "구멍 번호를 입력하세요: 11\n",
      "검정\n"
     ]
    }
   ],
   "source": [
    "hole = int(input(\"구멍 번호를 입력하세요: \"))\n",
    "if hole < 0 or hole > 36:\n",
    "    print(\"잘못된 번호입니다.\")\n",
    "elif hole == 0:\n",
    "    print(\"초록색\")\n",
    "elif hole <= 10 or 19 <= hole <= 28:\n",
    "    if hole % 2 == 1:\n",
    "        print(\"빨강\")\n",
    "    else:\n",
    "        print(\"검정\")\n",
    "else:\n",
    "    if hole % 2 == 0:\n",
    "        print(\"빨강\")\n",
    "    else:\n",
    "        print(\"검정\")"
   ]
  },
  {
   "cell_type": "code",
   "execution_count": 22,
   "id": "46412e5b",
   "metadata": {},
   "outputs": [
    {
     "name": "stdout",
     "output_type": "stream",
     "text": [
      "46.10464832285218\n"
     ]
    }
   ],
   "source": [
    "#n = int(input(\"n? \"))\n",
    "\n",
    "total = 0\n",
    "for x in range(1, 51):\n",
    "    total += (2*x - 1) / (2*x + 1)\n",
    "print(total)"
   ]
  },
  {
   "cell_type": "code",
   "execution_count": 23,
   "id": "ac0c6ab7",
   "metadata": {},
   "outputs": [
    {
     "name": "stdout",
     "output_type": "stream",
     "text": [
      "153 370 371 407 "
     ]
    }
   ],
   "source": [
    "for x in range(100, 1000):\n",
    "    d100 = x // 100\n",
    "    d10 = x // 10 % 10\n",
    "    d1 = x % 10\n",
    "    if x == d100 ** 3 + d10 ** 3 + d1 ** 3:\n",
    "        print(x, end=\" \")"
   ]
  },
  {
   "cell_type": "code",
   "execution_count": 5,
   "id": "f0cc2ea1",
   "metadata": {},
   "outputs": [
    {
     "ename": "Terminator",
     "evalue": "",
     "output_type": "error",
     "traceback": [
      "\u001b[1;31m---------------------------------------------------------------------------\u001b[0m",
      "\u001b[1;31mTerminator\u001b[0m                                Traceback (most recent call last)",
      "\u001b[1;32m<ipython-input-5-b42c06810e16>\u001b[0m in \u001b[0;36m<module>\u001b[1;34m\u001b[0m\n\u001b[0;32m     16\u001b[0m \u001b[1;33m\u001b[0m\u001b[0m\n\u001b[0;32m     17\u001b[0m \u001b[0mturtle\u001b[0m\u001b[1;33m.\u001b[0m\u001b[0mmainloop\u001b[0m\u001b[1;33m(\u001b[0m\u001b[1;33m)\u001b[0m\u001b[1;33m\u001b[0m\u001b[1;33m\u001b[0m\u001b[0m\n\u001b[1;32m---> 18\u001b[1;33m \u001b[0mturtle\u001b[0m\u001b[1;33m.\u001b[0m\u001b[0mbye\u001b[0m\u001b[1;33m(\u001b[0m\u001b[1;33m)\u001b[0m\u001b[1;33m\u001b[0m\u001b[1;33m\u001b[0m\u001b[0m\n\u001b[0m",
      "\u001b[1;32m~\\miniconda3\\lib\\turtle.py\u001b[0m in \u001b[0;36mbye\u001b[1;34m()\u001b[0m\n",
      "\u001b[1;31mTerminator\u001b[0m: "
     ]
    }
   ],
   "source": [
    "import turtle\n",
    "\n",
    "screen = turtle.Screen()\n",
    "screen.colormode(255)\n",
    "\n",
    "t = turtle.Turtle()\n",
    "t.speed(0)\n",
    "r, g, b = 255, 0, 0\n",
    "for _ in range(60):\n",
    "    t.color(r, g, b)\n",
    "    t.circle(120)\n",
    "    t.right(6)\n",
    "    r -= 4\n",
    "    g += 4\n",
    "    b += 4\n",
    "    \n",
    "turtle.mainloop()\n",
    "turtle.bye()"
   ]
  },
  {
   "cell_type": "code",
   "execution_count": 6,
   "id": "59098f48",
   "metadata": {},
   "outputs": [
    {
     "name": "stdout",
     "output_type": "stream",
     "text": [
      "성적을 입력: 90\n",
      "성적을 입력: 80\n",
      "성적을 입력: 75\n",
      "성적을 입력: 91\n",
      "성적을 입력: -1\n",
      "평균 = 84.0\n"
     ]
    }
   ],
   "source": [
    "total = number = 0\n",
    "while True:\n",
    "    grade = int(input(\"성적을 입력: \"))\n",
    "    if grade == -1:\n",
    "        break\n",
    "    else:\n",
    "        total += grade\n",
    "        number += 1\n",
    "\n",
    "print(\"평균 =\", total / number)"
   ]
  },
  {
   "cell_type": "code",
   "execution_count": 11,
   "id": "6341a44d",
   "metadata": {
    "scrolled": true
   },
   "outputs": [
    {
     "name": "stdout",
     "output_type": "stream",
     "text": [
      "붉은색 거북이가 이겼습니다.\n"
     ]
    },
    {
     "ename": "Terminator",
     "evalue": "",
     "output_type": "error",
     "traceback": [
      "\u001b[1;31m---------------------------------------------------------------------------\u001b[0m",
      "\u001b[1;31mTerminator\u001b[0m                                Traceback (most recent call last)",
      "\u001b[1;32m<ipython-input-11-80f733f807dd>\u001b[0m in \u001b[0;36m<module>\u001b[1;34m\u001b[0m\n\u001b[0;32m     39\u001b[0m \u001b[1;33m\u001b[0m\u001b[0m\n\u001b[0;32m     40\u001b[0m \u001b[0mturtle\u001b[0m\u001b[1;33m.\u001b[0m\u001b[0mmainloop\u001b[0m\u001b[1;33m(\u001b[0m\u001b[1;33m)\u001b[0m\u001b[1;33m\u001b[0m\u001b[1;33m\u001b[0m\u001b[0m\n\u001b[1;32m---> 41\u001b[1;33m \u001b[0mturtle\u001b[0m\u001b[1;33m.\u001b[0m\u001b[0mbye\u001b[0m\u001b[1;33m(\u001b[0m\u001b[1;33m)\u001b[0m\u001b[1;33m\u001b[0m\u001b[1;33m\u001b[0m\u001b[0m\n\u001b[0m",
      "\u001b[1;32m~\\miniconda3\\lib\\turtle.py\u001b[0m in \u001b[0;36mbye\u001b[1;34m()\u001b[0m\n",
      "\u001b[1;31mTerminator\u001b[0m: "
     ]
    }
   ],
   "source": [
    "import turtle\n",
    "import time\n",
    "import random\n",
    "\n",
    "blue = turtle.Turtle()\n",
    "blue.color(\"blue\")\n",
    "blue.up()\n",
    "blue.goto(300, 60)\n",
    "blue.down()\n",
    "blue.circle(40)\n",
    "blue.up()\n",
    "blue.goto(-200, 100)\n",
    "blue.down()\n",
    "\n",
    "red = turtle.Turtle()\n",
    "red.color(\"red\")\n",
    "red.shape(\"turtle\")\n",
    "red.up()\n",
    "red.goto(300, -140)\n",
    "red.down()\n",
    "red.circle(40)\n",
    "red.up()\n",
    "red.goto(-200, -100)\n",
    "red.down()\n",
    "\n",
    "while True:\n",
    "    blue.fd(random.randint(1,6) * 20)\n",
    "    red.fd(random.randint(1,6) * 20)\n",
    "    if blue.pos() >= (300, 100) or red.pos() >= (300, -100):\n",
    "        break\n",
    "    time.sleep(0.2)\n",
    "\n",
    "if blue.pos() < (300,100):\n",
    "    print(\"붉은색 거북이가 이겼습니다.\")\n",
    "elif red.pos() < (300, -100):\n",
    "    print(\"푸른색 거북이가 이겼습니다.\")\n",
    "else:\n",
    "    print(\"비겼습니다\")\n",
    "    \n",
    "turtle.mainloop()\n",
    "turtle.bye()"
   ]
  },
  {
   "cell_type": "code",
   "execution_count": 15,
   "id": "853dabe5",
   "metadata": {},
   "outputs": [
    {
     "name": "stdout",
     "output_type": "stream",
     "text": [
      "이긴 횟수 = 56\n"
     ]
    }
   ],
   "source": [
    "import random\n",
    "\n",
    "num_win = 0\n",
    "for _ in range(100):\n",
    "    money = 50\n",
    "    while money > 0 and money < 100:\n",
    "        if random.randint(1,2) == 1:\n",
    "            money += 1\n",
    "        else:\n",
    "            money -= 1\n",
    "    if money == 100:\n",
    "        num_win += 1\n",
    "print(\"이긴 횟수 =\", num_win)"
   ]
  },
  {
   "cell_type": "code",
   "execution_count": 2,
   "id": "079d9f3e",
   "metadata": {},
   "outputs": [
    {
     "ename": "Terminator",
     "evalue": "",
     "output_type": "error",
     "traceback": [
      "\u001b[1;31m---------------------------------------------------------------------------\u001b[0m",
      "\u001b[1;31mTerminator\u001b[0m                                Traceback (most recent call last)",
      "\u001b[1;32m<ipython-input-2-9882e2b74f94>\u001b[0m in \u001b[0;36m<module>\u001b[1;34m\u001b[0m\n\u001b[0;32m     10\u001b[0m \u001b[1;33m\u001b[0m\u001b[0m\n\u001b[0;32m     11\u001b[0m \u001b[0mturtle\u001b[0m\u001b[1;33m.\u001b[0m\u001b[0mmainloop\u001b[0m\u001b[1;33m(\u001b[0m\u001b[1;33m)\u001b[0m\u001b[1;33m\u001b[0m\u001b[1;33m\u001b[0m\u001b[0m\n\u001b[1;32m---> 12\u001b[1;33m \u001b[0mturtle\u001b[0m\u001b[1;33m.\u001b[0m\u001b[0mbye\u001b[0m\u001b[1;33m(\u001b[0m\u001b[1;33m)\u001b[0m\u001b[1;33m\u001b[0m\u001b[1;33m\u001b[0m\u001b[0m\n\u001b[0m",
      "\u001b[1;32m~\\miniconda3\\lib\\turtle.py\u001b[0m in \u001b[0;36mbye\u001b[1;34m()\u001b[0m\n",
      "\u001b[1;31mTerminator\u001b[0m: "
     ]
    }
   ],
   "source": [
    "import turtle\n",
    "\n",
    "t = turtle.Turtle()\n",
    "t.speed(0)\n",
    "length = 5\n",
    "for _ in range(49):\n",
    "    t.left(90)\n",
    "    t.fd(length)\n",
    "    length += 5\n",
    "    \n",
    "turtle.mainloop()\n",
    "turtle.bye()"
   ]
  },
  {
   "cell_type": "code",
   "execution_count": 4,
   "id": "8712cfa0",
   "metadata": {},
   "outputs": [
    {
     "ename": "Terminator",
     "evalue": "",
     "output_type": "error",
     "traceback": [
      "\u001b[1;31m---------------------------------------------------------------------------\u001b[0m",
      "\u001b[1;31mTerminator\u001b[0m                                Traceback (most recent call last)",
      "\u001b[1;32m<ipython-input-4-414562f84499>\u001b[0m in \u001b[0;36m<module>\u001b[1;34m\u001b[0m\n\u001b[0;32m      9\u001b[0m \u001b[1;33m\u001b[0m\u001b[0m\n\u001b[0;32m     10\u001b[0m \u001b[0mturtle\u001b[0m\u001b[1;33m.\u001b[0m\u001b[0mmainloop\u001b[0m\u001b[1;33m(\u001b[0m\u001b[1;33m)\u001b[0m\u001b[1;33m\u001b[0m\u001b[1;33m\u001b[0m\u001b[0m\n\u001b[1;32m---> 11\u001b[1;33m \u001b[0mturtle\u001b[0m\u001b[1;33m.\u001b[0m\u001b[0mbye\u001b[0m\u001b[1;33m(\u001b[0m\u001b[1;33m)\u001b[0m\u001b[1;33m\u001b[0m\u001b[1;33m\u001b[0m\u001b[0m\n\u001b[0m",
      "\u001b[1;32m~\\miniconda3\\lib\\turtle.py\u001b[0m in \u001b[0;36mbye\u001b[1;34m()\u001b[0m\n",
      "\u001b[1;31mTerminator\u001b[0m: "
     ]
    }
   ],
   "source": [
    "t = turtle.Turtle()\n",
    "t.speed(0)\n",
    "length = 0\n",
    "for _ in range(20):\n",
    "    length += 10\n",
    "    for x in range(4):\n",
    "        t.left(90)\n",
    "        t.forward(length)\n",
    "        \n",
    "turtle.mainloop()\n",
    "turtle.bye()"
   ]
  },
  {
   "cell_type": "code",
   "execution_count": 6,
   "id": "4767db18",
   "metadata": {},
   "outputs": [
    {
     "name": "stdout",
     "output_type": "stream",
     "text": [
      "n? 5\n",
      "  1   6  11  16  21 \n",
      "  2   7  12  17  22 \n",
      "  3   8  13  18  23 \n",
      "  4   9  14  19  24 \n",
      "  5  10  15  20  25 \n"
     ]
    }
   ],
   "source": [
    "n = int(input(\"n? \"))\n",
    "\n",
    "for x in range(n):\n",
    "    for y in range(n):\n",
    "        print(f\"{x + n*y + 1:3d}\", end=\" \")\n",
    "    print()"
   ]
  },
  {
   "cell_type": "code",
   "execution_count": 7,
   "id": "570a8c48",
   "metadata": {},
   "outputs": [
    {
     "name": "stdout",
     "output_type": "stream",
     "text": [
      "n? 5\n",
      "  1   2   3   4   5 \n",
      " 10   9   8   7   6 \n",
      " 11  12  13  14  15 \n",
      " 20  19  18  17  16 \n",
      " 21  22  23  24  25 \n"
     ]
    }
   ],
   "source": [
    "n = int(input(\"n? \"))\n",
    "\n",
    "for x in range(n):\n",
    "    for y in range(n):\n",
    "        if x % 2 == 0:\n",
    "            print(f\"{n*x + y + 1:3d}\", end=\" \")\n",
    "        else:\n",
    "            print(f\"{n*(x+1) - y:3d}\", end=\" \")\n",
    "    print()"
   ]
  },
  {
   "cell_type": "code",
   "execution_count": 8,
   "id": "25e2a5bc",
   "metadata": {},
   "outputs": [],
   "source": [
    "import math\n",
    "\n",
    "def get_peri(radius = 5.0):\n",
    "    return 2 * math.pi * radius"
   ]
  },
  {
   "cell_type": "code",
   "execution_count": 9,
   "id": "27d69fd5",
   "metadata": {},
   "outputs": [
    {
     "data": {
      "text/plain": [
       "31.41592653589793"
      ]
     },
     "execution_count": 9,
     "metadata": {},
     "output_type": "execute_result"
    }
   ],
   "source": [
    "get_peri()"
   ]
  },
  {
   "cell_type": "code",
   "execution_count": 10,
   "id": "2aebcf1c",
   "metadata": {},
   "outputs": [
    {
     "data": {
      "text/plain": [
       "25.132741228718345"
      ]
     },
     "execution_count": 10,
     "metadata": {},
     "output_type": "execute_result"
    }
   ],
   "source": [
    "get_peri(4.0)"
   ]
  },
  {
   "cell_type": "code",
   "execution_count": 13,
   "id": "cfb68113",
   "metadata": {},
   "outputs": [],
   "source": [
    "def max_data(*args):\n",
    "    return max(args)"
   ]
  },
  {
   "cell_type": "code",
   "execution_count": 16,
   "id": "1f5c980e",
   "metadata": {},
   "outputs": [
    {
     "data": {
      "text/plain": [
       "31"
      ]
     },
     "execution_count": 16,
     "metadata": {},
     "output_type": "execute_result"
    }
   ],
   "source": [
    "max_data(31,1,2,7,11)"
   ]
  },
  {
   "cell_type": "code",
   "execution_count": 17,
   "id": "11a88443",
   "metadata": {},
   "outputs": [],
   "source": [
    "import random\n",
    "\n",
    "S = \"abcdefghijklmnopqrstuvwxyz0123456789\"\n",
    "def otp():\n",
    "    msg = \"\"\n",
    "    for _ in range(6):\n",
    "        msg += random.choice(S)\n",
    "    return msg"
   ]
  },
  {
   "cell_type": "code",
   "execution_count": 20,
   "id": "5a68ad5f",
   "metadata": {},
   "outputs": [
    {
     "name": "stdout",
     "output_type": "stream",
     "text": [
      "n88bim\n",
      "2evuk4\n",
      "jica24\n",
      "7pom00\n",
      "xi4hiq\n"
     ]
    }
   ],
   "source": [
    "for _ in range(5):\n",
    "    print(otp())"
   ]
  },
  {
   "cell_type": "code",
   "execution_count": 21,
   "id": "b7ea09de",
   "metadata": {},
   "outputs": [],
   "source": [
    "def reverse(n):\n",
    "    rn = 0\n",
    "    while n > 0:\n",
    "        rn = rn * 10 + n % 10\n",
    "        n = n // 10\n",
    "    return rn"
   ]
  },
  {
   "cell_type": "code",
   "execution_count": 22,
   "id": "9d4659a4",
   "metadata": {},
   "outputs": [
    {
     "data": {
      "text/plain": [
       "4321"
      ]
     },
     "execution_count": 22,
     "metadata": {},
     "output_type": "execute_result"
    }
   ],
   "source": [
    "reverse(1234)"
   ]
  },
  {
   "cell_type": "code",
   "execution_count": 27,
   "id": "fb35c5d9",
   "metadata": {},
   "outputs": [
    {
     "name": "stdout",
     "output_type": "stream",
     "text": [
      "n? 194444\n",
      "194444 638935 1178771 2957482 5805074 10510159 105611660 171728161 333555332 567110665 1133122430 1475335741 \n",
      "11번 만에 회문을 생성하였습니다.\n"
     ]
    }
   ],
   "source": [
    "n = int(input(\"n? \"))\n",
    "count = 0\n",
    "while n < 2 ** 31:\n",
    "    print(n, end = \" \")\n",
    "    rn = reverse(n)\n",
    "    if n == rn:\n",
    "        print(f\"\\n{count}번 만에 회문을 생성하였습니다.\")\n",
    "        break\n",
    "    else:\n",
    "        count += 1\n",
    "        n = n + rn\n"
   ]
  },
  {
   "cell_type": "code",
   "execution_count": null,
   "id": "506d79a1",
   "metadata": {},
   "outputs": [],
   "source": []
  },
  {
   "cell_type": "code",
   "execution_count": null,
   "id": "23569e68",
   "metadata": {},
   "outputs": [],
   "source": []
  }
 ],
 "metadata": {
  "kernelspec": {
   "display_name": "Python 3",
   "language": "python",
   "name": "python3"
  },
  "language_info": {
   "codemirror_mode": {
    "name": "ipython",
    "version": 3
   },
   "file_extension": ".py",
   "mimetype": "text/x-python",
   "name": "python",
   "nbconvert_exporter": "python",
   "pygments_lexer": "ipython3",
   "version": "3.9.1"
  }
 },
 "nbformat": 4,
 "nbformat_minor": 5
}

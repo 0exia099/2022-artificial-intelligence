{
 "cells": [
  {
   "cell_type": "code",
   "execution_count": 1,
   "id": "54ed34c8",
   "metadata": {},
   "outputs": [],
   "source": [
    "def rsum(n):\n",
    "    if n == 1:\n",
    "        return 1\n",
    "    else:\n",
    "        return 1/n + rsum(n-1)"
   ]
  },
  {
   "cell_type": "code",
   "execution_count": 2,
   "id": "87d61929",
   "metadata": {},
   "outputs": [
    {
     "data": {
      "text/plain": [
       "2.9289682539682538"
      ]
     },
     "execution_count": 2,
     "metadata": {},
     "output_type": "execute_result"
    }
   ],
   "source": [
    "rsum(10)"
   ]
  },
  {
   "cell_type": "code",
   "execution_count": 5,
   "id": "69dc3e68",
   "metadata": {},
   "outputs": [],
   "source": [
    "def bcoef(n, k):\n",
    "    if k == 0 or n == k:\n",
    "        return 1\n",
    "    else:\n",
    "        return bcoef(n-1, k) + bcoef(n-1, k-1)"
   ]
  },
  {
   "cell_type": "code",
   "execution_count": 7,
   "id": "417d229c",
   "metadata": {},
   "outputs": [
    {
     "data": {
      "text/plain": [
       "3003"
      ]
     },
     "execution_count": 7,
     "metadata": {},
     "output_type": "execute_result"
    }
   ],
   "source": [
    "bcoef(15,10)"
   ]
  },
  {
   "cell_type": "code",
   "execution_count": 8,
   "id": "e5c6d6d7",
   "metadata": {},
   "outputs": [
    {
     "data": {
      "text/plain": [
       "'0b101110111011'"
      ]
     },
     "execution_count": 8,
     "metadata": {},
     "output_type": "execute_result"
    }
   ],
   "source": [
    "bin(3003)"
   ]
  },
  {
   "cell_type": "code",
   "execution_count": 9,
   "id": "8dd80e97",
   "metadata": {},
   "outputs": [],
   "source": [
    "def mybin(n):\n",
    "    if n == 1 or n == 0:\n",
    "        return str(n)\n",
    "    else:\n",
    "        return mybin(n//2) + str(n%2)"
   ]
  },
  {
   "cell_type": "code",
   "execution_count": 10,
   "id": "dbe6adc9",
   "metadata": {},
   "outputs": [
    {
     "data": {
      "text/plain": [
       "'101110111011'"
      ]
     },
     "execution_count": 10,
     "metadata": {},
     "output_type": "execute_result"
    }
   ],
   "source": [
    "mybin(3003)"
   ]
  },
  {
   "cell_type": "code",
   "execution_count": 14,
   "id": "1f1d11e7",
   "metadata": {},
   "outputs": [
    {
     "name": "stdout",
     "output_type": "stream",
     "text": [
      "[10, 20, 30, 40, 50]\n"
     ]
    }
   ],
   "source": [
    "A = [1, 2, 3, 4, 5]\n",
    "\n",
    "for i in range(len(A)):\n",
    "    A[i] *= 10\n",
    "print(A)"
   ]
  },
  {
   "cell_type": "code",
   "execution_count": 13,
   "id": "783830a4",
   "metadata": {},
   "outputs": [
    {
     "name": "stdout",
     "output_type": "stream",
     "text": [
      "[1, 2, 3, 4, 5]\n"
     ]
    }
   ],
   "source": [
    "for x in A:\n",
    "    x *= 10\n",
    "print(A)"
   ]
  },
  {
   "cell_type": "code",
   "execution_count": 15,
   "id": "442dd9a4",
   "metadata": {},
   "outputs": [
    {
     "data": {
      "text/plain": [
       "[1, 2, 4, 5, 7]"
      ]
     },
     "execution_count": 15,
     "metadata": {},
     "output_type": "execute_result"
    }
   ],
   "source": [
    "A = [1, 5, 4, 2, 7]\n",
    "sorted(A)"
   ]
  },
  {
   "cell_type": "code",
   "execution_count": 16,
   "id": "6e850690",
   "metadata": {},
   "outputs": [
    {
     "data": {
      "text/plain": [
       "[1, 5, 4, 2, 7]"
      ]
     },
     "execution_count": 16,
     "metadata": {},
     "output_type": "execute_result"
    }
   ],
   "source": [
    "A"
   ]
  },
  {
   "cell_type": "code",
   "execution_count": 17,
   "id": "20b48a55",
   "metadata": {},
   "outputs": [
    {
     "data": {
      "text/plain": [
       "[1, 2, 4, 5, 7]"
      ]
     },
     "execution_count": 17,
     "metadata": {},
     "output_type": "execute_result"
    }
   ],
   "source": [
    "A.sort()\n",
    "A"
   ]
  },
  {
   "cell_type": "code",
   "execution_count": 18,
   "id": "12193a22",
   "metadata": {},
   "outputs": [
    {
     "data": {
      "text/plain": [
       "[(0, 1), (1, 2), (2, 4), (3, 5), (4, 7)]"
      ]
     },
     "execution_count": 18,
     "metadata": {},
     "output_type": "execute_result"
    }
   ],
   "source": [
    "B = list(enumerate(A))\n",
    "B"
   ]
  },
  {
   "cell_type": "code",
   "execution_count": 26,
   "id": "6b73f1ee",
   "metadata": {},
   "outputs": [
    {
     "data": {
      "text/plain": [
       "[16, 14, 19, 3, 8, 1, 9, 7, 6, 12]"
      ]
     },
     "execution_count": 26,
     "metadata": {},
     "output_type": "execute_result"
    }
   ],
   "source": [
    "import random\n",
    "\n",
    "A = random.sample(range(1,20), 10)\n",
    "A"
   ]
  },
  {
   "cell_type": "code",
   "execution_count": 20,
   "id": "3b2fdb56",
   "metadata": {},
   "outputs": [
    {
     "data": {
      "text/plain": [
       "19"
      ]
     },
     "execution_count": 20,
     "metadata": {},
     "output_type": "execute_result"
    }
   ],
   "source": [
    "max(A)"
   ]
  },
  {
   "cell_type": "code",
   "execution_count": 21,
   "id": "bb649bdd",
   "metadata": {},
   "outputs": [
    {
     "data": {
      "text/plain": [
       "18"
      ]
     },
     "execution_count": 21,
     "metadata": {},
     "output_type": "execute_result"
    }
   ],
   "source": [
    "sorted(A)[-2]"
   ]
  },
  {
   "cell_type": "code",
   "execution_count": 27,
   "id": "5d4fc941",
   "metadata": {},
   "outputs": [
    {
     "data": {
      "text/plain": [
       "16"
      ]
     },
     "execution_count": 27,
     "metadata": {},
     "output_type": "execute_result"
    }
   ],
   "source": [
    "A.remove(max(A))\n",
    "max(A)"
   ]
  },
  {
   "cell_type": "code",
   "execution_count": 28,
   "id": "ee4e4919",
   "metadata": {},
   "outputs": [
    {
     "data": {
      "text/plain": [
       "[10.0, 9.0, 8.3, 7.1, 3.0, 9.0]"
      ]
     },
     "execution_count": 28,
     "metadata": {},
     "output_type": "execute_result"
    }
   ],
   "source": [
    "A = [10.0, 9.0, 8.3, 7.1, 3.0, 9.0]\n",
    "A"
   ]
  },
  {
   "cell_type": "code",
   "execution_count": 29,
   "id": "a71ad452",
   "metadata": {},
   "outputs": [
    {
     "data": {
      "text/plain": [
       "[9.0, 8.3, 7.1, 9.0]"
      ]
     },
     "execution_count": 29,
     "metadata": {},
     "output_type": "execute_result"
    }
   ],
   "source": [
    "A.remove(max(A))\n",
    "A.remove(min(A))\n",
    "A"
   ]
  },
  {
   "cell_type": "code",
   "execution_count": 30,
   "id": "746f6014",
   "metadata": {},
   "outputs": [
    {
     "data": {
      "text/plain": [
       "[9.0, 8.3, 7.1, 9.0]"
      ]
     },
     "execution_count": 30,
     "metadata": {},
     "output_type": "execute_result"
    }
   ],
   "source": [
    "B = list(A)\n",
    "B"
   ]
  },
  {
   "cell_type": "code",
   "execution_count": 31,
   "id": "e42474ae",
   "metadata": {},
   "outputs": [
    {
     "name": "stdout",
     "output_type": "stream",
     "text": [
      "1315747511232 1315746796032\n"
     ]
    }
   ],
   "source": [
    "print(id(A), id(B))"
   ]
  },
  {
   "cell_type": "code",
   "execution_count": 32,
   "id": "feacc34c",
   "metadata": {},
   "outputs": [
    {
     "data": {
      "text/plain": [
       "True"
      ]
     },
     "execution_count": 32,
     "metadata": {},
     "output_type": "execute_result"
    }
   ],
   "source": [
    "A == B"
   ]
  },
  {
   "cell_type": "code",
   "execution_count": 33,
   "id": "17777952",
   "metadata": {},
   "outputs": [
    {
     "data": {
      "text/plain": [
       "[-1, 8.3, 7.1, 9.0]"
      ]
     },
     "execution_count": 33,
     "metadata": {},
     "output_type": "execute_result"
    }
   ],
   "source": [
    "A[0] = -1\n",
    "A"
   ]
  },
  {
   "cell_type": "code",
   "execution_count": 34,
   "id": "aa4b4593",
   "metadata": {},
   "outputs": [
    {
     "data": {
      "text/plain": [
       "[9.0, 8.3, 7.1, 9.0]"
      ]
     },
     "execution_count": 34,
     "metadata": {},
     "output_type": "execute_result"
    }
   ],
   "source": [
    "B"
   ]
  },
  {
   "cell_type": "code",
   "execution_count": 35,
   "id": "c25df77a",
   "metadata": {},
   "outputs": [
    {
     "data": {
      "text/plain": [
       "[-1, 8.3, 7.1, 9.0]"
      ]
     },
     "execution_count": 35,
     "metadata": {},
     "output_type": "execute_result"
    }
   ],
   "source": [
    "B = A.copy()\n",
    "B"
   ]
  },
  {
   "cell_type": "code",
   "execution_count": 38,
   "id": "576730f1",
   "metadata": {},
   "outputs": [
    {
     "name": "stdout",
     "output_type": "stream",
     "text": [
      "1315747511232 1315747511808\n"
     ]
    }
   ],
   "source": [
    "print(id(A), id(B))"
   ]
  },
  {
   "cell_type": "code",
   "execution_count": 37,
   "id": "3a0e11f9",
   "metadata": {},
   "outputs": [
    {
     "data": {
      "text/plain": [
       "[-1, 8.3, 7.1, 9.0]"
      ]
     },
     "execution_count": 37,
     "metadata": {},
     "output_type": "execute_result"
    }
   ],
   "source": [
    "B = A[:]\n",
    "B"
   ]
  },
  {
   "cell_type": "code",
   "execution_count": 39,
   "id": "6fae9f73",
   "metadata": {},
   "outputs": [
    {
     "data": {
      "text/plain": [
       "[10, 8, 6, 4, 2]"
      ]
     },
     "execution_count": 39,
     "metadata": {},
     "output_type": "execute_result"
    }
   ],
   "source": [
    "numbers = [1,2,3,4,5,6,7,8,9,10]\n",
    "numbers[::-2]"
   ]
  },
  {
   "cell_type": "code",
   "execution_count": 40,
   "id": "a84cb52a",
   "metadata": {},
   "outputs": [
    {
     "data": {
      "text/plain": [
       "[1]"
      ]
     },
     "execution_count": 40,
     "metadata": {},
     "output_type": "execute_result"
    }
   ],
   "source": [
    "numbers[1:] = []\n",
    "numbers"
   ]
  },
  {
   "cell_type": "code",
   "execution_count": 41,
   "id": "af46b8ae",
   "metadata": {},
   "outputs": [
    {
     "name": "stdout",
     "output_type": "stream",
     "text": [
      "학생의 성적을 입력: 91\n",
      "학생의 성적을 입력: 88\n",
      "학생의 성적을 입력: 79\n",
      "학생의 성적을 입력: 94\n",
      "학생의 성적을 입력: 82\n",
      "성적 순서로 정렬하여 출력: [79, 82, 88, 91, 94]\n",
      "최고 성적 = 94, 최저 성적 = 79\n",
      "성적의 합 = 434, 평균 = 86.8\n",
      "90점 이상인 학생의 수 = 2\n"
     ]
    }
   ],
   "source": [
    "grade = []\n",
    "for _ in range(5):\n",
    "    x = int(input(\"학생의 성적을 입력: \"))\n",
    "    grade.append(x)\n",
    "\n",
    "print(\"성적 순서로 정렬하여 출력:\", sorted(grade))\n",
    "print(f\"최고 성적 = {max(grade)}, 최저 성적 = {min(grade)}\")\n",
    "print(f\"성적의 합 = {sum(grade)}, 평균 = {sum(grade)/5}\")\n",
    "count = 0\n",
    "for x in grade:\n",
    "    if x >= 90:\n",
    "        count += 1\n",
    "print(\"90점 이상인 학생의 수 =\", count)"
   ]
  },
  {
   "cell_type": "code",
   "execution_count": 42,
   "id": "9e02e9d3",
   "metadata": {},
   "outputs": [
    {
     "name": "stdout",
     "output_type": "stream",
     "text": [
      "+/-/x 식재료? + 사과\n",
      "냉장고의 내용 = ['사과']\n",
      "+/-/x 식재료? + 배\n",
      "냉장고의 내용 = ['사과', '배']\n",
      "+/-/x 식재료? + 수박\n",
      "냉장고의 내용 = ['사과', '배', '수박']\n",
      "+/-/x 식재료? - 배\n",
      "냉장고의 내용 = ['사과', '수박']\n",
      "+/-/x 식재료? + 바나나\n",
      "냉장고의 내용 = ['사과', '수박', '바나나']\n",
      "+/-/x 식재료? x ...\n"
     ]
    }
   ],
   "source": [
    "frige = []\n",
    "while True:\n",
    "    op, food = input(\"+/-/x 식재료? \").split()\n",
    "    if op == 'x':\n",
    "        break\n",
    "    elif op == '+':\n",
    "        frige.append(food)\n",
    "    elif op == '-':\n",
    "        if food in frige:\n",
    "            frige.remove(food)\n",
    "    print(\"냉장고의 내용 =\", frige)"
   ]
  },
  {
   "cell_type": "code",
   "execution_count": 58,
   "id": "41d55d72",
   "metadata": {},
   "outputs": [
    {
     "name": "stdout",
     "output_type": "stream",
     "text": [
      "[8, 13, 26, 28, 31, 37]\n"
     ]
    }
   ],
   "source": [
    "import random\n",
    "\n",
    "lotto = []\n",
    "while len(lotto) < 6:\n",
    "    value = random.randint(1,45)\n",
    "    if value not in lotto:\n",
    "        lotto.append(value)\n",
    "print(sorted(lotto))"
   ]
  },
  {
   "cell_type": "code",
   "execution_count": 63,
   "id": "415b28d8",
   "metadata": {},
   "outputs": [
    {
     "data": {
      "text/plain": [
       "[20, 33, 35, 42, 43, 44]"
      ]
     },
     "execution_count": 63,
     "metadata": {},
     "output_type": "execute_result"
    }
   ],
   "source": [
    "lotto = sorted(random.sample(range(1,46), 6))"
   ]
  },
  {
   "cell_type": "code",
   "execution_count": 65,
   "id": "420ac6d0",
   "metadata": {},
   "outputs": [
    {
     "ename": "Terminator",
     "evalue": "",
     "output_type": "error",
     "traceback": [
      "\u001b[1;31m---------------------------------------------------------------------------\u001b[0m",
      "\u001b[1;31mTerminator\u001b[0m                                Traceback (most recent call last)",
      "\u001b[1;32m<ipython-input-65-ea1d65bb1b96>\u001b[0m in \u001b[0;36m<module>\u001b[1;34m\u001b[0m\n\u001b[0;32m     10\u001b[0m \u001b[1;33m\u001b[0m\u001b[0m\n\u001b[0;32m     11\u001b[0m \u001b[0mturtle\u001b[0m\u001b[1;33m.\u001b[0m\u001b[0mmainloop\u001b[0m\u001b[1;33m(\u001b[0m\u001b[1;33m)\u001b[0m\u001b[1;33m\u001b[0m\u001b[1;33m\u001b[0m\u001b[0m\n\u001b[1;32m---> 12\u001b[1;33m \u001b[0mturtle\u001b[0m\u001b[1;33m.\u001b[0m\u001b[0mbye\u001b[0m\u001b[1;33m(\u001b[0m\u001b[1;33m)\u001b[0m\u001b[1;33m\u001b[0m\u001b[1;33m\u001b[0m\u001b[0m\n\u001b[0m",
      "\u001b[1;32m~\\miniconda3\\lib\\turtle.py\u001b[0m in \u001b[0;36mbye\u001b[1;34m()\u001b[0m\n",
      "\u001b[1;31mTerminator\u001b[0m: "
     ]
    }
   ],
   "source": [
    "import turtle\n",
    "\n",
    "aList = [10, 20, 30, 40, 50, 60, 70, 80, 90, 100, 110, 120]\n",
    "t = turtle.Turtle()\n",
    "for x in aList:\n",
    "    t.fd(x)\n",
    "    t.stamp()\n",
    "    t.bk(x)\n",
    "    t.right(30)\n",
    "    \n",
    "turtle.mainloop()\n",
    "turtle.bye()"
   ]
  },
  {
   "cell_type": "code",
   "execution_count": 66,
   "id": "76a6c7c4",
   "metadata": {},
   "outputs": [
    {
     "data": {
      "text/plain": [
       "[0, 6, 12, 18, 24, 30, 36, 42, 48, 54, 60, 66, 72, 78, 84, 90, 96]"
      ]
     },
     "execution_count": 66,
     "metadata": {},
     "output_type": "execute_result"
    }
   ],
   "source": [
    "A = [x for x in range(100) if x % 2 == 0 and x % 3 == 0]\n",
    "A"
   ]
  },
  {
   "cell_type": "code",
   "execution_count": 68,
   "id": "2c8b9f16",
   "metadata": {},
   "outputs": [
    {
     "data": {
      "text/plain": [
       "[10, 30, 60, 100]"
      ]
     },
     "execution_count": 68,
     "metadata": {},
     "output_type": "execute_result"
    }
   ],
   "source": [
    "A = [10, 20, 30, 40, 50]\n",
    "B = [sum(A[:x]) for x in range(1, len(A))]\n",
    "B"
   ]
  },
  {
   "cell_type": "code",
   "execution_count": 79,
   "id": "dbcc29af",
   "metadata": {},
   "outputs": [],
   "source": [
    "def flatten(A):\n",
    "    if A == []:\n",
    "        return A\n",
    "    elif isinstance(A[0], list):\n",
    "        return flatten(A[0]) + flatten(A[1:])\n",
    "    else:\n",
    "        return [A[0]] + flatten(A[1:])"
   ]
  },
  {
   "cell_type": "code",
   "execution_count": 80,
   "id": "be2f1540",
   "metadata": {},
   "outputs": [
    {
     "name": "stdout",
     "output_type": "stream",
     "text": [
      "[1, 2, 3, 4, 5, 6, 7, 8, 9, 10, 11]\n"
     ]
    }
   ],
   "source": [
    "nestedlist = [1, 2, [3, 4, [5, 6], [7, [8, 9]], 10], 11]\n",
    "print(flatten(nestedlist))"
   ]
  },
  {
   "cell_type": "code",
   "execution_count": 87,
   "id": "0d8391d8",
   "metadata": {},
   "outputs": [
    {
     "name": "stdout",
     "output_type": "stream",
     "text": [
      "홀수를 입력: 3\n",
      "  6   1   8 \n",
      "  7   5   3 \n",
      "  2   9   4 \n"
     ]
    }
   ],
   "source": [
    "n = int(input(\"홀수를 입력: \"))\n",
    "M = [[0] * n for _ in range(n)]\n",
    "\n",
    "x, y = 0, n // 2\n",
    "for count in range(1, n*n + 1):\n",
    "    M[x][y] = count\n",
    "    new_x = x-1 if x > 0 else n-1\n",
    "    new_y = y-1 if y > 0 else n-1\n",
    "    if M[new_x][new_y] != 0:\n",
    "        x = (x+1) % n\n",
    "    else:\n",
    "        x, y = new_x, new_y\n",
    "        \n",
    "for x in range(n):\n",
    "    for y in range(n):\n",
    "        print(f\"{M[x][y]:3d}\", end=\" \")\n",
    "    print()"
   ]
  },
  {
   "cell_type": "code",
   "execution_count": 88,
   "id": "21402a12",
   "metadata": {},
   "outputs": [
    {
     "name": "stdout",
     "output_type": "stream",
     "text": [
      "[[10, 3, 9], [6, 4, 7], [6, 7, 8]] [[3, 6, 10], [1, 10, 2], [3, 7, 5]]\n"
     ]
    }
   ],
   "source": [
    "import random\n",
    "\n",
    "A = [[random.randint(1,10) for c in range(3)] for r in range(3)]\n",
    "B = [[random.randint(1,10) for c in range(3)] for r in range(3)]\n",
    "print(A, B)"
   ]
  },
  {
   "cell_type": "code",
   "execution_count": 91,
   "id": "92829942",
   "metadata": {},
   "outputs": [],
   "source": [
    "def printMatrix(M, rows, cols):\n",
    "    for r in range(rows):\n",
    "        for c in range(cols):\n",
    "            print(f\"{M[r][c]:3d}\", end=\" \")\n",
    "        print()"
   ]
  },
  {
   "cell_type": "code",
   "execution_count": 92,
   "id": "a8d7a2fc",
   "metadata": {},
   "outputs": [
    {
     "name": "stdout",
     "output_type": "stream",
     "text": [
      " 10   3   9 \n",
      "  6   4   7 \n",
      "  6   7   8 \n"
     ]
    }
   ],
   "source": [
    "printMatrix(A, 3, 3)"
   ]
  },
  {
   "cell_type": "code",
   "execution_count": 93,
   "id": "a77b6e8b",
   "metadata": {},
   "outputs": [
    {
     "name": "stdout",
     "output_type": "stream",
     "text": [
      "  3   6  10 \n",
      "  1  10   2 \n",
      "  3   7   5 \n"
     ]
    }
   ],
   "source": [
    "printMatrix(B, 3, 3)"
   ]
  },
  {
   "cell_type": "code",
   "execution_count": 95,
   "id": "c8b139d5",
   "metadata": {},
   "outputs": [
    {
     "name": "stdout",
     "output_type": "stream",
     "text": [
      " 13   9  19 \n",
      "  7  14   9 \n",
      "  9  14  13 \n"
     ]
    }
   ],
   "source": [
    "C = [[A[r][c] + B[r][c] for c in range(3)] for r in range(3)]\n",
    "printMatrix(C, 3, 3)"
   ]
  },
  {
   "cell_type": "code",
   "execution_count": 96,
   "id": "a7b1444e",
   "metadata": {},
   "outputs": [
    {
     "ename": "IndentationError",
     "evalue": "expected an indented block (<ipython-input-96-8fcbab6f1912>, line 2)",
     "output_type": "error",
     "traceback": [
      "\u001b[1;36m  File \u001b[1;32m\"<ipython-input-96-8fcbab6f1912>\"\u001b[1;36m, line \u001b[1;32m2\u001b[0m\n\u001b[1;33m    for r in range(3):\u001b[0m\n\u001b[1;37m                      ^\u001b[0m\n\u001b[1;31mIndentationError\u001b[0m\u001b[1;31m:\u001b[0m expected an indented block\n"
     ]
    }
   ],
   "source": [
    "C = []\n",
    "for r in range(3):\n",
    "    D = []\n",
    "    for c in range(3):\n",
    "        D.append(A[r][c] + B[r][c])\n",
    "    C.append(D)"
   ]
  },
  {
   "cell_type": "code",
   "execution_count": 97,
   "id": "ecb27f85",
   "metadata": {},
   "outputs": [
    {
     "name": "stdout",
     "output_type": "stream",
     "text": [
      "문장을 입력하세요: 오늘은 4월 6일 월요일입니다. 날씨가 좋네요...\n",
      "('오늘은', '4월', '6일', '월요일입니다.', '날씨가', '좋네요...')\n",
      "단어 수 = 6\n",
      "세번째로 입력된 단어 = 6일\n",
      "단어 기준으로 정렬: ['4월', '6일', '날씨가', '오늘은', '월요일입니다.', '좋네요...']\n"
     ]
    }
   ],
   "source": [
    "sentence = input(\"문장을 입력하세요: \")\n",
    "words = tuple(sentence.split())\n",
    "print(words)\n",
    "print(\"단어 수 =\", len(words))\n",
    "print(\"세번째로 입력된 단어 =\", words[2])\n",
    "print(\"단어 기준으로 정렬:\", sorted(words))"
   ]
  },
  {
   "cell_type": "code",
   "execution_count": 99,
   "id": "f570a99b",
   "metadata": {},
   "outputs": [
    {
     "data": {
      "text/plain": [
       "(140, 119, 101, 146, 144, 145, 108, 146, 148, 146)"
      ]
     },
     "execution_count": 99,
     "metadata": {},
     "output_type": "execute_result"
    }
   ],
   "source": [
    "import random\n",
    "\n",
    "T = tuple(random.randint(100, 150) for _ in range(10))\n",
    "T"
   ]
  },
  {
   "cell_type": "code",
   "execution_count": 100,
   "id": "8b884817",
   "metadata": {},
   "outputs": [
    {
     "name": "stdout",
     "output_type": "stream",
     "text": [
      "5\n"
     ]
    }
   ],
   "source": [
    "count = 0\n",
    "for x in range(1, len(T)):\n",
    "    if T[x] < T[x-1]:\n",
    "        count += 1\n",
    "print(count)"
   ]
  },
  {
   "cell_type": "code",
   "execution_count": 101,
   "id": "3122878a",
   "metadata": {},
   "outputs": [
    {
     "name": "stdout",
     "output_type": "stream",
     "text": [
      "(7, 3, 8, 4, 0, 9, 5, 2)\n",
      "(7, 3, 8, 4, 0, 9, 5)\n",
      "(7, 3, 8, 4, 0, 9)\n",
      "(7, 3, 8, 4, 0)\n",
      "(7, 3, 8, 4)\n",
      "(7, 3, 8)\n",
      "(7, 3)\n",
      "(7,)\n"
     ]
    }
   ],
   "source": [
    "A = tuple(random.sample(range(10), 8))\n",
    "\n",
    "for x in range(len(A)):\n",
    "    print(A[:8-x])"
   ]
  },
  {
   "cell_type": "code",
   "execution_count": 102,
   "id": "27fd01aa",
   "metadata": {},
   "outputs": [
    {
     "name": "stdout",
     "output_type": "stream",
     "text": [
      "첫번째 문자열? Hello World.\n",
      "두번째 문자열? How are you?\n"
     ]
    }
   ],
   "source": [
    "s1 = input(\"첫번째 문자열? \")\n",
    "s2 = input(\"두번째 문자열? \")"
   ]
  },
  {
   "cell_type": "code",
   "execution_count": 103,
   "id": "301b4e6b",
   "metadata": {},
   "outputs": [
    {
     "data": {
      "text/plain": [
       "'Hello World.'"
      ]
     },
     "execution_count": 103,
     "metadata": {},
     "output_type": "execute_result"
    }
   ],
   "source": [
    "s1"
   ]
  },
  {
   "cell_type": "code",
   "execution_count": 104,
   "id": "241aeed3",
   "metadata": {},
   "outputs": [
    {
     "data": {
      "text/plain": [
       "{' ', '.', 'H', 'W', 'd', 'e', 'l', 'o', 'r'}"
      ]
     },
     "execution_count": 104,
     "metadata": {},
     "output_type": "execute_result"
    }
   ],
   "source": [
    "set(s1)"
   ]
  },
  {
   "cell_type": "code",
   "execution_count": 105,
   "id": "202821b0",
   "metadata": {},
   "outputs": [
    {
     "name": "stdout",
     "output_type": "stream",
     "text": [
      "두 문자열에 공통적으로 나오는 문자 = {'r', 'e', 'H', 'o', ' '}\n"
     ]
    }
   ],
   "source": [
    "print(\"두 문자열에 공통적으로 나오는 문자 =\", set(s1) & set(s2))"
   ]
  },
  {
   "cell_type": "code",
   "execution_count": 106,
   "id": "636d8bdc",
   "metadata": {},
   "outputs": [
    {
     "name": "stdout",
     "output_type": "stream",
     "text": [
      "{4, 10, 11, 12, 14, 15, 16, 17, 19, 20} {2, 3, 4, 8, 9, 10, 12, 14, 15, 17}\n"
     ]
    }
   ],
   "source": [
    "S = set(random.sample(range(21), 10))\n",
    "T = set(random.sample(range(21), 10))\n",
    "print(S, T)"
   ]
  },
  {
   "cell_type": "code",
   "execution_count": 107,
   "id": "fe0e6092",
   "metadata": {},
   "outputs": [
    {
     "name": "stdout",
     "output_type": "stream",
     "text": [
      "교집합 = {4, 10, 12, 14, 15, 17}\n",
      "합집합 = {2, 3, 4, 8, 9, 10, 11, 12, 14, 15, 16, 17, 19, 20}\n",
      "차집합 = {16, 19, 11, 20}\n"
     ]
    }
   ],
   "source": [
    "print(\"교집합 =\", S & T)\n",
    "print(\"합집합 =\", S | T)\n",
    "print(\"차집합 =\", S - T)"
   ]
  },
  {
   "cell_type": "code",
   "execution_count": 108,
   "id": "2ebd5a9c",
   "metadata": {},
   "outputs": [
    {
     "data": {
      "text/plain": [
       "(3, 8, 3, 6, 3, 7, 6, 6, 7, 9, 1, 5, 3, 4, 2)"
      ]
     },
     "execution_count": 108,
     "metadata": {},
     "output_type": "execute_result"
    }
   ],
   "source": [
    "A = tuple(random.randint(1,9) for x in range(15))\n",
    "A"
   ]
  },
  {
   "cell_type": "code",
   "execution_count": 109,
   "id": "313765a3",
   "metadata": {},
   "outputs": [
    {
     "data": {
      "text/plain": [
       "{1, 2, 3, 4, 5, 6, 7, 8, 9}"
      ]
     },
     "execution_count": 109,
     "metadata": {},
     "output_type": "execute_result"
    }
   ],
   "source": [
    "S = set(A)\n",
    "S"
   ]
  },
  {
   "cell_type": "code",
   "execution_count": 110,
   "id": "d0db026d",
   "metadata": {},
   "outputs": [
    {
     "name": "stdout",
     "output_type": "stream",
     "text": [
      "{3, 6, 7}\n"
     ]
    }
   ],
   "source": [
    "result = set()\n",
    "for x in S:\n",
    "    if A.count(x) >= 2:\n",
    "        result.add(x)\n",
    "print(result)"
   ]
  },
  {
   "cell_type": "code",
   "execution_count": 111,
   "id": "87d8f93a",
   "metadata": {},
   "outputs": [
    {
     "name": "stdout",
     "output_type": "stream",
     "text": [
      "{3, 6, 7}\n"
     ]
    }
   ],
   "source": [
    "result = set()\n",
    "for x in A:\n",
    "    if x in S:\n",
    "        S.remove(x)\n",
    "    else:\n",
    "        result.add(x)\n",
    "print(result)"
   ]
  },
  {
   "cell_type": "code",
   "execution_count": 112,
   "id": "cdcf5f11",
   "metadata": {},
   "outputs": [],
   "source": [
    "info = {}\n",
    "for key in \"ABCDEFGHIJKLMNOPQRSTUVWXYZ\":\n",
    "    info[key] = random.randint(1000, 9999)"
   ]
  },
  {
   "cell_type": "code",
   "execution_count": 117,
   "id": "c8252650",
   "metadata": {},
   "outputs": [],
   "source": [
    "info = {}\n",
    "for x in range(26):\n",
    "    key = chr(ord('A') + x)\n",
    "    info[key] = random.randint(1000, 9999)"
   ]
  },
  {
   "cell_type": "code",
   "execution_count": 118,
   "id": "8cb5f3e6",
   "metadata": {},
   "outputs": [
    {
     "name": "stdout",
     "output_type": "stream",
     "text": [
      "{'A': 3338, 'B': 3565, 'C': 2584, 'D': 9170, 'E': 2320, 'F': 1408, 'G': 2401, 'H': 1671, 'I': 6172, 'J': 6212, 'K': 5889, 'L': 1484, 'M': 3760, 'N': 6948, 'O': 4923, 'P': 5725, 'Q': 6387, 'R': 4173, 'S': 5489, 'T': 1746, 'U': 5582, 'V': 3084, 'W': 5678, 'X': 1661, 'Y': 6302, 'Z': 6599}\n"
     ]
    }
   ],
   "source": [
    "print(info)"
   ]
  },
  {
   "cell_type": "code",
   "execution_count": 114,
   "id": "5dd71537",
   "metadata": {},
   "outputs": [
    {
     "name": "stdout",
     "output_type": "stream",
     "text": [
      "사용자 id? K\n",
      "K의 암호는 1849 입니다.\n"
     ]
    }
   ],
   "source": [
    "uid = input(\"사용자 id? \")\n",
    "if uid in info:\n",
    "    print(f\"{uid}의 암호는 {info[uid]} 입니다.\")\n",
    "else:\n",
    "    print(\"등록되지 않은 id 입니다.\")"
   ]
  },
  {
   "cell_type": "code",
   "execution_count": 121,
   "id": "ddb8c703",
   "metadata": {},
   "outputs": [
    {
     "name": "stdout",
     "output_type": "stream",
     "text": [
      "문장을 입력하세요: UUAUUGCUUCUCCUACUG\n",
      "{'U': 9, 'A': 2, 'G': 2, 'C': 5}\n",
      "U 9\n"
     ]
    }
   ],
   "source": [
    "freq = {}\n",
    "sentence = input(\"문장을 입력하세요: \")\n",
    "for ch in sentence:\n",
    "    freq[ch] = freq.get(ch, 0) + 1\n",
    "print(freq)\n",
    "max_value = max(freq.values())\n",
    "for key in freq:\n",
    "    if freq[key] == max_value:\n",
    "        print(key, max_value)\n",
    "        break"
   ]
  },
  {
   "cell_type": "code",
   "execution_count": 123,
   "id": "1b5ef990",
   "metadata": {},
   "outputs": [
    {
     "name": "stdout",
     "output_type": "stream",
     "text": [
      "[('U', 9)]\n"
     ]
    }
   ],
   "source": [
    "from collections import Counter\n",
    "\n",
    "c = Counter(freq)\n",
    "print(c.most_common(1))"
   ]
  },
  {
   "cell_type": "code",
   "execution_count": 125,
   "id": "cb7907f0",
   "metadata": {},
   "outputs": [
    {
     "name": "stdout",
     "output_type": "stream",
     "text": [
      "가장 많이 나온 수와 빈도수 = (5, 177)\n",
      "가장 적게 나온 수와 빈도수 = (3, 152)\n"
     ]
    }
   ],
   "source": [
    "dice = {}\n",
    "for _ in range(1000):\n",
    "    key = random.randint(1,6)\n",
    "    dice[key] = dice.get(key, 0) + 1\n",
    "\n",
    "max_value = max(dice.values())\n",
    "min_value = min(dice.values())\n",
    "for x in dice.keys():\n",
    "    if dice[x] == max_value:\n",
    "        print(f\"가장 많이 나온 수와 빈도수 = ({x}, {dice[x]})\")\n",
    "    if dice[x] == min_value:\n",
    "        print(f\"가장 적게 나온 수와 빈도수 = ({x}, {dice[x]})\")"
   ]
  },
  {
   "cell_type": "code",
   "execution_count": 126,
   "id": "3d007447",
   "metadata": {},
   "outputs": [
    {
     "name": "stdout",
     "output_type": "stream",
     "text": [
      "['a', 'b', 'c', 'd', 'e', 'f', 'g', 'h', 'i', 'j', 'k', 'l', 'm', 'n', 'o', 'p', 'q', 'r', 's', 't', 'u', 'v', 'w', 'x', 'y', 'z'] ['h', 'k', 'n', 'p', 'z', 'w', 'j', 'b', 'r', 'e', 'x', 'a', 'm', 'i', 'l', 'v', 'u', 'c', 'q', 'd', 'g', 'f', 'o', 'y', 's', 't']\n"
     ]
    }
   ],
   "source": [
    "alphabet = [chr(ord('a') + x) for x in range(26)]\n",
    "shuffled = alphabet.copy()\n",
    "random.shuffle(shuffled)\n",
    "print(alphabet, shuffled)"
   ]
  },
  {
   "cell_type": "code",
   "execution_count": 127,
   "id": "2ebf6f8b",
   "metadata": {},
   "outputs": [
    {
     "name": "stdout",
     "output_type": "stream",
     "text": [
      "{'a': 'h', 'b': 'k', 'c': 'n', 'd': 'p', 'e': 'z', 'f': 'w', 'g': 'j', 'h': 'b', 'i': 'r', 'j': 'e', 'k': 'x', 'l': 'a', 'm': 'm', 'n': 'i', 'o': 'l', 'p': 'v', 'q': 'u', 'r': 'c', 's': 'q', 't': 'd', 'u': 'g', 'v': 'f', 'w': 'o', 'x': 'y', 'y': 's', 'z': 't'}\n"
     ]
    }
   ],
   "source": [
    "ebook = dict(zip(alphabet, shuffled))\n",
    "print(ebook)"
   ]
  },
  {
   "cell_type": "code",
   "execution_count": 128,
   "id": "b08404ac",
   "metadata": {},
   "outputs": [
    {
     "name": "stdout",
     "output_type": "stream",
     "text": [
      "평문을 입력하세요: hello world, my name is james web.\n",
      "암호문 = bzaal olcap, ms ihmz rq ehmzq ozk.\n"
     ]
    }
   ],
   "source": [
    "plain = input(\"평문을 입력하세요: \")\n",
    "encrypted = \"\"\n",
    "for ch in plain:\n",
    "    if ch in ebook:\n",
    "        encrypted += ebook[ch]\n",
    "    else:\n",
    "        encrypted += ch\n",
    "print(\"암호문 =\", encrypted)"
   ]
  },
  {
   "cell_type": "code",
   "execution_count": 129,
   "id": "bb868879",
   "metadata": {},
   "outputs": [
    {
     "name": "stdout",
     "output_type": "stream",
     "text": [
      "{'h': 'a', 'k': 'b', 'n': 'c', 'p': 'd', 'z': 'e', 'w': 'f', 'j': 'g', 'b': 'h', 'r': 'i', 'e': 'j', 'x': 'k', 'a': 'l', 'm': 'm', 'i': 'n', 'l': 'o', 'v': 'p', 'u': 'q', 'c': 'r', 'q': 's', 'd': 't', 'g': 'u', 'f': 'v', 'o': 'w', 'y': 'x', 's': 'y', 't': 'z'}\n"
     ]
    }
   ],
   "source": [
    "dbook = {value:key for key, value in ebook.items()}\n",
    "print(dbook)"
   ]
  },
  {
   "cell_type": "code",
   "execution_count": 130,
   "id": "079ca31f",
   "metadata": {},
   "outputs": [
    {
     "name": "stdout",
     "output_type": "stream",
     "text": [
      "hello world, my name is james web.\n"
     ]
    }
   ],
   "source": [
    "decrypted = \"\"\n",
    "for ch in encrypted:\n",
    "    if ch in dbook:\n",
    "        decrypted += dbook[ch]\n",
    "    else:\n",
    "        decrypted += ch\n",
    "print(decrypted)"
   ]
  },
  {
   "cell_type": "code",
   "execution_count": 131,
   "id": "1d8f1bf4",
   "metadata": {},
   "outputs": [
    {
     "name": "stdout",
     "output_type": "stream",
     "text": [
      "문자열을 입력: North Atlantic Treaty Organization\n",
      "NATO\n"
     ]
    }
   ],
   "source": [
    "sentence = input(\"문자열을 입력: \")\n",
    "print(\"\".join(w[0] for w in sentence.split()))"
   ]
  },
  {
   "cell_type": "code",
   "execution_count": 135,
   "id": "0be4a492",
   "metadata": {},
   "outputs": [
    {
     "name": "stdout",
     "output_type": "stream",
     "text": [
      "issn을 입력: 02642875\n",
      "정확한 코드입니다.\n"
     ]
    }
   ],
   "source": [
    "issn = input(\"issn을 입력: \")\n",
    "\n",
    "weight = 8\n",
    "total = 0\n",
    "for ch in issn[:7]:\n",
    "    total += int(ch) * weight\n",
    "    weight -= 1\n",
    "\n",
    "checkcode = str(11 - (total % 11))\n",
    "if checkcode == '10':\n",
    "    checkcode = 'X'\n",
    "\n",
    "if checkcode == issn[-1]:\n",
    "    print(\"정확한 코드입니다.\")\n",
    "else:\n",
    "    print(\"잘못된 코드입니다.\")"
   ]
  },
  {
   "cell_type": "code",
   "execution_count": 136,
   "id": "a0903fc3",
   "metadata": {},
   "outputs": [
    {
     "name": "stdout",
     "output_type": "stream",
     "text": [
      "휴대폰 번호를 입력하세요(종료는 q): 010-1234-abcd\n",
      "Not OK\n",
      "휴대폰 번호를 입력하세요(종료는 q): 01012345678\n",
      "Not OK\n",
      "휴대폰 번호를 입력하세요(종료는 q): 010-1234\n",
      "Not OK\n",
      "휴대폰 번호를 입력하세요(종료는 q): 011-1234-5678\n",
      "Not OK\n",
      "휴대폰 번호를 입력하세요(종료는 q): 010-1234-567\n",
      "Not OK\n",
      "휴대폰 번호를 입력하세요(종료는 q): 010-1234-5678\n",
      "OK!\n",
      "휴대폰 번호를 입력하세요(종료는 q): q\n"
     ]
    }
   ],
   "source": [
    "while True:\n",
    "    phone = input(\"휴대폰 번호를 입력하세요(종료는 q): \")\n",
    "    if phone == 'q':\n",
    "        break\n",
    "    if len(phone) != 13 or phone.count('-') != 2 or phone[:3] != \"010\":\n",
    "        print(\"Not OK\")\n",
    "        continue\n",
    "    d1, d2 = phone.split(\"-\")[1:]\n",
    "    if len(d1) != 4 or not d1.isdigit() or not d2.isdigit():\n",
    "        print(\"Not OK\")\n",
    "    else:\n",
    "        print(\"OK!\")"
   ]
  },
  {
   "cell_type": "code",
   "execution_count": 137,
   "id": "c29d2b92",
   "metadata": {},
   "outputs": [
    {
     "name": "stdout",
     "output_type": "stream",
     "text": [
      "문장을 입력하시오: What a beautiful world? I read a java book. \n",
      "금칙어를 입력하시요: beautiful java\n",
      "What a ********* world? I read a **** book. \n"
     ]
    }
   ],
   "source": [
    "sentence = input(\"문장을 입력하시오: \")\n",
    "pwords = input(\"금칙어를 입력하시요: \").split()\n",
    "\n",
    "for word in pwords:\n",
    "    sentence = sentence.replace(word, '*' * len(word))\n",
    "    \n",
    "print(sentence)"
   ]
  },
  {
   "cell_type": "code",
   "execution_count": null,
   "id": "6241ae61",
   "metadata": {},
   "outputs": [],
   "source": []
  }
 ],
 "metadata": {
  "kernelspec": {
   "display_name": "Python 3",
   "language": "python",
   "name": "python3"
  },
  "language_info": {
   "codemirror_mode": {
    "name": "ipython",
    "version": 3
   },
   "file_extension": ".py",
   "mimetype": "text/x-python",
   "name": "python",
   "nbconvert_exporter": "python",
   "pygments_lexer": "ipython3",
   "version": "3.9.1"
  }
 },
 "nbformat": 4,
 "nbformat_minor": 5
}

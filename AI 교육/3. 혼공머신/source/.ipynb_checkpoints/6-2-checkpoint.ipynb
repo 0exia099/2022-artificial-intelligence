{
 "cells": [
  {
   "cell_type": "markdown",
   "metadata": {
    "id": "0py4Pe5VoSL1"
   },
   "source": [
    "# k-평균"
   ]
  },
  {
   "cell_type": "markdown",
   "metadata": {
    "id": "g-vGtu-voSMD"
   },
   "source": [
    "<table align=\"left\">\n",
    "  <td>\n",
    "    <a target=\"_blank\" href=\"https://colab.research.google.com/github/rickiepark/hg-mldl/blob/master/6-2.ipynb\"><img src=\"https://www.tensorflow.org/images/colab_logo_32px.png\" />구글 코랩에서 실행하기</a>\n",
    "  </td>\n",
    "</table>"
   ]
  },
  {
   "cell_type": "markdown",
   "metadata": {
    "id": "jC6ygN4MrOAL"
   },
   "source": [
    "## KMeans 클래스"
   ]
  },
  {
   "cell_type": "code",
   "execution_count": null,
   "metadata": {
    "id": "1MTrIQiqiHXP"
   },
   "outputs": [],
   "source": [
    "!wget https://bit.ly/fruits_300 -O fruits_300.npy"
   ]
  },
  {
   "cell_type": "code",
   "execution_count": 2,
   "metadata": {
    "executionInfo": {
     "elapsed": 343,
     "status": "ok",
     "timestamp": 1644989986858,
     "user": {
      "displayName": "차세대컴퓨터시스템연구실",
      "photoUrl": "https://lh3.googleusercontent.com/a/default-user=s64",
      "userId": "00707404389080078471"
     },
     "user_tz": -540
    },
    "id": "OS3nLFQrkBpO"
   },
   "outputs": [],
   "source": [
    "import numpy as np\n",
    "\n",
    "fruits = np.load('fruits_300.npy')\n",
    "fruits_2d = fruits.reshape(-1, 100*100)"
   ]
  },
  {
   "cell_type": "code",
   "execution_count": null,
   "metadata": {
    "id": "_IygCpSqk_TS"
   },
   "outputs": [],
   "source": [
    "from sklearn.cluster import KMeans\n",
    "\n",
    "km = KMeans(n_clusters=3, random_state=42)\n",
    "km.fit(fruits_2d)"
   ]
  },
  {
   "cell_type": "code",
   "execution_count": null,
   "metadata": {
    "id": "aRmNuAkLsHkv"
   },
   "outputs": [],
   "source": [
    "print(km.labels_)"
   ]
  },
  {
   "cell_type": "code",
   "execution_count": null,
   "metadata": {
    "id": "_DytYz46lJ5F"
   },
   "outputs": [],
   "source": [
    "print(np.unique(km.labels_, return_counts=True))"
   ]
  },
  {
   "cell_type": "code",
   "execution_count": 6,
   "metadata": {
    "executionInfo": {
     "elapsed": 316,
     "status": "ok",
     "timestamp": 1644990006554,
     "user": {
      "displayName": "차세대컴퓨터시스템연구실",
      "photoUrl": "https://lh3.googleusercontent.com/a/default-user=s64",
      "userId": "00707404389080078471"
     },
     "user_tz": -540
    },
    "id": "lgA4Yvs2lZt7"
   },
   "outputs": [],
   "source": [
    "import matplotlib.pyplot as plt\n",
    "\n",
    "def draw_fruits(arr, ratio=1):\n",
    "    n = len(arr)    # n은 샘플 개수입니다\n",
    "    # 한 줄에 10개씩 이미지를 그립니다. 샘플 개수를 10으로 나누어 전체 행 개수를 계산합니다. \n",
    "    rows = int(np.ceil(n/10))\n",
    "    # 행이 1개 이면 열 개수는 샘플 개수입니다. 그렇지 않으면 10개입니다.\n",
    "    cols = n if rows < 2 else 10\n",
    "    fig, axs = plt.subplots(rows, cols, \n",
    "                            figsize=(cols*ratio, rows*ratio), squeeze=False)\n",
    "    for i in range(rows):\n",
    "        for j in range(cols):\n",
    "            if i*10 + j < n:    # n 개까지만 그립니다.\n",
    "                axs[i, j].imshow(arr[i*10 + j], cmap='gray_r')\n",
    "            axs[i, j].axis('off')\n",
    "    plt.show()"
   ]
  },
  {
   "cell_type": "code",
   "execution_count": null,
   "metadata": {
    "id": "WHK0oGUPnJpF"
   },
   "outputs": [],
   "source": [
    "draw_fruits(fruits[km.labels_==0])"
   ]
  },
  {
   "cell_type": "code",
   "execution_count": null,
   "metadata": {
    "id": "LuFUaspuof6U"
   },
   "outputs": [],
   "source": [
    "draw_fruits(fruits[km.labels_==1])"
   ]
  },
  {
   "cell_type": "code",
   "execution_count": null,
   "metadata": {
    "id": "YKvXpsGSoBc6"
   },
   "outputs": [],
   "source": [
    "draw_fruits(fruits[km.labels_==2])"
   ]
  },
  {
   "cell_type": "markdown",
   "metadata": {
    "id": "K3vxqJSX4icI"
   },
   "source": [
    "## 클러스터 중심"
   ]
  },
  {
   "cell_type": "code",
   "execution_count": null,
   "metadata": {
    "id": "3Tvd1KNNunV6"
   },
   "outputs": [],
   "source": [
    "draw_fruits(km.cluster_centers_.reshape(-1, 100, 100), ratio=3)"
   ]
  },
  {
   "cell_type": "code",
   "execution_count": 11,
   "metadata": {
    "colab": {
     "base_uri": "https://localhost:8080/"
    },
    "executionInfo": {
     "elapsed": 302,
     "status": "ok",
     "timestamp": 1644990052688,
     "user": {
      "displayName": "차세대컴퓨터시스템연구실",
      "photoUrl": "https://lh3.googleusercontent.com/a/default-user=s64",
      "userId": "00707404389080078471"
     },
     "user_tz": -540
    },
    "id": "KpaCbBizo1aR",
    "outputId": "968225fa-4584-45ba-adea-6f9fcd25a8c7"
   },
   "outputs": [
    {
     "name": "stdout",
     "output_type": "stream",
     "text": [
      "[[3393.8136117  8837.37750892 5267.70439881]]\n"
     ]
    }
   ],
   "source": [
    "print(km.transform(fruits_2d[100:101]))"
   ]
  },
  {
   "cell_type": "code",
   "execution_count": 12,
   "metadata": {
    "colab": {
     "base_uri": "https://localhost:8080/"
    },
    "executionInfo": {
     "elapsed": 312,
     "status": "ok",
     "timestamp": 1644990059603,
     "user": {
      "displayName": "차세대컴퓨터시스템연구실",
      "photoUrl": "https://lh3.googleusercontent.com/a/default-user=s64",
      "userId": "00707404389080078471"
     },
     "user_tz": -540
    },
    "id": "G34yvcvtmoqu",
    "outputId": "21f6dc1a-1ba2-49ae-d3cd-a240d95e22c8"
   },
   "outputs": [
    {
     "name": "stdout",
     "output_type": "stream",
     "text": [
      "[0]\n"
     ]
    }
   ],
   "source": [
    "print(km.predict(fruits_2d[100:101]))"
   ]
  },
  {
   "cell_type": "code",
   "execution_count": 13,
   "metadata": {
    "colab": {
     "base_uri": "https://localhost:8080/",
     "height": 85
    },
    "executionInfo": {
     "elapsed": 325,
     "status": "ok",
     "timestamp": 1644990088527,
     "user": {
      "displayName": "차세대컴퓨터시스템연구실",
      "photoUrl": "https://lh3.googleusercontent.com/a/default-user=s64",
      "userId": "00707404389080078471"
     },
     "user_tz": -540
    },
    "id": "2jfRhmMOoOEs",
    "outputId": "fc19b9f4-c68e-4103-a9af-8bd0f117cb8f"
   },
   "outputs": [
    {
     "data": {
      "image/png": "[encoded data removed]",
      "text/plain": [
       "<Figure size 72x72 with 1 Axes>"
      ]
     },
     "metadata": {
      "needs_background": "light"
     },
     "output_type": "display_data"
    }
   ],
   "source": [
    "draw_fruits(fruits[100:101])"
   ]
  },
  {
   "cell_type": "code",
   "execution_count": null,
   "metadata": {
    "colab": {
     "base_uri": "https://localhost:8080/",
     "height": 34
    },
    "executionInfo": {
     "elapsed": 14128,
     "status": "ok",
     "timestamp": 1593527820311,
     "user": {
      "displayName": "Haesun Park",
      "photoUrl": "https://lh3.googleusercontent.com/a-/AOh14GhsWlS7sKQL-9fIkg3FmxpTMz_u-KDSs8y__P1ngQ=s64",
      "userId": "14935388527648823821"
     },
     "user_tz": -540
    },
    "id": "BK7urJ9N2Xqt",
    "outputId": "f3866e30-3f9a-4f87-d82a-2c19c83104c1"
   },
   "outputs": [
    {
     "name": "stdout",
     "output_type": "stream",
     "text": [
      "3\n"
     ]
    }
   ],
   "source": [
    "print(km.n_iter_)"
   ]
  },
  {
   "cell_type": "markdown",
   "metadata": {
    "id": "atIPO-MPiCFo"
   },
   "source": [
    "## 최적의 k 찾기"
   ]
  },
  {
   "cell_type": "code",
   "execution_count": 14,
   "metadata": {
    "colab": {
     "base_uri": "https://localhost:8080/",
     "height": 276
    },
    "executionInfo": {
     "elapsed": 7592,
     "status": "ok",
     "timestamp": 1644990104039,
     "user": {
      "displayName": "차세대컴퓨터시스템연구실",
      "photoUrl": "https://lh3.googleusercontent.com/a/default-user=s64",
      "userId": "00707404389080078471"
     },
     "user_tz": -540
    },
    "id": "FwU_s1Tnu9lS",
    "outputId": "045d4be9-566e-4a3b-e34a-e6978f28deb6"
   },
   "outputs": [
    {
     "data": {
      "image/png": "[encoded data removed]",
      "text/plain": [
       "<Figure size 432x288 with 1 Axes>"
      ]
     },
     "metadata": {
      "needs_background": "light"
     },
     "output_type": "display_data"
    }
   ],
   "source": [
    "inertia = []\n",
    "for k in range(2, 7):\n",
    "    km = KMeans(n_clusters=k, random_state=42)\n",
    "    km.fit(fruits_2d)\n",
    "    inertia.append(km.inertia_)\n",
    "\n",
    "plt.plot(range(2, 7), inertia)\n",
    "plt.show()"
   ]
  }
 ],
 "metadata": {
  "colab": {
   "collapsed_sections": [],
   "name": "6-2.ipynb",
   "provenance": []
  },
  "kernelspec": {
   "display_name": "Python 3 (ipykernel)",
   "language": "python",
   "name": "python3"
  },
  "language_info": {
   "codemirror_mode": {
    "name": "ipython",
    "version": 3
   },
   "file_extension": ".py",
   "mimetype": "text/x-python",
   "name": "python",
   "nbconvert_exporter": "python",
   "pygments_lexer": "ipython3",
   "version": "3.7.13"
  }
 },
 "nbformat": 4,
 "nbformat_minor": 1
}

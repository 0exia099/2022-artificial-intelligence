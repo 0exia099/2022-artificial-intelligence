{
  "nbformat": 4,
  "nbformat_minor": 0,
  "metadata": {
    "colab": {
      "name": "4-3. corona_rnn_final.ipynb",
      "provenance": []
    },
    "kernelspec": {
      "name": "python3",
      "display_name": "Python 3"
    }
  },
  "cells": [
    {
      "cell_type": "code",
      "metadata": {
        "id": "M9993fqTtAmA"
      },
      "source": [
        "from keras.models import Sequential\n",
        "from keras.layers import SimpleRNN, Dense\n",
        "from sklearn.preprocessing import MinMaxScaler\n",
        "from sklearn.metrics import mean_squared_error\n",
        "from sklearn.model_selection import train_test_split\n",
        "import math\n",
        "import numpy as np\n",
        "import matplotlib.pyplot as plt\n",
        "from pandas import read_csv"
      ],
      "execution_count": 1,
      "outputs": []
    },
    {
      "cell_type": "code",
      "metadata": {
        "id": "X6ZybiB0wun8",
        "colab": {
          "base_uri": "https://localhost:8080/"
        },
        "outputId": "e6748280-0f69-4a0e-ff3c-f802dd748efb"
      },
      "source": [
        "!git clone https://github.com/yhlee1627/deeplearning.git\n",
        "dataframe = read_csv('/content/deeplearning/corona_daily.csv', usecols=[3], engine='python', skipfooter=3)\n",
        "print(dataframe)\n",
        "dataset = dataframe.values\n",
        "dataset = dataset.astype('float32')"
      ],
      "execution_count": 2,
      "outputs": [
        {
          "output_type": "stream",
          "text": [
            "Cloning into 'deeplearning'...\n",
            "remote: Enumerating objects: 5, done.\u001b[K\n",
            "remote: Counting objects: 100% (5/5), done.\u001b[K\n",
            "remote: Compressing objects: 100% (3/3), done.\u001b[K\n",
            "remote: Total 5 (delta 0), reused 0 (delta 0), pack-reused 0\u001b[K\n",
            "Unpacking objects: 100% (5/5), done.\n",
            "     Confirmed\n",
            "0           24\n",
            "1           24\n",
            "2           27\n",
            "3           27\n",
            "4           28\n",
            "..         ...\n",
            "107      11190\n",
            "108      11206\n",
            "109      11225\n",
            "110      11265\n",
            "111      11344\n",
            "\n",
            "[112 rows x 1 columns]\n"
          ],
          "name": "stdout"
        }
      ]
    },
    {
      "cell_type": "code",
      "metadata": {
        "id": "O9zQ0KLdzN50",
        "colab": {
          "base_uri": "https://localhost:8080/"
        },
        "outputId": "1b56759b-d405-4b4a-f80c-02a5dd4827ad"
      },
      "source": [
        "scaler = MinMaxScaler(feature_range=(0, 1))\n",
        "Dataset = scaler.fit_transform(dataset)\n",
        "train_data, test_data = train_test_split(Dataset, test_size=0.2, shuffle=False)\n",
        "print(len(train_data), len(test_data))\n"
      ],
      "execution_count": null,
      "outputs": [
        {
          "output_type": "stream",
          "text": [
            "89 23\n"
          ],
          "name": "stdout"
        }
      ]
    },
    {
      "cell_type": "code",
      "metadata": {
        "id": "f1-s_IIl0joY"
      },
      "source": [
        "def create_dataset(dataset, look_back=10):\n",
        "  x_data = []\n",
        "  y_data = []\n",
        "  for i in range(len(dataset)-look_back-1):\n",
        "    data = dataset[i:(i+look_back), 0]\n",
        "    x_data.append(data)\n",
        "    y_data.append(dataset[i + look_back, 0])\n",
        "  return np.array(x_data), np.array(y_data)"
      ],
      "execution_count": null,
      "outputs": []
    },
    {
      "cell_type": "code",
      "metadata": {
        "id": "avRkJvj61CCY",
        "colab": {
          "base_uri": "https://localhost:8080/"
        },
        "outputId": "0fa8928e-4bcc-4894-9e01-819fd53fd8b2"
      },
      "source": [
        "look_back = 3\n",
        "x_train, y_train = create_dataset(train_data, look_back)\n",
        "x_test, y_test = create_dataset(test_data, look_back)\n",
        "\n",
        "print(x_train.shape, y_train.shape)\n",
        "print(x_test.shape, y_test.shape)"
      ],
      "execution_count": null,
      "outputs": [
        {
          "output_type": "stream",
          "text": [
            "(85, 3) (85,)\n",
            "(19, 3) (19,)\n"
          ],
          "name": "stdout"
        }
      ]
    },
    {
      "cell_type": "code",
      "metadata": {
        "id": "_C7ctt_j1TfE",
        "colab": {
          "base_uri": "https://localhost:8080/"
        },
        "outputId": "5f21355a-d0e8-4607-fc31-7cf8af4e390f"
      },
      "source": [
        "X_train = np.reshape(x_train, (x_train.shape[0], 1, x_train.shape[1]))\n",
        "X_test = np.reshape(x_test, (x_test.shape[0], 1, x_test.shape[1]))\n",
        "\n",
        "print(X_train.shape)\n",
        "print(X_test.shape)"
      ],
      "execution_count": null,
      "outputs": [
        {
          "output_type": "stream",
          "text": [
            "(85, 1, 3)\n",
            "(19, 1, 3)\n"
          ],
          "name": "stdout"
        }
      ]
    },
    {
      "cell_type": "code",
      "metadata": {
        "id": "g5VKAlNa1jW8",
        "colab": {
          "base_uri": "https://localhost:8080/"
        },
        "outputId": "8c937c2e-e4db-4aff-de76-5d5b7c11b1c3"
      },
      "source": [
        "model = Sequential()\n",
        "model.add(SimpleRNN(3, input_shape=(1, look_back)))\n",
        "model.add(Dense(1, activation=\"linear\"))\n",
        "model.compile(loss='mse', optimizer='sgd')\n",
        "model.summary()"
      ],
      "execution_count": null,
      "outputs": [
        {
          "output_type": "stream",
          "text": [
            "Model: \"sequential\"\n",
            "_________________________________________________________________\n",
            "Layer (type)                 Output Shape              Param #   \n",
            "=================================================================\n",
            "simple_rnn (SimpleRNN)       (None, 3)                 21        \n",
            "_________________________________________________________________\n",
            "dense (Dense)                (None, 1)                 4         \n",
            "=================================================================\n",
            "Total params: 25\n",
            "Trainable params: 25\n",
            "Non-trainable params: 0\n",
            "_________________________________________________________________\n"
          ],
          "name": "stdout"
        }
      ]
    },
    {
      "cell_type": "code",
      "metadata": {
        "id": "EzgYlrVQ2EiM",
        "colab": {
          "base_uri": "https://localhost:8080/"
        },
        "outputId": "97cbb685-eeac-4863-910a-99cdb37f2d9e"
      },
      "source": [
        "model.fit(X_train, y_train, epochs=100, batch_size=1, verbose=1)"
      ],
      "execution_count": null,
      "outputs": [
        {
          "output_type": "stream",
          "text": [
            "Epoch 1/100\n",
            "85/85 [==============================] - 0s 855us/step - loss: 2.0195e-04\n",
            "Epoch 2/100\n",
            "85/85 [==============================] - 0s 836us/step - loss: 2.0881e-04\n",
            "Epoch 3/100\n",
            "85/85 [==============================] - 0s 878us/step - loss: 2.0181e-04\n",
            "Epoch 4/100\n",
            "85/85 [==============================] - 0s 863us/step - loss: 2.0417e-04\n",
            "Epoch 5/100\n",
            "85/85 [==============================] - 0s 937us/step - loss: 2.0502e-04\n",
            "Epoch 6/100\n",
            "85/85 [==============================] - 0s 904us/step - loss: 2.0163e-04\n",
            "Epoch 7/100\n",
            "85/85 [==============================] - 0s 892us/step - loss: 2.0189e-04\n",
            "Epoch 8/100\n",
            "85/85 [==============================] - 0s 887us/step - loss: 2.0286e-04\n",
            "Epoch 9/100\n",
            "85/85 [==============================] - 0s 1ms/step - loss: 1.9715e-04\n",
            "Epoch 10/100\n",
            "85/85 [==============================] - 0s 914us/step - loss: 1.9664e-04\n",
            "Epoch 11/100\n",
            "85/85 [==============================] - 0s 887us/step - loss: 2.0039e-04\n",
            "Epoch 12/100\n",
            "85/85 [==============================] - 0s 915us/step - loss: 1.9718e-04\n",
            "Epoch 13/100\n",
            "85/85 [==============================] - 0s 977us/step - loss: 1.8716e-04\n",
            "Epoch 14/100\n",
            "85/85 [==============================] - 0s 880us/step - loss: 1.9113e-04\n",
            "Epoch 15/100\n",
            "85/85 [==============================] - 0s 912us/step - loss: 1.9777e-04\n",
            "Epoch 16/100\n",
            "85/85 [==============================] - 0s 926us/step - loss: 1.8993e-04\n",
            "Epoch 17/100\n",
            "85/85 [==============================] - 0s 969us/step - loss: 1.9602e-04\n",
            "Epoch 18/100\n",
            "85/85 [==============================] - 0s 854us/step - loss: 1.9434e-04\n",
            "Epoch 19/100\n",
            "85/85 [==============================] - 0s 1ms/step - loss: 1.9291e-04\n",
            "Epoch 20/100\n",
            "85/85 [==============================] - 0s 968us/step - loss: 1.9356e-04\n",
            "Epoch 21/100\n",
            "85/85 [==============================] - 0s 834us/step - loss: 1.8915e-04\n",
            "Epoch 22/100\n",
            "85/85 [==============================] - 0s 919us/step - loss: 1.9482e-04\n",
            "Epoch 23/100\n",
            "85/85 [==============================] - 0s 930us/step - loss: 1.9281e-04\n",
            "Epoch 24/100\n",
            "85/85 [==============================] - 0s 922us/step - loss: 1.9287e-04\n",
            "Epoch 25/100\n",
            "85/85 [==============================] - 0s 928us/step - loss: 1.8872e-04\n",
            "Epoch 26/100\n",
            "85/85 [==============================] - 0s 907us/step - loss: 1.8796e-04\n",
            "Epoch 27/100\n",
            "85/85 [==============================] - 0s 878us/step - loss: 1.8932e-04\n",
            "Epoch 28/100\n",
            "85/85 [==============================] - 0s 889us/step - loss: 1.8552e-04\n",
            "Epoch 29/100\n",
            "85/85 [==============================] - 0s 1ms/step - loss: 1.8976e-04\n",
            "Epoch 30/100\n",
            "85/85 [==============================] - 0s 907us/step - loss: 1.8800e-04\n",
            "Epoch 31/100\n",
            "85/85 [==============================] - 0s 882us/step - loss: 1.8331e-04\n",
            "Epoch 32/100\n",
            "85/85 [==============================] - 0s 974us/step - loss: 1.8114e-04\n",
            "Epoch 33/100\n",
            "85/85 [==============================] - 0s 935us/step - loss: 1.8815e-04\n",
            "Epoch 34/100\n",
            "85/85 [==============================] - 0s 915us/step - loss: 1.8520e-04\n",
            "Epoch 35/100\n",
            "85/85 [==============================] - 0s 1000us/step - loss: 1.8736e-04\n",
            "Epoch 36/100\n",
            "85/85 [==============================] - 0s 889us/step - loss: 1.8180e-04\n",
            "Epoch 37/100\n",
            "85/85 [==============================] - 0s 882us/step - loss: 1.8853e-04\n",
            "Epoch 38/100\n",
            "85/85 [==============================] - 0s 940us/step - loss: 1.7385e-04\n",
            "Epoch 39/100\n",
            "85/85 [==============================] - 0s 928us/step - loss: 1.8778e-04\n",
            "Epoch 40/100\n",
            "85/85 [==============================] - 0s 946us/step - loss: 1.8483e-04\n",
            "Epoch 41/100\n",
            "85/85 [==============================] - 0s 1ms/step - loss: 1.8395e-04\n",
            "Epoch 42/100\n",
            "85/85 [==============================] - 0s 899us/step - loss: 1.7585e-04\n",
            "Epoch 43/100\n",
            "85/85 [==============================] - 0s 888us/step - loss: 1.8592e-04\n",
            "Epoch 44/100\n",
            "85/85 [==============================] - 0s 952us/step - loss: 1.7853e-04\n",
            "Epoch 45/100\n",
            "85/85 [==============================] - 0s 906us/step - loss: 1.8255e-04\n",
            "Epoch 46/100\n",
            "85/85 [==============================] - 0s 871us/step - loss: 1.8104e-04\n",
            "Epoch 47/100\n",
            "85/85 [==============================] - 0s 888us/step - loss: 1.8141e-04\n",
            "Epoch 48/100\n",
            "85/85 [==============================] - 0s 958us/step - loss: 1.7889e-04\n",
            "Epoch 49/100\n",
            "85/85 [==============================] - 0s 903us/step - loss: 1.8116e-04\n",
            "Epoch 50/100\n",
            "85/85 [==============================] - 0s 942us/step - loss: 1.8139e-04\n",
            "Epoch 51/100\n",
            "85/85 [==============================] - 0s 929us/step - loss: 1.7843e-04\n",
            "Epoch 52/100\n",
            "85/85 [==============================] - 0s 904us/step - loss: 1.7886e-04\n",
            "Epoch 53/100\n",
            "85/85 [==============================] - 0s 971us/step - loss: 1.7827e-04\n",
            "Epoch 54/100\n",
            "85/85 [==============================] - 0s 1ms/step - loss: 1.7576e-04\n",
            "Epoch 55/100\n",
            "85/85 [==============================] - 0s 964us/step - loss: 1.7712e-04\n",
            "Epoch 56/100\n",
            "85/85 [==============================] - 0s 930us/step - loss: 1.7193e-04\n",
            "Epoch 57/100\n",
            "85/85 [==============================] - 0s 1ms/step - loss: 1.7768e-04\n",
            "Epoch 58/100\n",
            "85/85 [==============================] - 0s 940us/step - loss: 1.7574e-04\n",
            "Epoch 59/100\n",
            "85/85 [==============================] - 0s 883us/step - loss: 1.7784e-04\n",
            "Epoch 60/100\n",
            "85/85 [==============================] - 0s 937us/step - loss: 1.7573e-04\n",
            "Epoch 61/100\n",
            "85/85 [==============================] - 0s 872us/step - loss: 1.7887e-04\n",
            "Epoch 62/100\n",
            "85/85 [==============================] - 0s 873us/step - loss: 1.7634e-04\n",
            "Epoch 63/100\n",
            "85/85 [==============================] - 0s 930us/step - loss: 1.7465e-04\n",
            "Epoch 64/100\n",
            "85/85 [==============================] - 0s 941us/step - loss: 1.7399e-04\n",
            "Epoch 65/100\n",
            "85/85 [==============================] - 0s 964us/step - loss: 1.6794e-04\n",
            "Epoch 66/100\n",
            "85/85 [==============================] - 0s 935us/step - loss: 1.7487e-04\n",
            "Epoch 67/100\n",
            "85/85 [==============================] - 0s 896us/step - loss: 1.7095e-04\n",
            "Epoch 68/100\n",
            "85/85 [==============================] - 0s 877us/step - loss: 1.7080e-04\n",
            "Epoch 69/100\n",
            "85/85 [==============================] - 0s 1ms/step - loss: 1.6335e-04\n",
            "Epoch 70/100\n",
            "85/85 [==============================] - 0s 921us/step - loss: 1.6939e-04\n",
            "Epoch 71/100\n",
            "85/85 [==============================] - 0s 927us/step - loss: 1.7034e-04\n",
            "Epoch 72/100\n",
            "85/85 [==============================] - 0s 991us/step - loss: 1.6926e-04\n",
            "Epoch 73/100\n",
            "85/85 [==============================] - 0s 910us/step - loss: 1.6371e-04\n",
            "Epoch 74/100\n",
            "85/85 [==============================] - 0s 905us/step - loss: 1.7100e-04\n",
            "Epoch 75/100\n",
            "85/85 [==============================] - 0s 906us/step - loss: 1.6867e-04\n",
            "Epoch 76/100\n",
            "85/85 [==============================] - 0s 932us/step - loss: 1.6843e-04\n",
            "Epoch 77/100\n",
            "85/85 [==============================] - 0s 947us/step - loss: 1.6891e-04\n",
            "Epoch 78/100\n",
            "85/85 [==============================] - 0s 932us/step - loss: 1.6789e-04\n",
            "Epoch 79/100\n",
            "85/85 [==============================] - 0s 973us/step - loss: 1.7005e-04\n",
            "Epoch 80/100\n",
            "85/85 [==============================] - 0s 933us/step - loss: 1.6790e-04\n",
            "Epoch 81/100\n",
            "85/85 [==============================] - 0s 914us/step - loss: 1.6776e-04\n",
            "Epoch 82/100\n",
            "85/85 [==============================] - 0s 929us/step - loss: 1.6457e-04\n",
            "Epoch 83/100\n",
            "85/85 [==============================] - 0s 921us/step - loss: 1.6650e-04\n",
            "Epoch 84/100\n",
            "85/85 [==============================] - 0s 968us/step - loss: 1.6513e-04\n",
            "Epoch 85/100\n",
            "85/85 [==============================] - 0s 885us/step - loss: 1.5851e-04\n",
            "Epoch 86/100\n",
            "85/85 [==============================] - 0s 929us/step - loss: 1.6496e-04\n",
            "Epoch 87/100\n",
            "85/85 [==============================] - 0s 984us/step - loss: 1.6199e-04\n",
            "Epoch 88/100\n",
            "85/85 [==============================] - 0s 970us/step - loss: 1.6474e-04\n",
            "Epoch 89/100\n",
            "85/85 [==============================] - 0s 927us/step - loss: 1.6624e-04\n",
            "Epoch 90/100\n",
            "85/85 [==============================] - 0s 1ms/step - loss: 1.6546e-04\n",
            "Epoch 91/100\n",
            "85/85 [==============================] - 0s 1ms/step - loss: 1.5995e-04\n",
            "Epoch 92/100\n",
            "85/85 [==============================] - 0s 1ms/step - loss: 1.6338e-04\n",
            "Epoch 93/100\n",
            "85/85 [==============================] - 0s 986us/step - loss: 1.6325e-04\n",
            "Epoch 94/100\n",
            "85/85 [==============================] - 0s 1ms/step - loss: 1.6241e-04\n",
            "Epoch 95/100\n",
            "85/85 [==============================] - 0s 1ms/step - loss: 1.6538e-04\n",
            "Epoch 96/100\n",
            "85/85 [==============================] - 0s 964us/step - loss: 1.6089e-04\n",
            "Epoch 97/100\n",
            "85/85 [==============================] - 0s 1ms/step - loss: 1.6144e-04\n",
            "Epoch 98/100\n",
            "85/85 [==============================] - 0s 894us/step - loss: 1.5309e-04\n",
            "Epoch 99/100\n",
            "85/85 [==============================] - 0s 938us/step - loss: 1.6064e-04\n",
            "Epoch 100/100\n",
            "85/85 [==============================] - 0s 984us/step - loss: 1.6296e-04\n"
          ],
          "name": "stdout"
        },
        {
          "output_type": "execute_result",
          "data": {
            "text/plain": [
              "<tensorflow.python.keras.callbacks.History at 0x7fddbdf337b8>"
            ]
          },
          "metadata": {
            "tags": []
          },
          "execution_count": 9
        }
      ]
    },
    {
      "cell_type": "code",
      "metadata": {
        "id": "dP-k19T-2a06"
      },
      "source": [
        "trainPredict = model.predict(X_train)\n",
        "testPredict = model.predict(X_test)\n",
        "TrainPredict = scaler.inverse_transform(trainPredict)\n",
        "Y_train = scaler.inverse_transform([y_train])\n",
        "TestPredict = scaler.inverse_transform(testPredict)\n",
        "Y_test = scaler.inverse_transform([y_test])"
      ],
      "execution_count": null,
      "outputs": []
    },
    {
      "cell_type": "code",
      "metadata": {
        "id": "YGmwOeY22w8y",
        "colab": {
          "base_uri": "https://localhost:8080/"
        },
        "outputId": "fcf57da1-7c21-4251-c23e-d4a0f5120cdc"
      },
      "source": [
        "trainScore = math.sqrt(mean_squared_error(Y_train[0], TrainPredict[:,0]))\n",
        "print('Train Score: %.2f RMSE' % (trainScore))\n",
        "testScore = math.sqrt(mean_squared_error(Y_test[0], TestPredict[:,0]))\n",
        "print('Test Score: %.2f RMSE' % (testScore))"
      ],
      "execution_count": null,
      "outputs": [
        {
          "output_type": "stream",
          "text": [
            "Train Score: 140.31 RMSE\n",
            "Test Score: 197.01 RMSE\n"
          ],
          "name": "stdout"
        }
      ]
    },
    {
      "cell_type": "code",
      "metadata": {
        "id": "7u1LcOnq3B6-",
        "colab": {
          "base_uri": "https://localhost:8080/",
          "height": 265
        },
        "outputId": "5e92d4cd-d955-40ee-df82-0faae3ffbc37"
      },
      "source": [
        "trainPredictPlot = np.empty_like(dataset)\n",
        "trainPredictPlot[:, :] = np.nan\n",
        "trainPredictPlot[look_back:len(TrainPredict)+look_back, :] = TrainPredict\n",
        "testPredictPlot = np.empty_like(dataset)\n",
        "testPredictPlot[:, :] = np.nan\n",
        "testPredictPlot[len(TrainPredict)+(look_back+1)*2:len(dataset), :] = TestPredict\n",
        "plt.plot(dataset)\n",
        "plt.plot(trainPredictPlot)\n",
        "plt.plot(testPredictPlot)\n",
        "plt.show()"
      ],
      "execution_count": null,
      "outputs": [
        {
          "output_type": "display_data",
          "data": {
            "image/png": "[encoded data removed]",
            "text/plain": [
              "<Figure size 432x288 with 1 Axes>"
            ]
          },
          "metadata": {
            "tags": [],
            "needs_background": "light"
          }
        }
      ]
    }
  ]
}
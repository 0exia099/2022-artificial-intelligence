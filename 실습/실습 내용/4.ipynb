{
 "cells": [
  {
   "cell_type": "code",
   "execution_count": 1,
   "id": "65b9104f",
   "metadata": {},
   "outputs": [
    {
     "data": {
      "text/plain": [
       "14"
      ]
     },
     "execution_count": 1,
     "metadata": {},
     "output_type": "execute_result"
    }
   ],
   "source": [
    "file = open(\"output.txt\", \"w\")\n",
    "file.write(\"Hello World...\")"
   ]
  },
  {
   "cell_type": "code",
   "execution_count": 2,
   "id": "265be90e",
   "metadata": {},
   "outputs": [],
   "source": [
    "file.close()"
   ]
  },
  {
   "cell_type": "code",
   "execution_count": 3,
   "id": "1b5d405e",
   "metadata": {},
   "outputs": [
    {
     "name": "stdout",
     "output_type": "stream",
     "text": [
      "파일 이름? proverbs.txt\n"
     ]
    }
   ],
   "source": [
    "fname = input(\"파일 이름? \")"
   ]
  },
  {
   "cell_type": "code",
   "execution_count": 4,
   "id": "4e08515f",
   "metadata": {},
   "outputs": [
    {
     "name": "stdout",
     "output_type": "stream",
     "text": [
      "가장 긴 단어는 mysteriously 입니다.\n"
     ]
    }
   ],
   "source": [
    "file = open(fname, \"r\")\n",
    "\n",
    "max_length = 0\n",
    "for line in file:\n",
    "    for word in line.split():\n",
    "        if len(word) > max_length:\n",
    "            max_length = len(word)\n",
    "            longest = word\n",
    "            \n",
    "print(f\"가장 긴 단어는 {longest} 입니다.\")"
   ]
  },
  {
   "cell_type": "code",
   "execution_count": 8,
   "id": "22f327cc",
   "metadata": {},
   "outputs": [],
   "source": [
    "import random\n",
    "\n",
    "ofile = open(\"numbers.txt\", \"w\")\n",
    "for _ in range(10):\n",
    "    print(random.randint(1,100), file=ofile)\n",
    "ofile.close()"
   ]
  },
  {
   "cell_type": "code",
   "execution_count": 9,
   "id": "95839667",
   "metadata": {},
   "outputs": [],
   "source": [
    "ofile = open(\"numbers.txt\", \"r+\", encoding=\"utf-8\")\n",
    "total = count = 0\n",
    "for line in ofile:\n",
    "    total += int(line)\n",
    "    count += 1\n",
    "    \n",
    "print(f\"평균값 = {total/count}\", file=ofile)\n",
    "ofile.close()"
   ]
  },
  {
   "cell_type": "code",
   "execution_count": 13,
   "id": "ab0917b0",
   "metadata": {},
   "outputs": [],
   "source": [
    "ofile = open(\"numbers.txt\", \"r+\", encoding=\"utf-8\")\n",
    "ofile.write(\"셋째 줄입니다.\\n\")\n",
    "ofile.close()"
   ]
  },
  {
   "cell_type": "code",
   "execution_count": 14,
   "id": "84644b59",
   "metadata": {},
   "outputs": [],
   "source": [
    "import os\n",
    "\n",
    "os.mkdir(\"tmp\")\n",
    "os.chdir(\"tmp\")\n",
    "\n",
    "for x in range(26):\n",
    "    fname = chr(ord(\"A\")+x) + \".txt\"\n",
    "    file = open(fname, \"w\")\n",
    "    file.write(fname)\n",
    "    file.close()"
   ]
  },
  {
   "cell_type": "code",
   "execution_count": 15,
   "id": "63985f6b",
   "metadata": {},
   "outputs": [],
   "source": [
    "import getpass\n",
    "import hashlib"
   ]
  },
  {
   "cell_type": "code",
   "execution_count": 21,
   "id": "0a2bccf3",
   "metadata": {},
   "outputs": [
    {
     "name": "stdout",
     "output_type": "stream",
     "text": [
      "login id: park\n",
      "암호 등록: ········\n"
     ]
    }
   ],
   "source": [
    "login = input(\"login id: \")\n",
    "pwd = getpass.getpass(prompt=\"암호 등록: \")\n",
    "\n",
    "ofile = open(\"login.txt\", \"a\")\n",
    "encrypted = hashlib.sha256(pwd.encode()).hexdigest()\n",
    "print(f\"{login}:{encrypted}\", file=ofile)\n",
    "ofile.close()"
   ]
  },
  {
   "cell_type": "code",
   "execution_count": 23,
   "id": "8c5cff37",
   "metadata": {},
   "outputs": [
    {
     "name": "stdout",
     "output_type": "stream",
     "text": [
      "login id: cho\n",
      "암호 입력: ········\n",
      "등록된 사용자 입니다.\n"
     ]
    }
   ],
   "source": [
    "login = input(\"login id: \")\n",
    "pwd = getpass.getpass(prompt=\"암호 입력: \")\n",
    "encrypted = hashlib.sha256(pwd.encode()).hexdigest()\n",
    "\n",
    "file = open(\"login.txt\", \"r\")\n",
    "for line in file:\n",
    "    uid, pw = line.split(\":\")\n",
    "    pw = pw.strip()\n",
    "    if uid == login:\n",
    "        if encrypted == pw:\n",
    "            print(\"등록된 사용자 입니다.\")\n",
    "        else:\n",
    "            print(\"암호가 틀렸습니다.\")\n",
    "        break\n",
    "else:\n",
    "    print(\"등록되지 않은 login id 입니다.\")"
   ]
  },
  {
   "cell_type": "code",
   "execution_count": 24,
   "id": "d5fef185",
   "metadata": {},
   "outputs": [
    {
     "data": {
      "text/plain": [
       "[22, 34, 76, 67, 88, 8, 91, 77, 73, 97]"
      ]
     },
     "execution_count": 24,
     "metadata": {},
     "output_type": "execute_result"
    }
   ],
   "source": [
    "A = random.sample(range(1, 100), 10)\n",
    "A"
   ]
  },
  {
   "cell_type": "code",
   "execution_count": 27,
   "id": "780d9f6e",
   "metadata": {},
   "outputs": [],
   "source": [
    "import pickle\n",
    "\n",
    "pfile = open(\"pf.dat\", \"wb\")\n",
    "pickle.dump(A, pfile)\n",
    "pfile.close()"
   ]
  },
  {
   "cell_type": "code",
   "execution_count": 30,
   "id": "48d1c56c",
   "metadata": {},
   "outputs": [
    {
     "name": "stdout",
     "output_type": "stream",
     "text": [
      "[22, 34, 76, 67, 88, 8, 91, 77, 73, 97] [22, 34, 76, 67, 88, 8, 91, 77, 73, 97]\n"
     ]
    }
   ],
   "source": [
    "pfile = open(\"pf.dat\", \"rb\")\n",
    "B = pickle.load(pfile)\n",
    "pfile.close()\n",
    "print(A, B)"
   ]
  },
  {
   "cell_type": "code",
   "execution_count": 31,
   "id": "433a9703",
   "metadata": {},
   "outputs": [],
   "source": [
    "def dump(fname, container):\n",
    "    pfile = open(fname, \"ab\")\n",
    "    pickle.dump(container, pfile)\n",
    "    pfile.close()"
   ]
  },
  {
   "cell_type": "code",
   "execution_count": 32,
   "id": "5aa15a62",
   "metadata": {},
   "outputs": [],
   "source": [
    "dump(\"pf.dat\", ('A', 'B', 'C'))"
   ]
  },
  {
   "cell_type": "code",
   "execution_count": 33,
   "id": "25ea292a",
   "metadata": {},
   "outputs": [],
   "source": [
    "dump(\"pf.dat\", {\"강감찬\", \"이순신\", \"홍길동\"})\n",
    "dump(\"pf.dat\", {1:'A', 2:'B+', 3:'C', 4:'A+'})"
   ]
  },
  {
   "cell_type": "code",
   "execution_count": 36,
   "id": "89223177",
   "metadata": {},
   "outputs": [
    {
     "name": "stdout",
     "output_type": "stream",
     "text": [
      "[[22, 34, 76, 67, 88, 8, 91, 77, 73, 97], ('A', 'B', 'C'), {'이순신', '강감찬', '홍길동'}, {1: 'A', 2: 'B+', 3: 'C', 4: 'A+'}]\n"
     ]
    }
   ],
   "source": [
    "pfile = open(\"pf.dat\", \"rb\")\n",
    "L = []\n",
    "try:\n",
    "    while True:\n",
    "        L.append(pickle.load(pfile))\n",
    "except EOFError:\n",
    "    pass\n",
    "\n",
    "print(L)"
   ]
  },
  {
   "cell_type": "code",
   "execution_count": 35,
   "id": "7a8d611e",
   "metadata": {},
   "outputs": [
    {
     "data": {
      "text/plain": [
       "[[22, 34, 76, 67, 88, 8, 91, 77, 73, 97],\n",
       " ('A', 'B', 'C'),\n",
       " {'강감찬', '이순신', '홍길동'},\n",
       " {1: 'A', 2: 'B+', 3: 'C', 4: 'A+'}]"
      ]
     },
     "execution_count": 35,
     "metadata": {},
     "output_type": "execute_result"
    }
   ],
   "source": [
    "L"
   ]
  },
  {
   "cell_type": "code",
   "execution_count": 37,
   "id": "5a9b27c9",
   "metadata": {},
   "outputs": [
    {
     "name": "stdout",
     "output_type": "stream",
     "text": [
      "n? 200\n"
     ]
    }
   ],
   "source": [
    "n = int(input(\"n? \"))"
   ]
  },
  {
   "cell_type": "code",
   "execution_count": 38,
   "id": "723ecb26",
   "metadata": {},
   "outputs": [
    {
     "data": {
      "text/plain": [
       "66"
      ]
     },
     "execution_count": 38,
     "metadata": {},
     "output_type": "execute_result"
    }
   ],
   "source": [
    "len([x for x in range(1, n+1) if x % 3 == 0])"
   ]
  },
  {
   "cell_type": "code",
   "execution_count": 39,
   "id": "200ff71e",
   "metadata": {},
   "outputs": [
    {
     "data": {
      "text/plain": [
       "66"
      ]
     },
     "execution_count": 39,
     "metadata": {},
     "output_type": "execute_result"
    }
   ],
   "source": [
    "sum([1 for x in range(1, n+1) if x % 3 == 0])"
   ]
  },
  {
   "cell_type": "code",
   "execution_count": 44,
   "id": "f69b804b",
   "metadata": {},
   "outputs": [
    {
     "name": "stdout",
     "output_type": "stream",
     "text": [
      "정수나 실수를 입력하시오: 4.5\n"
     ]
    }
   ],
   "source": [
    "n = eval(input(\"정수나 실수를 입력하시오: \"))"
   ]
  },
  {
   "cell_type": "code",
   "execution_count": 45,
   "id": "1762d10f",
   "metadata": {},
   "outputs": [
    {
     "name": "stdout",
     "output_type": "stream",
     "text": [
      "4.5 <class 'float'>\n"
     ]
    }
   ],
   "source": [
    "print(n, type(n))"
   ]
  },
  {
   "cell_type": "code",
   "execution_count": 46,
   "id": "6d9198ac",
   "metadata": {},
   "outputs": [],
   "source": [
    "def square(x):\n",
    "    return x * x"
   ]
  },
  {
   "cell_type": "code",
   "execution_count": 47,
   "id": "d4bd6cde",
   "metadata": {},
   "outputs": [],
   "source": [
    "def squareList(L):\n",
    "    return list(map(square, L))"
   ]
  },
  {
   "cell_type": "code",
   "execution_count": 48,
   "id": "4c43548e",
   "metadata": {},
   "outputs": [
    {
     "name": "stdout",
     "output_type": "stream",
     "text": [
      "[1, 2, 3, 4, 5, 6, 7, 8, 9] [1, 6, 11, 16, 21, 26, 31, 36, 41, 46]\n"
     ]
    }
   ],
   "source": [
    "l1 = list(range(1, 10))\n",
    "l2 = list(range(1, 50, 5))\n",
    "print(l1, l2)"
   ]
  },
  {
   "cell_type": "code",
   "execution_count": 49,
   "id": "3bc4a712",
   "metadata": {},
   "outputs": [
    {
     "name": "stdout",
     "output_type": "stream",
     "text": [
      "[1, 4, 9, 16, 25, 36, 49, 64, 81]\n"
     ]
    }
   ],
   "source": [
    "print(squareList(l1))"
   ]
  },
  {
   "cell_type": "code",
   "execution_count": 50,
   "id": "150d12c6",
   "metadata": {},
   "outputs": [
    {
     "name": "stdout",
     "output_type": "stream",
     "text": [
      "[1, 36, 121, 256, 441, 676, 961, 1296, 1681, 2116]\n"
     ]
    }
   ],
   "source": [
    "print(squareList(l2))"
   ]
  },
  {
   "cell_type": "code",
   "execution_count": 51,
   "id": "e353bbaf",
   "metadata": {},
   "outputs": [],
   "source": [
    "def even(x):\n",
    "    return x % 2 == 0"
   ]
  },
  {
   "cell_type": "code",
   "execution_count": 55,
   "id": "321f87c9",
   "metadata": {},
   "outputs": [],
   "source": [
    "def squareEvenList(L):\n",
    "    return list(map(lambda x:x*x, filter(lambda y:y%2==0, L)))"
   ]
  },
  {
   "cell_type": "code",
   "execution_count": 56,
   "id": "b95caed5",
   "metadata": {},
   "outputs": [
    {
     "name": "stdout",
     "output_type": "stream",
     "text": [
      "[4, 16, 36, 64]\n"
     ]
    }
   ],
   "source": [
    "print(squareEvenList(l1))"
   ]
  },
  {
   "cell_type": "code",
   "execution_count": 57,
   "id": "17b83d4c",
   "metadata": {},
   "outputs": [
    {
     "name": "stdout",
     "output_type": "stream",
     "text": [
      "[36, 256, 676, 1296, 2116]\n"
     ]
    }
   ],
   "source": [
    "print(squareEvenList(l2))"
   ]
  },
  {
   "cell_type": "code",
   "execution_count": 58,
   "id": "5c2e6f64",
   "metadata": {},
   "outputs": [],
   "source": [
    "def squareList(L):\n",
    "    return list(map(lambda x:x*x, L))\n",
    "\n",
    "def squareEvenList(L):\n",
    "    return list(map(lambda x:x*x, filter(lambda x:x%2==0, L)))"
   ]
  },
  {
   "cell_type": "code",
   "execution_count": 59,
   "id": "819a884b",
   "metadata": {},
   "outputs": [
    {
     "name": "stdout",
     "output_type": "stream",
     "text": [
      "[4, 16, 36, 64]\n"
     ]
    }
   ],
   "source": [
    "print(squareEvenList(l1))"
   ]
  },
  {
   "cell_type": "code",
   "execution_count": 60,
   "id": "77884b8b",
   "metadata": {},
   "outputs": [
    {
     "name": "stdout",
     "output_type": "stream",
     "text": [
      "[1, 36, 121, 256, 441, 676, 961, 1296, 1681, 2116]\n"
     ]
    }
   ],
   "source": [
    "print(squareList(l2))"
   ]
  },
  {
   "cell_type": "code",
   "execution_count": 61,
   "id": "62528794",
   "metadata": {},
   "outputs": [],
   "source": [
    "students = [\"kim\", \"lee\", \"park\", \"ahn\", \"cho\"]\n",
    "math = [70, 80, 83, 67, 77]\n",
    "eng = [95, 88, 90, 91, 92]"
   ]
  },
  {
   "cell_type": "code",
   "execution_count": 62,
   "id": "05f5088f",
   "metadata": {},
   "outputs": [
    {
     "name": "stdout",
     "output_type": "stream",
     "text": [
      "[('kim', 70), ('lee', 80), ('park', 83), ('ahn', 67), ('cho', 77)]\n"
     ]
    }
   ],
   "source": [
    "print(list(zip(students, math)))"
   ]
  },
  {
   "cell_type": "code",
   "execution_count": 64,
   "id": "e2e011e5",
   "metadata": {},
   "outputs": [
    {
     "name": "stdout",
     "output_type": "stream",
     "text": [
      "수학 최고 = park\n"
     ]
    }
   ],
   "source": [
    "print(\"수학 최고 =\", max(zip(students,math), key=lambda x:x[1])[0])"
   ]
  },
  {
   "cell_type": "code",
   "execution_count": 67,
   "id": "6adb3ac0",
   "metadata": {},
   "outputs": [],
   "source": [
    "T = [('국어', 97), ('영어', 70), ('수학', 71), ('과학', 70), ('한국사', 78)]"
   ]
  },
  {
   "cell_type": "code",
   "execution_count": 69,
   "id": "f009f236",
   "metadata": {},
   "outputs": [
    {
     "data": {
      "text/plain": [
       "[('과학', 70), ('영어', 70), ('수학', 71), ('한국사', 78), ('국어', 97)]"
      ]
     },
     "execution_count": 69,
     "metadata": {},
     "output_type": "execute_result"
    }
   ],
   "source": [
    "sorted(T, key=lambda x:(x[1],x[0]))"
   ]
  },
  {
   "cell_type": "code",
   "execution_count": 70,
   "id": "af11119c",
   "metadata": {},
   "outputs": [],
   "source": [
    "class Student:\n",
    "    def __init__(self, sid, name, grade):\n",
    "        self.id = sid\n",
    "        self.name = name\n",
    "        self.grade = grade\n",
    "        \n",
    "    def __repr__(self):\n",
    "        return f\"({self.id}, {self.name}, {self.grade})\"\n",
    "    \n",
    "    def getId(self):\n",
    "        return self.id\n",
    "    \n",
    "    def getName(self):\n",
    "        return self.name\n",
    "    \n",
    "    def getGrade(self):\n",
    "        return self.grade"
   ]
  },
  {
   "cell_type": "code",
   "execution_count": 71,
   "id": "9d1672d5",
   "metadata": {},
   "outputs": [
    {
     "name": "stdout",
     "output_type": "stream",
     "text": [
      "[(20152041, kim, 3.7), (20171132, ahn, 3.2), (20191234, cho, 3.3)]\n",
      "[(20171132, ahn, 3.2), (20191234, cho, 3.3), (20152041, kim, 3.7)]\n",
      "[(20152041, kim, 3.7), (20191234, cho, 3.3), (20171132, ahn, 3.2)]\n"
     ]
    }
   ],
   "source": [
    "s1 = Student(20152041, \"kim\", 3.7)\n",
    "s2 = Student(20171132, \"ahn\", 3.2)\n",
    "s3 = Student(20191234, \"cho\", 3.3)\n",
    "li = [s1, s2, s3]\n",
    "\n",
    "print(sorted(li, key=lambda s:s.getId()))\n",
    "print(sorted(li, key=lambda s:s.getName()))\n",
    "print(sorted(li, key=lambda s:s.getGrade(), reverse=True))"
   ]
  },
  {
   "cell_type": "code",
   "execution_count": 72,
   "id": "99ea3c56",
   "metadata": {},
   "outputs": [],
   "source": [
    "class MyEnumerate:\n",
    "    def __init__(self, seq):\n",
    "        self.seq = seq[:]\n",
    "        self.index = 0\n",
    "        \n",
    "    def __iter__(self):\n",
    "        return self\n",
    "    \n",
    "    def __next__(self):\n",
    "        if self.index == len(self.seq):\n",
    "            raise StopIteration\n",
    "        else:\n",
    "            self.index += 1\n",
    "            return (self.index-1, self.seq[self.index-1])"
   ]
  },
  {
   "cell_type": "code",
   "execution_count": 74,
   "id": "f15a9961",
   "metadata": {},
   "outputs": [
    {
     "name": "stdout",
     "output_type": "stream",
     "text": [
      "0 : 강감찬\n",
      "1 : 이순신\n",
      "2 : 을지문덕\n"
     ]
    }
   ],
   "source": [
    "for index, letter in MyEnumerate(['강감찬', '이순신', '을지문덕']):\n",
    "    print(f\"{index} : {letter}\")"
   ]
  },
  {
   "cell_type": "code",
   "execution_count": 77,
   "id": "341d7aca",
   "metadata": {},
   "outputs": [],
   "source": [
    "def myCounter(start, step):\n",
    "    value = start\n",
    "    while True:\n",
    "        yield value\n",
    "        value += step"
   ]
  },
  {
   "cell_type": "code",
   "execution_count": 80,
   "id": "c8adf358",
   "metadata": {},
   "outputs": [
    {
     "name": "stdout",
     "output_type": "stream",
     "text": [
      "1 6 11 16 21 26 31 36 41 46 51 56 61 66 71 76 81 86 91 96 101 "
     ]
    }
   ],
   "source": [
    "for x in myCounter(1, 5):\n",
    "    print(x, end=\" \")\n",
    "    if x > 100:\n",
    "        break"
   ]
  },
  {
   "cell_type": "code",
   "execution_count": 81,
   "id": "89b2cabb",
   "metadata": {},
   "outputs": [],
   "source": [
    "def picalc():\n",
    "    num = denom = 1\n",
    "    result = increment = 0\n",
    "    while True:\n",
    "        result += num / denom\n",
    "        yield result * 2\n",
    "        increment += 1\n",
    "        num *= increment\n",
    "        denom *= 2 * increment + 1"
   ]
  },
  {
   "cell_type": "code",
   "execution_count": 82,
   "id": "2305f594",
   "metadata": {},
   "outputs": [
    {
     "name": "stdout",
     "output_type": "stream",
     "text": [
      "2.0\n",
      "2.6666666666666665\n",
      "2.933333333333333\n",
      "3.0476190476190474\n",
      "3.098412698412698\n",
      "3.121500721500721\n",
      "3.132156732156732\n",
      "3.1371295371295367\n",
      "3.1394696806461506\n",
      "3.140578169680336\n",
      "3.141106021601377\n",
      "3.1413584725201353\n",
      "3.1414796489611394\n",
      "3.1415379931734746\n",
      "3.1415661593449467\n",
      "3.1415797881375944\n",
      "3.1415863960370602\n",
      "3.141589605588229\n",
      "3.1415911669915006\n",
      "3.1415919276751456\n"
     ]
    }
   ],
   "source": [
    "g = picalc()\n",
    "for _ in range(20):\n",
    "    print(next(g))"
   ]
  },
  {
   "cell_type": "code",
   "execution_count": 87,
   "id": "9c2bdd87",
   "metadata": {},
   "outputs": [
    {
     "name": "stderr",
     "output_type": "stream",
     "text": [
      "[nltk_data] Downloading package stopwords to\n",
      "[nltk_data]     C:\\Users\\user\\AppData\\Roaming\\nltk_data...\n",
      "[nltk_data]   Package stopwords is already up-to-date!\n"
     ]
    }
   ],
   "source": [
    "import nltk\n",
    "from nltk.corpus import stopwords\n",
    "\n",
    "nltk.download('stopwords')\n",
    "stop_words = stopwords.words('english')"
   ]
  },
  {
   "cell_type": "code",
   "execution_count": 105,
   "id": "ad9888cc",
   "metadata": {},
   "outputs": [],
   "source": [
    "stop_words.append('though')"
   ]
  },
  {
   "cell_type": "code",
   "execution_count": 91,
   "id": "5718ad83",
   "metadata": {},
   "outputs": [
    {
     "name": "stdout",
     "output_type": "stream",
     "text": [
      "파일 이름, 최소 길이, k? mobydick.txt 5 10\n"
     ]
    }
   ],
   "source": [
    "filename, minlen, k = input(\"파일 이름, 최소 길이, k? \").split()\n",
    "minlen, k = int(minlen), int(k)"
   ]
  },
  {
   "cell_type": "code",
   "execution_count": 99,
   "id": "788f5cff",
   "metadata": {},
   "outputs": [],
   "source": [
    "file = open(filename, \"r\")\n",
    "freq = {}\n",
    "for line in file:\n",
    "    for word in line.lower().split():\n",
    "        if len(word) < minlen or word in stop_words:\n",
    "            continue\n",
    "        freq[word] = freq.get(word, 0) + 1\n",
    "file.close()"
   ]
  },
  {
   "cell_type": "code",
   "execution_count": 100,
   "id": "85c15c39",
   "metadata": {},
   "outputs": [
    {
     "name": "stdout",
     "output_type": "stream",
     "text": [
      "[('whale', 298), ('though', 193), ('moby-dick', 192), ('captain', 171), ('little', 158), ('great', 155), ('white', 142), ('seemed', 142), ('first', 127), ('three', 117)]\n"
     ]
    }
   ],
   "source": [
    "results = sorted(freq.items(), key=lambda x:x[1], reverse=True)[:k]\n",
    "print(results)"
   ]
  },
  {
   "cell_type": "code",
   "execution_count": 106,
   "id": "d2a6c675",
   "metadata": {},
   "outputs": [],
   "source": [
    "import re\n",
    "\n",
    "file = open(filename, \"r\")\n",
    "text = file.read().lower()\n",
    "\n",
    "freq = {}\n",
    "for sentence in re.split(\"[.?!]\", text):\n",
    "    words = sorted(sentence.split())\n",
    "    for x in range(len(words) - 1):\n",
    "        if len(words[x]) < minlen or words[x] in stop_words:\n",
    "            continue\n",
    "        for y in range(x+1, len(words)):\n",
    "            if len(words[y]) < minlen or words[y] in stop_words or words[x] == words[y]:\n",
    "                continue\n",
    "            freq[(words[x], words[y])] = freq.get((words[x], words[y]), 0) + 1\n",
    "file.close()"
   ]
  },
  {
   "cell_type": "code",
   "execution_count": 107,
   "id": "73d5e238",
   "metadata": {},
   "outputs": [
    {
     "name": "stdout",
     "output_type": "stream",
     "text": [
      "[(('sperm', 'whale'), 74), (('whale', 'white'), 70), (('great', 'whale'), 40), (('white', 'whiteness'), 38), (('great', 'white'), 34), (('moby-dick', 'whale'), 32), (('right', 'whale'), 32), (('captain', 'peleg'), 31), (('whale', 'whale,'), 31), (('among', 'white'), 27)]\n"
     ]
    }
   ],
   "source": [
    "results = sorted(freq.items(), key=lambda x:x[1], reverse=True)[:k]\n",
    "print(results)"
   ]
  },
  {
   "cell_type": "code",
   "execution_count": 108,
   "id": "d54a9486",
   "metadata": {},
   "outputs": [],
   "source": [
    "def make_shingle_set(fname, k):\n",
    "    sset = set()\n",
    "    file = open(fname, \"r\")\n",
    "    words = file.read().split()\n",
    "    for x in range(len(words) - k + 1):\n",
    "        sset.add(tuple(words[x:x+k]))\n",
    "    return sset"
   ]
  },
  {
   "cell_type": "code",
   "execution_count": 120,
   "id": "30de3209",
   "metadata": {},
   "outputs": [
    {
     "name": "stdout",
     "output_type": "stream",
     "text": [
      "두 개의 파일 이름과 k? f1.txt f2.txt 4\n"
     ]
    }
   ],
   "source": [
    "fname1, fname2, k = input(\"두 개의 파일 이름과 k? \").split()\n",
    "k = int(k)"
   ]
  },
  {
   "cell_type": "code",
   "execution_count": 121,
   "id": "1f30d13a",
   "metadata": {},
   "outputs": [
    {
     "name": "stdout",
     "output_type": "stream",
     "text": [
      "유사도 = 0.8058287144645092\n"
     ]
    }
   ],
   "source": [
    "s1 = make_shingle_set(fname1, k)\n",
    "s2 = make_shingle_set(fname2, k)\n",
    "print(\"유사도 =\", len(s1 & s2) / len(s1 | s2))"
   ]
  },
  {
   "cell_type": "code",
   "execution_count": 114,
   "id": "5eab6343",
   "metadata": {},
   "outputs": [
    {
     "data": {
      "text/plain": [
       "{('1', '2', '3', '4', '5'),\n",
       " ('2', '3', '4', '5', '6'),\n",
       " ('3', '4', '5', '6', '7'),\n",
       " ('4', '5', '6', '7', 'A')}"
      ]
     },
     "execution_count": 114,
     "metadata": {},
     "output_type": "execute_result"
    }
   ],
   "source": [
    "s2"
   ]
  }
 ],
 "metadata": {
  "kernelspec": {
   "display_name": "Python 3.10.5 64-bit",
   "language": "python",
   "name": "python3"
  },
  "language_info": {
   "codemirror_mode": {
    "name": "ipython",
    "version": 3
   },
   "file_extension": ".py",
   "mimetype": "text/x-python",
   "name": "python",
   "nbconvert_exporter": "python",
   "pygments_lexer": "ipython3",
   "version": "3.10.5"
  },
  "vscode": {
   "interpreter": {
    "hash": "fb4569285eef3a3450cb62085a5b1e0da4bce0af555edc33dcf29baf3acc1368"
   }
  }
 },
 "nbformat": 4,
 "nbformat_minor": 5
}

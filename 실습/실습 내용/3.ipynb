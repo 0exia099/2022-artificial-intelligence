{
 "cells": [
  {
   "cell_type": "code",
   "execution_count": 1,
   "id": "2405810e",
   "metadata": {},
   "outputs": [],
   "source": [
    "class Point:\n",
    "    def __init__(self, x, y):\n",
    "        self.x = x\n",
    "        self.y = y\n",
    "        \n",
    "    def __str__(self):\n",
    "        return f\"({self.x}, {self.y})\""
   ]
  },
  {
   "cell_type": "code",
   "execution_count": 4,
   "id": "dc8609ff",
   "metadata": {},
   "outputs": [],
   "source": [
    "class Point3D(Point):\n",
    "    def __init__(self, x, y, z):\n",
    "        super().__init__(x, y)\n",
    "        self.z = z\n",
    "        \n",
    "    def __str__(self):\n",
    "        return f\"({self.x}, {self.y}, {self.z})\""
   ]
  },
  {
   "cell_type": "code",
   "execution_count": 5,
   "id": "41939302",
   "metadata": {},
   "outputs": [
    {
     "name": "stdout",
     "output_type": "stream",
     "text": [
      "(20, 30)\n",
      "(20, 30, 40)\n"
     ]
    }
   ],
   "source": [
    "p1 = Point(20, 30)\n",
    "print(p1)\n",
    "p2 = Point3D(20, 30, 40)\n",
    "print(p2)"
   ]
  },
  {
   "cell_type": "code",
   "execution_count": 6,
   "id": "d0f74c04",
   "metadata": {},
   "outputs": [],
   "source": [
    "class Animal:\n",
    "    def __init__(self, age):\n",
    "        self.age = age"
   ]
  },
  {
   "cell_type": "code",
   "execution_count": 7,
   "id": "d06cb74f",
   "metadata": {},
   "outputs": [],
   "source": [
    "class Cat(Animal):\n",
    "    def __init__(self, name, age, breed):\n",
    "        super().__init__(age)\n",
    "        self.name = name\n",
    "        self.breed = breed\n",
    "        \n",
    "    def __str__(self):\n",
    "        return f\"이름={self.name}, 나이={self.age}, 종={self.breed}\"\n",
    "    \n",
    "    def __gt__(self, other):\n",
    "        return self.age > other.age"
   ]
  },
  {
   "cell_type": "code",
   "execution_count": 8,
   "id": "5297900f",
   "metadata": {},
   "outputs": [],
   "source": [
    "def get_oldest_cat(*args):\n",
    "    return max(args)"
   ]
  },
  {
   "cell_type": "code",
   "execution_count": 9,
   "id": "8acacc4f",
   "metadata": {},
   "outputs": [
    {
     "name": "stdout",
     "output_type": "stream",
     "text": [
      "가장 나이 많은 고양이: 이름=프린세스, 나이=5, 종=러시안블루\n",
      "이름=나비, 나이=2, 종=아비시니안\n",
      "이름=야옹이, 나이=4, 종=페르시안\n",
      "이름=프린세스, 나이=5, 종=러시안블루\n"
     ]
    }
   ],
   "source": [
    "c1 = Cat(\"야옹이\", 4, \"페르시안\")\n",
    "c2 = Cat(\"나비\", 2, \"아비시니안\")\n",
    "c3 = Cat(\"프린세스\", 5, \"러시안블루\")\n",
    "print(\"가장 나이 많은 고양이:\", get_oldest_cat(c1, c2, c3))\n",
    "\n",
    "for item in sorted([c1, c2, c3]):   # 객체간의 크기 비교\n",
    "    print(item)"
   ]
  },
  {
   "cell_type": "code",
   "execution_count": 25,
   "id": "9b756cfd",
   "metadata": {},
   "outputs": [],
   "source": [
    "class Course:\n",
    "    def __init__(self, name, degree):\n",
    "        self.name = name\n",
    "        self.degree = degree\n",
    "        \n",
    "    def __repr__(self):\n",
    "        return f\"({self.name}, {self.degree})\""
   ]
  },
  {
   "cell_type": "code",
   "execution_count": 26,
   "id": "b0583324",
   "metadata": {},
   "outputs": [],
   "source": [
    "class Department:\n",
    "    def __init__(self, name):\n",
    "        self.name = name\n",
    "        self.courses = []\n",
    "        \n",
    "    def __str__(self):\n",
    "        return f\"학과이름 = {self.name}, 개설 과목 = {self.courses}\"\n",
    "    \n",
    "    def add_course(self, cname, degree):\n",
    "        co = Course(cname, degree)\n",
    "        self.courses.append(co)\n",
    "        return co"
   ]
  },
  {
   "cell_type": "code",
   "execution_count": 27,
   "id": "01653fbf",
   "metadata": {},
   "outputs": [],
   "source": [
    "class Student:\n",
    "    def __init__(self, name, sid):\n",
    "        self.name = name\n",
    "        self.id = sid\n",
    "        self.courses = []\n",
    "        \n",
    "    def __str__(self):\n",
    "        return f\"학생 이름 = {self.name}, 학번 = {self.id}, 수강 과목 = {self.courses}\"\n",
    "    \n",
    "    def enroll(self, co):\n",
    "        self.courses.append(co)"
   ]
  },
  {
   "cell_type": "code",
   "execution_count": 28,
   "id": "5baa2bc9",
   "metadata": {},
   "outputs": [
    {
     "name": "stdout",
     "output_type": "stream",
     "text": [
      "학과이름 = 컴퓨터공학과, 개설 과목 = [(대학생활의설계, 1), (인공지능, 3), (파이썬프로그래밍, 3)]\n",
      "학생 이름 = 홍길동, 학번 = 2020001, 수강 과목 = [(인공지능, 3), (파이썬프로그래밍, 3)]\n"
     ]
    }
   ],
   "source": [
    "dept = Department(\"컴퓨터공학과\")\n",
    "c1 = dept.add_course(\"대학생활의설계\", 1)\n",
    "c2 = dept.add_course(\"인공지능\", 3)\n",
    "c3 = dept.add_course(\"파이썬프로그래밍\", 3)\n",
    "print(dept)\n",
    "\n",
    "st = Student(\"홍길동\", 2020001)\n",
    "st.enroll(c2)\n",
    "st.enroll(c3)\n",
    "print(st)"
   ]
  },
  {
   "cell_type": "code",
   "execution_count": 1,
   "id": "fca1f5cf",
   "metadata": {},
   "outputs": [],
   "source": [
    "import turtle\n",
    "\n",
    "class Shape:\n",
    "    def __init__(self, x, y, color):\n",
    "        self.t = turtle.Turtle()\n",
    "        self.t.up()\n",
    "        self.t.goto(x, y)\n",
    "        self.t.down()\n",
    "        self.t.color(color)\n",
    "        self.t.width(5)\n",
    "        \n",
    "    def draw(self):\n",
    "        pass"
   ]
  },
  {
   "cell_type": "code",
   "execution_count": 2,
   "id": "cfaac32d",
   "metadata": {},
   "outputs": [],
   "source": [
    "class Rectangle(Shape):\n",
    "    def __init__(self, x, y, length, color):\n",
    "        super().__init__(x, y, color)\n",
    "        self.length = length\n",
    "        \n",
    "    def draw(self):\n",
    "        for _ in range(4):\n",
    "            self.t.fd(self.length)\n",
    "            self.t.left(90)"
   ]
  },
  {
   "cell_type": "code",
   "execution_count": 3,
   "id": "535a0971",
   "metadata": {},
   "outputs": [],
   "source": [
    "class Circle(Shape):\n",
    "    def __init__(self, x, y, length, color):\n",
    "        super().__init__(x, y, color)\n",
    "        self.r = length\n",
    "        \n",
    "    def draw(self):\n",
    "        self.t.circle(self.r)"
   ]
  },
  {
   "cell_type": "code",
   "execution_count": 4,
   "id": "bd102334",
   "metadata": {},
   "outputs": [
    {
     "ename": "Terminator",
     "evalue": "",
     "output_type": "error",
     "traceback": [
      "\u001b[1;31m---------------------------------------------------------------------------\u001b[0m",
      "\u001b[1;31mTerminator\u001b[0m                                Traceback (most recent call last)",
      "\u001b[1;32m<ipython-input-4-f76f1d3dc463>\u001b[0m in \u001b[0;36m<module>\u001b[1;34m\u001b[0m\n\u001b[0;32m      9\u001b[0m \u001b[1;33m\u001b[0m\u001b[0m\n\u001b[0;32m     10\u001b[0m \u001b[0mturtle\u001b[0m\u001b[1;33m.\u001b[0m\u001b[0mmainloop\u001b[0m\u001b[1;33m(\u001b[0m\u001b[1;33m)\u001b[0m\u001b[1;33m\u001b[0m\u001b[1;33m\u001b[0m\u001b[0m\n\u001b[1;32m---> 11\u001b[1;33m \u001b[0mturtle\u001b[0m\u001b[1;33m.\u001b[0m\u001b[0mbye\u001b[0m\u001b[1;33m(\u001b[0m\u001b[1;33m)\u001b[0m\u001b[1;33m\u001b[0m\u001b[1;33m\u001b[0m\u001b[0m\n\u001b[0m",
      "\u001b[1;32m~\\miniconda3\\lib\\turtle.py\u001b[0m in \u001b[0;36mbye\u001b[1;34m()\u001b[0m\n",
      "\u001b[1;31mTerminator\u001b[0m: "
     ]
    }
   ],
   "source": [
    "import turtle\n",
    "\n",
    "r1 = Rectangle(-50, -50, 200, 'red')\n",
    "r2 = Rectangle(160, 120, 150, 'blue')\n",
    "c1 = Circle(-120, -100, 120, 'green')\n",
    "r1.draw()\n",
    "r2.draw()\n",
    "c1.draw()\n",
    "\n",
    "turtle.mainloop()\n",
    "turtle.bye()"
   ]
  },
  {
   "cell_type": "code",
   "execution_count": null,
   "id": "a50e52fd",
   "metadata": {},
   "outputs": [],
   "source": []
  }
 ],
 "metadata": {
  "kernelspec": {
   "display_name": "Python 3",
   "language": "python",
   "name": "python3"
  },
  "language_info": {
   "codemirror_mode": {
    "name": "ipython",
    "version": 3
   },
   "file_extension": ".py",
   "mimetype": "text/x-python",
   "name": "python",
   "nbconvert_exporter": "python",
   "pygments_lexer": "ipython3",
   "version": "3.9.1"
  }
 },
 "nbformat": 4,
 "nbformat_minor": 5
}

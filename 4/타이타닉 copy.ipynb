{
  "cells": [
    {
      "cell_type": "code",
      "execution_count": 2,
      "metadata": {
        "id": "4yiXlJL101Kj"
      },
      "outputs": [],
      "source": [
        "import numpy as np\n",
        "import pandas as pd\n",
        "import matplotlib.pyplot as plt\n",
        "from tensorflow import keras"
      ]
    },
    {
      "cell_type": "code",
      "execution_count": 3,
      "metadata": {
        "id": "FlqIA5kg1eBr"
      },
      "outputs": [],
      "source": [
        "train = pd.read_csv('train.csv', sep=',')\n",
        "test = pd.read_csv('test.csv', sep=',')"
      ]
    },
    {
      "cell_type": "code",
      "execution_count": 4,
      "metadata": {
        "colab": {
          "base_uri": "https://localhost:8080/",
          "height": 285
        },
        "id": "eSWnP9h-1oHK",
        "outputId": "f12a87c1-9178-4534-a8a1-74d0fc4a7ab9"
      },
      "outputs": [
        {
          "data": {
            "text/html": [
              "<div>\n",
              "<style scoped>\n",
              "    .dataframe tbody tr th:only-of-type {\n",
              "        vertical-align: middle;\n",
              "    }\n",
              "\n",
              "    .dataframe tbody tr th {\n",
              "        vertical-align: top;\n",
              "    }\n",
              "\n",
              "    .dataframe thead th {\n",
              "        text-align: right;\n",
              "    }\n",
              "</style>\n",
              "<table border=\"1\" class=\"dataframe\">\n",
              "  <thead>\n",
              "    <tr style=\"text-align: right;\">\n",
              "      <th></th>\n",
              "      <th>PassengerId</th>\n",
              "      <th>Survived</th>\n",
              "      <th>Pclass</th>\n",
              "      <th>Name</th>\n",
              "      <th>Sex</th>\n",
              "      <th>Age</th>\n",
              "      <th>SibSp</th>\n",
              "      <th>Parch</th>\n",
              "      <th>Ticket</th>\n",
              "      <th>Fare</th>\n",
              "      <th>Cabin</th>\n",
              "      <th>Embarked</th>\n",
              "    </tr>\n",
              "  </thead>\n",
              "  <tbody>\n",
              "    <tr>\n",
              "      <th>0</th>\n",
              "      <td>1</td>\n",
              "      <td>0</td>\n",
              "      <td>3</td>\n",
              "      <td>Braund, Mr. Owen Harris</td>\n",
              "      <td>male</td>\n",
              "      <td>22.0</td>\n",
              "      <td>1</td>\n",
              "      <td>0</td>\n",
              "      <td>A/5 21171</td>\n",
              "      <td>7.2500</td>\n",
              "      <td>NaN</td>\n",
              "      <td>S</td>\n",
              "    </tr>\n",
              "    <tr>\n",
              "      <th>1</th>\n",
              "      <td>2</td>\n",
              "      <td>1</td>\n",
              "      <td>1</td>\n",
              "      <td>Cumings, Mrs. John Bradley (Florence Briggs Th...</td>\n",
              "      <td>female</td>\n",
              "      <td>38.0</td>\n",
              "      <td>1</td>\n",
              "      <td>0</td>\n",
              "      <td>PC 17599</td>\n",
              "      <td>71.2833</td>\n",
              "      <td>C85</td>\n",
              "      <td>C</td>\n",
              "    </tr>\n",
              "    <tr>\n",
              "      <th>2</th>\n",
              "      <td>3</td>\n",
              "      <td>1</td>\n",
              "      <td>3</td>\n",
              "      <td>Heikkinen, Miss. Laina</td>\n",
              "      <td>female</td>\n",
              "      <td>26.0</td>\n",
              "      <td>0</td>\n",
              "      <td>0</td>\n",
              "      <td>STON/O2. 3101282</td>\n",
              "      <td>7.9250</td>\n",
              "      <td>NaN</td>\n",
              "      <td>S</td>\n",
              "    </tr>\n",
              "    <tr>\n",
              "      <th>3</th>\n",
              "      <td>4</td>\n",
              "      <td>1</td>\n",
              "      <td>1</td>\n",
              "      <td>Futrelle, Mrs. Jacques Heath (Lily May Peel)</td>\n",
              "      <td>female</td>\n",
              "      <td>35.0</td>\n",
              "      <td>1</td>\n",
              "      <td>0</td>\n",
              "      <td>113803</td>\n",
              "      <td>53.1000</td>\n",
              "      <td>C123</td>\n",
              "      <td>S</td>\n",
              "    </tr>\n",
              "    <tr>\n",
              "      <th>4</th>\n",
              "      <td>5</td>\n",
              "      <td>0</td>\n",
              "      <td>3</td>\n",
              "      <td>Allen, Mr. William Henry</td>\n",
              "      <td>male</td>\n",
              "      <td>35.0</td>\n",
              "      <td>0</td>\n",
              "      <td>0</td>\n",
              "      <td>373450</td>\n",
              "      <td>8.0500</td>\n",
              "      <td>NaN</td>\n",
              "      <td>S</td>\n",
              "    </tr>\n",
              "  </tbody>\n",
              "</table>\n",
              "</div>"
            ],
            "text/plain": [
              "   PassengerId  Survived  Pclass  \\\n",
              "0            1         0       3   \n",
              "1            2         1       1   \n",
              "2            3         1       3   \n",
              "3            4         1       1   \n",
              "4            5         0       3   \n",
              "\n",
              "                                                Name     Sex   Age  SibSp  \\\n",
              "0                            Braund, Mr. Owen Harris    male  22.0      1   \n",
              "1  Cumings, Mrs. John Bradley (Florence Briggs Th...  female  38.0      1   \n",
              "2                             Heikkinen, Miss. Laina  female  26.0      0   \n",
              "3       Futrelle, Mrs. Jacques Heath (Lily May Peel)  female  35.0      1   \n",
              "4                           Allen, Mr. William Henry    male  35.0      0   \n",
              "\n",
              "   Parch            Ticket     Fare Cabin Embarked  \n",
              "0      0         A/5 21171   7.2500   NaN        S  \n",
              "1      0          PC 17599  71.2833   C85        C  \n",
              "2      0  STON/O2. 3101282   7.9250   NaN        S  \n",
              "3      0            113803  53.1000  C123        S  \n",
              "4      0            373450   8.0500   NaN        S  "
            ]
          },
          "execution_count": 4,
          "metadata": {},
          "output_type": "execute_result"
        }
      ],
      "source": [
        "train.head()"
      ]
    },
    {
      "cell_type": "code",
      "execution_count": 5,
      "metadata": {
        "colab": {
          "base_uri": "https://localhost:8080/",
          "height": 304
        },
        "id": "jwfxd2GN1qyK",
        "outputId": "da12302a-3ac3-4fb5-ee91-438ebefc181a"
      },
      "outputs": [
        {
          "data": {
            "image/png": "[encoded data removed]",
            "text/plain": [
              "<Figure size 432x288 with 1 Axes>"
            ]
          },
          "metadata": {
            "needs_background": "light"
          },
          "output_type": "display_data"
        }
      ],
      "source": [
        "df = train.groupby('Sex').mean()['Survived']\n",
        "df.plot(kind='bar')\n",
        "plt.show()"
      ]
    },
    {
      "cell_type": "code",
      "execution_count": 6,
      "metadata": {
        "colab": {
          "base_uri": "https://localhost:8080/",
          "height": 276
        },
        "id": "_kB-Uunm18cb",
        "outputId": "2ecc1e74-4697-42f7-c718-cfeb930c5a28"
      },
      "outputs": [
        {
          "data": {
            "image/png": "[encoded data removed]",
            "text/plain": [
              "<Figure size 432x288 with 1 Axes>"
            ]
          },
          "metadata": {
            "needs_background": "light"
          },
          "output_type": "display_data"
        }
      ],
      "source": [
        "df = train.groupby('Pclass').mean()['Survived']\n",
        "df.plot(kind='bar')\n",
        "plt.show()"
      ]
    },
    {
      "cell_type": "code",
      "execution_count": 7,
      "metadata": {
        "id": "HSeK7Bjr2GAD"
      },
      "outputs": [],
      "source": [
        "train.drop(['PassengerId','Name','Ticket','Cabin','Embarked'], inplace=True, axis=1)"
      ]
    },
    {
      "cell_type": "code",
      "execution_count": 8,
      "metadata": {
        "colab": {
          "base_uri": "https://localhost:8080/",
          "height": 206
        },
        "id": "NJUQMx3L2a8F",
        "outputId": "176b5d6d-6ab8-4abe-a498-bd9f14e10206"
      },
      "outputs": [
        {
          "data": {
            "text/html": [
              "<div>\n",
              "<style scoped>\n",
              "    .dataframe tbody tr th:only-of-type {\n",
              "        vertical-align: middle;\n",
              "    }\n",
              "\n",
              "    .dataframe tbody tr th {\n",
              "        vertical-align: top;\n",
              "    }\n",
              "\n",
              "    .dataframe thead th {\n",
              "        text-align: right;\n",
              "    }\n",
              "</style>\n",
              "<table border=\"1\" class=\"dataframe\">\n",
              "  <thead>\n",
              "    <tr style=\"text-align: right;\">\n",
              "      <th></th>\n",
              "      <th>Survived</th>\n",
              "      <th>Pclass</th>\n",
              "      <th>Sex</th>\n",
              "      <th>Age</th>\n",
              "      <th>SibSp</th>\n",
              "      <th>Parch</th>\n",
              "      <th>Fare</th>\n",
              "    </tr>\n",
              "  </thead>\n",
              "  <tbody>\n",
              "    <tr>\n",
              "      <th>0</th>\n",
              "      <td>0</td>\n",
              "      <td>3</td>\n",
              "      <td>male</td>\n",
              "      <td>22.0</td>\n",
              "      <td>1</td>\n",
              "      <td>0</td>\n",
              "      <td>7.2500</td>\n",
              "    </tr>\n",
              "    <tr>\n",
              "      <th>1</th>\n",
              "      <td>1</td>\n",
              "      <td>1</td>\n",
              "      <td>female</td>\n",
              "      <td>38.0</td>\n",
              "      <td>1</td>\n",
              "      <td>0</td>\n",
              "      <td>71.2833</td>\n",
              "    </tr>\n",
              "    <tr>\n",
              "      <th>2</th>\n",
              "      <td>1</td>\n",
              "      <td>3</td>\n",
              "      <td>female</td>\n",
              "      <td>26.0</td>\n",
              "      <td>0</td>\n",
              "      <td>0</td>\n",
              "      <td>7.9250</td>\n",
              "    </tr>\n",
              "    <tr>\n",
              "      <th>3</th>\n",
              "      <td>1</td>\n",
              "      <td>1</td>\n",
              "      <td>female</td>\n",
              "      <td>35.0</td>\n",
              "      <td>1</td>\n",
              "      <td>0</td>\n",
              "      <td>53.1000</td>\n",
              "    </tr>\n",
              "    <tr>\n",
              "      <th>4</th>\n",
              "      <td>0</td>\n",
              "      <td>3</td>\n",
              "      <td>male</td>\n",
              "      <td>35.0</td>\n",
              "      <td>0</td>\n",
              "      <td>0</td>\n",
              "      <td>8.0500</td>\n",
              "    </tr>\n",
              "  </tbody>\n",
              "</table>\n",
              "</div>"
            ],
            "text/plain": [
              "   Survived  Pclass     Sex   Age  SibSp  Parch     Fare\n",
              "0         0       3    male  22.0      1      0   7.2500\n",
              "1         1       1  female  38.0      1      0  71.2833\n",
              "2         1       3  female  26.0      0      0   7.9250\n",
              "3         1       1  female  35.0      1      0  53.1000\n",
              "4         0       3    male  35.0      0      0   8.0500"
            ]
          },
          "execution_count": 8,
          "metadata": {},
          "output_type": "execute_result"
        }
      ],
      "source": [
        "train.head()"
      ]
    },
    {
      "cell_type": "code",
      "execution_count": 9,
      "metadata": {
        "id": "LDTNpuKn2cvA"
      },
      "outputs": [],
      "source": [
        "train.dropna(inplace=True)"
      ]
    },
    {
      "cell_type": "code",
      "execution_count": 10,
      "metadata": {
        "colab": {
          "base_uri": "https://localhost:8080/",
          "height": 206
        },
        "id": "-e-VU_vP2n9B",
        "outputId": "0076970b-50b7-40c0-c3cd-baaccee9b045"
      },
      "outputs": [
        {
          "data": {
            "text/html": [
              "<div>\n",
              "<style scoped>\n",
              "    .dataframe tbody tr th:only-of-type {\n",
              "        vertical-align: middle;\n",
              "    }\n",
              "\n",
              "    .dataframe tbody tr th {\n",
              "        vertical-align: top;\n",
              "    }\n",
              "\n",
              "    .dataframe thead th {\n",
              "        text-align: right;\n",
              "    }\n",
              "</style>\n",
              "<table border=\"1\" class=\"dataframe\">\n",
              "  <thead>\n",
              "    <tr style=\"text-align: right;\">\n",
              "      <th></th>\n",
              "      <th>Survived</th>\n",
              "      <th>Pclass</th>\n",
              "      <th>Sex</th>\n",
              "      <th>Age</th>\n",
              "      <th>SibSp</th>\n",
              "      <th>Parch</th>\n",
              "      <th>Fare</th>\n",
              "    </tr>\n",
              "  </thead>\n",
              "  <tbody>\n",
              "    <tr>\n",
              "      <th>0</th>\n",
              "      <td>0</td>\n",
              "      <td>3</td>\n",
              "      <td>male</td>\n",
              "      <td>22.0</td>\n",
              "      <td>1</td>\n",
              "      <td>0</td>\n",
              "      <td>7.2500</td>\n",
              "    </tr>\n",
              "    <tr>\n",
              "      <th>1</th>\n",
              "      <td>1</td>\n",
              "      <td>1</td>\n",
              "      <td>female</td>\n",
              "      <td>38.0</td>\n",
              "      <td>1</td>\n",
              "      <td>0</td>\n",
              "      <td>71.2833</td>\n",
              "    </tr>\n",
              "    <tr>\n",
              "      <th>2</th>\n",
              "      <td>1</td>\n",
              "      <td>3</td>\n",
              "      <td>female</td>\n",
              "      <td>26.0</td>\n",
              "      <td>0</td>\n",
              "      <td>0</td>\n",
              "      <td>7.9250</td>\n",
              "    </tr>\n",
              "    <tr>\n",
              "      <th>3</th>\n",
              "      <td>1</td>\n",
              "      <td>1</td>\n",
              "      <td>female</td>\n",
              "      <td>35.0</td>\n",
              "      <td>1</td>\n",
              "      <td>0</td>\n",
              "      <td>53.1000</td>\n",
              "    </tr>\n",
              "    <tr>\n",
              "      <th>4</th>\n",
              "      <td>0</td>\n",
              "      <td>3</td>\n",
              "      <td>male</td>\n",
              "      <td>35.0</td>\n",
              "      <td>0</td>\n",
              "      <td>0</td>\n",
              "      <td>8.0500</td>\n",
              "    </tr>\n",
              "  </tbody>\n",
              "</table>\n",
              "</div>"
            ],
            "text/plain": [
              "   Survived  Pclass     Sex   Age  SibSp  Parch     Fare\n",
              "0         0       3    male  22.0      1      0   7.2500\n",
              "1         1       1  female  38.0      1      0  71.2833\n",
              "2         1       3  female  26.0      0      0   7.9250\n",
              "3         1       1  female  35.0      1      0  53.1000\n",
              "4         0       3    male  35.0      0      0   8.0500"
            ]
          },
          "execution_count": 10,
          "metadata": {},
          "output_type": "execute_result"
        }
      ],
      "source": [
        "train.head()"
      ]
    },
    {
      "cell_type": "code",
      "execution_count": 11,
      "metadata": {
        "id": "tr3SZMq92sVz"
      },
      "outputs": [],
      "source": [
        "for i in train.index:\n",
        "  if train.loc[i, 'Sex']=='male':\n",
        "    train.loc[i,'Sex']=1\n",
        "  else:\n",
        "    train.loc[i,'Sex']=0"
      ]
    },
    {
      "cell_type": "code",
      "execution_count": 12,
      "metadata": {
        "id": "IgAmJ3N53EOP"
      },
      "outputs": [],
      "source": [
        "target = np.ravel(train.Survived)"
      ]
    },
    {
      "cell_type": "code",
      "execution_count": 13,
      "metadata": {
        "id": "fnLxOuIT3Rlw"
      },
      "outputs": [],
      "source": [
        "train.drop(['Survived'], inplace=True, axis=1)\n",
        "train = train.astype(float)"
      ]
    },
    {
      "cell_type": "code",
      "execution_count": 14,
      "metadata": {},
      "outputs": [],
      "source": [
        "from sklearn.model_selection import train_test_split\n",
        "\n",
        "train_scaled, val_scaled, train_target, val_target = train_test_split(train, target, test_size=0.2, random_state=42)"
      ]
    },
    {
      "cell_type": "code",
      "execution_count": 15,
      "metadata": {
        "colab": {
          "base_uri": "https://localhost:8080/",
          "height": 206
        },
        "id": "p_M9XY4s3ZYi",
        "outputId": "a5e6c43c-6d64-4346-8d68-5743ab21d134"
      },
      "outputs": [
        {
          "data": {
            "text/html": [
              "<div>\n",
              "<style scoped>\n",
              "    .dataframe tbody tr th:only-of-type {\n",
              "        vertical-align: middle;\n",
              "    }\n",
              "\n",
              "    .dataframe tbody tr th {\n",
              "        vertical-align: top;\n",
              "    }\n",
              "\n",
              "    .dataframe thead th {\n",
              "        text-align: right;\n",
              "    }\n",
              "</style>\n",
              "<table border=\"1\" class=\"dataframe\">\n",
              "  <thead>\n",
              "    <tr style=\"text-align: right;\">\n",
              "      <th></th>\n",
              "      <th>Pclass</th>\n",
              "      <th>Sex</th>\n",
              "      <th>Age</th>\n",
              "      <th>SibSp</th>\n",
              "      <th>Parch</th>\n",
              "      <th>Fare</th>\n",
              "    </tr>\n",
              "  </thead>\n",
              "  <tbody>\n",
              "    <tr>\n",
              "      <th>328</th>\n",
              "      <td>3.0</td>\n",
              "      <td>0.0</td>\n",
              "      <td>31.0</td>\n",
              "      <td>1.0</td>\n",
              "      <td>1.0</td>\n",
              "      <td>20.5250</td>\n",
              "    </tr>\n",
              "    <tr>\n",
              "      <th>73</th>\n",
              "      <td>3.0</td>\n",
              "      <td>1.0</td>\n",
              "      <td>26.0</td>\n",
              "      <td>1.0</td>\n",
              "      <td>0.0</td>\n",
              "      <td>14.4542</td>\n",
              "    </tr>\n",
              "    <tr>\n",
              "      <th>253</th>\n",
              "      <td>3.0</td>\n",
              "      <td>1.0</td>\n",
              "      <td>30.0</td>\n",
              "      <td>1.0</td>\n",
              "      <td>0.0</td>\n",
              "      <td>16.1000</td>\n",
              "    </tr>\n",
              "    <tr>\n",
              "      <th>719</th>\n",
              "      <td>3.0</td>\n",
              "      <td>1.0</td>\n",
              "      <td>33.0</td>\n",
              "      <td>0.0</td>\n",
              "      <td>0.0</td>\n",
              "      <td>7.7750</td>\n",
              "    </tr>\n",
              "    <tr>\n",
              "      <th>666</th>\n",
              "      <td>2.0</td>\n",
              "      <td>1.0</td>\n",
              "      <td>25.0</td>\n",
              "      <td>0.0</td>\n",
              "      <td>0.0</td>\n",
              "      <td>13.0000</td>\n",
              "    </tr>\n",
              "  </tbody>\n",
              "</table>\n",
              "</div>"
            ],
            "text/plain": [
              "     Pclass  Sex   Age  SibSp  Parch     Fare\n",
              "328     3.0  0.0  31.0    1.0    1.0  20.5250\n",
              "73      3.0  1.0  26.0    1.0    0.0  14.4542\n",
              "253     3.0  1.0  30.0    1.0    0.0  16.1000\n",
              "719     3.0  1.0  33.0    0.0    0.0   7.7750\n",
              "666     2.0  1.0  25.0    0.0    0.0  13.0000"
            ]
          },
          "execution_count": 15,
          "metadata": {},
          "output_type": "execute_result"
        }
      ],
      "source": [
        "train_scaled.head()"
      ]
    },
    {
      "cell_type": "code",
      "execution_count": 16,
      "metadata": {
        "colab": {
          "base_uri": "https://localhost:8080/"
        },
        "id": "RmD3AUdj3lRB",
        "outputId": "7376ccde-d778-4979-ddc9-abd5980b2b9f"
      },
      "outputs": [
        {
          "name": "stdout",
          "output_type": "stream",
          "text": [
            "<class 'pandas.core.frame.DataFrame'>\n",
            "Int64Index: 571 entries, 328 to 130\n",
            "Data columns (total 6 columns):\n",
            " #   Column  Non-Null Count  Dtype  \n",
            "---  ------  --------------  -----  \n",
            " 0   Pclass  571 non-null    float64\n",
            " 1   Sex     571 non-null    float64\n",
            " 2   Age     571 non-null    float64\n",
            " 3   SibSp   571 non-null    float64\n",
            " 4   Parch   571 non-null    float64\n",
            " 5   Fare    571 non-null    float64\n",
            "dtypes: float64(6)\n",
            "memory usage: 31.2 KB\n"
          ]
        }
      ],
      "source": [
        "train_scaled.info()"
      ]
    },
    {
      "cell_type": "code",
      "execution_count": 17,
      "metadata": {
        "id": "-YQq2eNR3ae6"
      },
      "outputs": [
        {
          "name": "stderr",
          "output_type": "stream",
          "text": [
            "2022-08-17 19:09:54.763589: I tensorflow/core/platform/cpu_feature_guard.cc:145] This TensorFlow binary is optimized with Intel(R) MKL-DNN to use the following CPU instructions in performance critical operations:  SSE4.1 SSE4.2\n",
            "To enable them in non-MKL-DNN operations, rebuild TensorFlow with the appropriate compiler flags.\n",
            "2022-08-17 19:09:54.764406: I tensorflow/core/common_runtime/process_util.cc:115] Creating new thread pool with default inter op setting: 10. Tune using inter_op_parallelism_threads for best performance.\n"
          ]
        }
      ],
      "source": [
        "model=keras.Sequential()\n",
        "model.add(keras.layers.Dense(32, activation='relu', input_shape=(6,)))\n",
        "model.add(keras.layers.Dense(16, activation='relu'))\n",
        "model.add(keras.layers.Dense(16, activation='relu'))\n",
        "model.add(keras.layers.Dense(8, activation='relu'))\n",
        "model.add(keras.layers.Dense(8, activation='relu'))\n",
        "model.add(keras.layers.Dense(4, activation='relu'))\n",
        "model.add(keras.layers.Dense(1, activation='sigmoid'))"
      ]
    },
    {
      "cell_type": "code",
      "execution_count": 33,
      "metadata": {
        "colab": {
          "base_uri": "https://localhost:8080/"
        },
        "id": "qe7vhO9J37XI",
        "outputId": "e26bdc7a-3962-4b46-c0f3-19136cc008a0"
      },
      "outputs": [
        {
          "name": "stdout",
          "output_type": "stream",
          "text": [
            "WARNING:tensorflow:Falling back from v2 loop because of error: Failed to find data adapter that can handle input: <class 'pandas.core.frame.DataFrame'>, <class 'NoneType'>\n",
            "Train on 571 samples, validate on 143 samples\n",
            "Epoch 1/200\n",
            "571/571 [==============================] - 1s 1ms/sample - loss: 0.4061 - accuracy: 0.8161 - val_loss: 0.4685 - val_accuracy: 0.7692\n",
            "Epoch 2/200\n",
            "571/571 [==============================] - 0s 17us/sample - loss: 0.3973 - accuracy: 0.8196 - val_loss: 0.4741 - val_accuracy: 0.7902\n",
            "Epoch 3/200\n",
            "571/571 [==============================] - 0s 23us/sample - loss: 0.3941 - accuracy: 0.8179 - val_loss: 0.4803 - val_accuracy: 0.7972\n",
            "Epoch 4/200\n",
            "571/571 [==============================] - 0s 18us/sample - loss: 0.3956 - accuracy: 0.8214 - val_loss: 0.4825 - val_accuracy: 0.7902\n",
            "Epoch 5/200\n",
            "571/571 [==============================] - 0s 20us/sample - loss: 0.3947 - accuracy: 0.8196 - val_loss: 0.4791 - val_accuracy: 0.7902\n",
            "Epoch 6/200\n",
            "571/571 [==============================] - 0s 23us/sample - loss: 0.3912 - accuracy: 0.8231 - val_loss: 0.4759 - val_accuracy: 0.8042\n",
            "Epoch 7/200\n",
            "571/571 [==============================] - 0s 25us/sample - loss: 0.3879 - accuracy: 0.8196 - val_loss: 0.4720 - val_accuracy: 0.7832\n",
            "Epoch 8/200\n",
            "571/571 [==============================] - 0s 26us/sample - loss: 0.3849 - accuracy: 0.8249 - val_loss: 0.4718 - val_accuracy: 0.7832\n",
            "Epoch 9/200\n",
            "571/571 [==============================] - 0s 29us/sample - loss: 0.3857 - accuracy: 0.8249 - val_loss: 0.4728 - val_accuracy: 0.7692\n",
            "Epoch 10/200\n",
            "571/571 [==============================] - 0s 25us/sample - loss: 0.3860 - accuracy: 0.8266 - val_loss: 0.4742 - val_accuracy: 0.7622\n",
            "Epoch 11/200\n",
            "571/571 [==============================] - 0s 26us/sample - loss: 0.3857 - accuracy: 0.8266 - val_loss: 0.4753 - val_accuracy: 0.7622\n",
            "Epoch 12/200\n",
            "571/571 [==============================] - 0s 28us/sample - loss: 0.3852 - accuracy: 0.8284 - val_loss: 0.4758 - val_accuracy: 0.7692\n",
            "Epoch 13/200\n",
            "571/571 [==============================] - 0s 24us/sample - loss: 0.3842 - accuracy: 0.8284 - val_loss: 0.4762 - val_accuracy: 0.7832\n",
            "Epoch 14/200\n",
            "571/571 [==============================] - 0s 27us/sample - loss: 0.3824 - accuracy: 0.8266 - val_loss: 0.4769 - val_accuracy: 0.7902\n",
            "Epoch 15/200\n",
            "571/571 [==============================] - 0s 26us/sample - loss: 0.3790 - accuracy: 0.8266 - val_loss: 0.4797 - val_accuracy: 0.7902\n",
            "Epoch 16/200\n",
            "571/571 [==============================] - 0s 27us/sample - loss: 0.3795 - accuracy: 0.8214 - val_loss: 0.4821 - val_accuracy: 0.7902\n",
            "Epoch 17/200\n",
            "571/571 [==============================] - 0s 48us/sample - loss: 0.3803 - accuracy: 0.8249 - val_loss: 0.4825 - val_accuracy: 0.7832\n",
            "Epoch 18/200\n",
            "571/571 [==============================] - 0s 32us/sample - loss: 0.3801 - accuracy: 0.8266 - val_loss: 0.4827 - val_accuracy: 0.7832\n",
            "Epoch 19/200\n",
            "571/571 [==============================] - 0s 28us/sample - loss: 0.3793 - accuracy: 0.8231 - val_loss: 0.4822 - val_accuracy: 0.7832\n",
            "Epoch 20/200\n",
            "571/571 [==============================] - 0s 28us/sample - loss: 0.3782 - accuracy: 0.8231 - val_loss: 0.4797 - val_accuracy: 0.7832\n",
            "Epoch 21/200\n",
            "571/571 [==============================] - 0s 51us/sample - loss: 0.3765 - accuracy: 0.8249 - val_loss: 0.4784 - val_accuracy: 0.7832\n"
          ]
        },
        {
          "data": {
            "text/plain": [
              "<tensorflow.python.keras.callbacks.History at 0x7fb3618a1550>"
            ]
          },
          "execution_count": 33,
          "metadata": {},
          "output_type": "execute_result"
        }
      ],
      "source": [
        "\n",
        "model.compile(loss='binary_crossentropy', optimizer='adam', metrics=['accuracy'])\n",
        "checkpoint_cb = keras.callbacks.ModelCheckpoint('best-model_titanic.h5', save_best_only=True)\n",
        "early_stopping_cb = keras.callbacks.EarlyStopping(patience=20, restore_best_weights=True)\n",
        "model.fit(train_scaled, train_target, batch_size=571, epochs=200, verbose=1, validation_data=(val_scaled, val_target), callbacks=[checkpoint_cb, early_stopping_cb])"
      ]
    },
    {
      "cell_type": "code",
      "execution_count": 19,
      "metadata": {},
      "outputs": [
        {
          "name": "stdout",
          "output_type": "stream",
          "text": [
            "WARNING:tensorflow:Falling back from v2 loop because of error: Failed to find data adapter that can handle input: <class 'pandas.core.frame.DataFrame'>, <class 'NoneType'>\n",
            "143/143 [==============================] - 0s 39us/sample - loss: 0.5003 - accuracy: 0.7133\n"
          ]
        },
        {
          "data": {
            "text/plain": [
              "[0.5003209951874259, 0.7132867]"
            ]
          },
          "execution_count": 19,
          "metadata": {},
          "output_type": "execute_result"
        }
      ],
      "source": [
        "model.evaluate(val_scaled,val_target)"
      ]
    },
    {
      "cell_type": "code",
      "execution_count": 20,
      "metadata": {
        "colab": {
          "base_uri": "https://localhost:8080/",
          "height": 206
        },
        "id": "oMtcZrls4MzW",
        "outputId": "2ac6b325-7e23-4907-ba27-e4f071435c47"
      },
      "outputs": [
        {
          "data": {
            "text/html": [
              "<div>\n",
              "<style scoped>\n",
              "    .dataframe tbody tr th:only-of-type {\n",
              "        vertical-align: middle;\n",
              "    }\n",
              "\n",
              "    .dataframe tbody tr th {\n",
              "        vertical-align: top;\n",
              "    }\n",
              "\n",
              "    .dataframe thead th {\n",
              "        text-align: right;\n",
              "    }\n",
              "</style>\n",
              "<table border=\"1\" class=\"dataframe\">\n",
              "  <thead>\n",
              "    <tr style=\"text-align: right;\">\n",
              "      <th></th>\n",
              "      <th>PassengerId</th>\n",
              "      <th>Pclass</th>\n",
              "      <th>Name</th>\n",
              "      <th>Sex</th>\n",
              "      <th>Age</th>\n",
              "      <th>SibSp</th>\n",
              "      <th>Parch</th>\n",
              "      <th>Ticket</th>\n",
              "      <th>Fare</th>\n",
              "      <th>Cabin</th>\n",
              "      <th>Embarked</th>\n",
              "    </tr>\n",
              "  </thead>\n",
              "  <tbody>\n",
              "    <tr>\n",
              "      <th>0</th>\n",
              "      <td>892</td>\n",
              "      <td>3</td>\n",
              "      <td>Kelly, Mr. James</td>\n",
              "      <td>male</td>\n",
              "      <td>34.5</td>\n",
              "      <td>0</td>\n",
              "      <td>0</td>\n",
              "      <td>330911</td>\n",
              "      <td>7.8292</td>\n",
              "      <td>NaN</td>\n",
              "      <td>Q</td>\n",
              "    </tr>\n",
              "    <tr>\n",
              "      <th>1</th>\n",
              "      <td>893</td>\n",
              "      <td>3</td>\n",
              "      <td>Wilkes, Mrs. James (Ellen Needs)</td>\n",
              "      <td>female</td>\n",
              "      <td>47.0</td>\n",
              "      <td>1</td>\n",
              "      <td>0</td>\n",
              "      <td>363272</td>\n",
              "      <td>7.0000</td>\n",
              "      <td>NaN</td>\n",
              "      <td>S</td>\n",
              "    </tr>\n",
              "    <tr>\n",
              "      <th>2</th>\n",
              "      <td>894</td>\n",
              "      <td>2</td>\n",
              "      <td>Myles, Mr. Thomas Francis</td>\n",
              "      <td>male</td>\n",
              "      <td>62.0</td>\n",
              "      <td>0</td>\n",
              "      <td>0</td>\n",
              "      <td>240276</td>\n",
              "      <td>9.6875</td>\n",
              "      <td>NaN</td>\n",
              "      <td>Q</td>\n",
              "    </tr>\n",
              "    <tr>\n",
              "      <th>3</th>\n",
              "      <td>895</td>\n",
              "      <td>3</td>\n",
              "      <td>Wirz, Mr. Albert</td>\n",
              "      <td>male</td>\n",
              "      <td>27.0</td>\n",
              "      <td>0</td>\n",
              "      <td>0</td>\n",
              "      <td>315154</td>\n",
              "      <td>8.6625</td>\n",
              "      <td>NaN</td>\n",
              "      <td>S</td>\n",
              "    </tr>\n",
              "    <tr>\n",
              "      <th>4</th>\n",
              "      <td>896</td>\n",
              "      <td>3</td>\n",
              "      <td>Hirvonen, Mrs. Alexander (Helga E Lindqvist)</td>\n",
              "      <td>female</td>\n",
              "      <td>22.0</td>\n",
              "      <td>1</td>\n",
              "      <td>1</td>\n",
              "      <td>3101298</td>\n",
              "      <td>12.2875</td>\n",
              "      <td>NaN</td>\n",
              "      <td>S</td>\n",
              "    </tr>\n",
              "  </tbody>\n",
              "</table>\n",
              "</div>"
            ],
            "text/plain": [
              "   PassengerId  Pclass                                          Name     Sex  \\\n",
              "0          892       3                              Kelly, Mr. James    male   \n",
              "1          893       3              Wilkes, Mrs. James (Ellen Needs)  female   \n",
              "2          894       2                     Myles, Mr. Thomas Francis    male   \n",
              "3          895       3                              Wirz, Mr. Albert    male   \n",
              "4          896       3  Hirvonen, Mrs. Alexander (Helga E Lindqvist)  female   \n",
              "\n",
              "    Age  SibSp  Parch   Ticket     Fare Cabin Embarked  \n",
              "0  34.5      0      0   330911   7.8292   NaN        Q  \n",
              "1  47.0      1      0   363272   7.0000   NaN        S  \n",
              "2  62.0      0      0   240276   9.6875   NaN        Q  \n",
              "3  27.0      0      0   315154   8.6625   NaN        S  \n",
              "4  22.0      1      1  3101298  12.2875   NaN        S  "
            ]
          },
          "execution_count": 20,
          "metadata": {},
          "output_type": "execute_result"
        }
      ],
      "source": [
        "test.head()"
      ]
    },
    {
      "cell_type": "code",
      "execution_count": 21,
      "metadata": {
        "id": "XgHPWSkC5dTG"
      },
      "outputs": [],
      "source": [
        "test.drop(['PassengerId','Name','Ticket','Cabin','Embarked'], inplace=True, axis=1)\n",
        "test.dropna(inplace=True)\n",
        "for i in test.index:\n",
        "  if test.loc[i, 'Sex']=='male':\n",
        "    test.loc[i,'Sex']=1\n",
        "  else:\n",
        "    test.loc[i,'Sex']=0\n",
        "test = test.astype(float)"
      ]
    },
    {
      "cell_type": "code",
      "execution_count": 22,
      "metadata": {
        "colab": {
          "base_uri": "https://localhost:8080/"
        },
        "id": "AoT5YYmp6BqT",
        "outputId": "53c53251-e11c-477f-99b9-43223ab180eb"
      },
      "outputs": [
        {
          "name": "stdout",
          "output_type": "stream",
          "text": [
            "WARNING:tensorflow:Falling back from v2 loop because of error: Failed to find data adapter that can handle input: <class 'pandas.core.frame.DataFrame'>, <class 'NoneType'>\n",
            "331/331 [==============================] - 0s 214us/sample\n"
          ]
        },
        {
          "data": {
            "text/plain": [
              "array([[0.12143543],\n",
              "       [0.2931366 ],\n",
              "       [0.05710477],\n",
              "       [0.1346685 ],\n",
              "       [0.6084297 ],\n",
              "       [0.18833381],\n",
              "       [0.54744124],\n",
              "       [0.25065082],\n",
              "       [0.7464163 ],\n",
              "       [0.29027522],\n",
              "       [0.21658903],\n",
              "       [0.7663406 ],\n",
              "       [0.07877746],\n",
              "       [0.85278904],\n",
              "       [0.80171007],\n",
              "       [0.11728612],\n",
              "       [0.15543494],\n",
              "       [0.44359398],\n",
              "       [0.39603686],\n",
              "       [0.5542194 ],\n",
              "       [0.43767273],\n",
              "       [0.5169258 ],\n",
              "       [0.64935714],\n",
              "       [0.06456429],\n",
              "       [0.81245005],\n",
              "       [0.15340069],\n",
              "       [0.44657913],\n",
              "       [0.07741159],\n",
              "       [0.46244675],\n",
              "       [0.43497205],\n",
              "       [0.51599365],\n",
              "       [0.1725986 ],\n",
              "       [0.7134489 ],\n",
              "       [0.11762166],\n",
              "       [0.07981697],\n",
              "       [0.09437457],\n",
              "       [0.84223807],\n",
              "       [0.85789514],\n",
              "       [0.14364961],\n",
              "       [0.36121944],\n",
              "       [0.90057427],\n",
              "       [0.60789245],\n",
              "       [0.51599365],\n",
              "       [0.11029786],\n",
              "       [0.70905256],\n",
              "       [0.51599365],\n",
              "       [0.51599365],\n",
              "       [0.11952353],\n",
              "       [0.14865732],\n",
              "       [0.7792603 ],\n",
              "       [0.17076603],\n",
              "       [0.10775253],\n",
              "       [0.16578805],\n",
              "       [0.68324155],\n",
              "       [0.71735126],\n",
              "       [0.7695207 ],\n",
              "       [0.45386744],\n",
              "       [0.4192801 ],\n",
              "       [0.6459089 ],\n",
              "       [0.6474042 ],\n",
              "       [0.14100447],\n",
              "       [0.57029635],\n",
              "       [0.4134204 ],\n",
              "       [0.8271157 ],\n",
              "       [0.52214205],\n",
              "       [0.80869246],\n",
              "       [0.11173221],\n",
              "       [0.6474042 ],\n",
              "       [0.677726  ],\n",
              "       [0.5356487 ],\n",
              "       [0.20847195],\n",
              "       [0.59254515],\n",
              "       [0.77798533],\n",
              "       [0.71125823],\n",
              "       [0.5504399 ],\n",
              "       [0.7012987 ],\n",
              "       [0.40300366],\n",
              "       [0.14598453],\n",
              "       [0.882921  ],\n",
              "       [0.14858359],\n",
              "       [0.7178167 ],\n",
              "       [0.13000205],\n",
              "       [0.84587634],\n",
              "       [0.24378484],\n",
              "       [0.14841378],\n",
              "       [0.76604414],\n",
              "       [0.1334868 ],\n",
              "       [0.14234832],\n",
              "       [0.15282023],\n",
              "       [0.09685871],\n",
              "       [0.84001064],\n",
              "       [0.7389524 ],\n",
              "       [0.81953204],\n",
              "       [0.16918844],\n",
              "       [0.8502691 ],\n",
              "       [0.6098089 ],\n",
              "       [0.7807143 ],\n",
              "       [0.8009341 ],\n",
              "       [0.80053353],\n",
              "       [0.15082979],\n",
              "       [0.71398467],\n",
              "       [0.14113522],\n",
              "       [0.1163851 ],\n",
              "       [0.13945058],\n",
              "       [0.1350173 ],\n",
              "       [0.22614384],\n",
              "       [0.08738196],\n",
              "       [0.14291501],\n",
              "       [0.1574001 ],\n",
              "       [0.11771017],\n",
              "       [0.66731346],\n",
              "       [0.09594843],\n",
              "       [0.51599365],\n",
              "       [0.8388027 ],\n",
              "       [0.51599365],\n",
              "       [0.25964242],\n",
              "       [0.27387977],\n",
              "       [0.08621588],\n",
              "       [0.1356706 ],\n",
              "       [0.19338414],\n",
              "       [0.81111914],\n",
              "       [0.56355256],\n",
              "       [0.51599365],\n",
              "       [0.14843947],\n",
              "       [0.7634587 ],\n",
              "       [0.66621643],\n",
              "       [0.27387977],\n",
              "       [0.77349997],\n",
              "       [0.64494765],\n",
              "       [0.8161997 ],\n",
              "       [0.1147176 ],\n",
              "       [0.6201166 ],\n",
              "       [0.47318763],\n",
              "       [0.51599365],\n",
              "       [0.6953821 ],\n",
              "       [0.15563682],\n",
              "       [0.10403198],\n",
              "       [0.07869843],\n",
              "       [0.7573726 ],\n",
              "       [0.81387866],\n",
              "       [0.47831765],\n",
              "       [0.5596709 ],\n",
              "       [0.8938178 ],\n",
              "       [0.11173221],\n",
              "       [0.51599365],\n",
              "       [0.7606986 ],\n",
              "       [0.702651  ],\n",
              "       [0.09280768],\n",
              "       [0.7050808 ],\n",
              "       [0.13170278],\n",
              "       [0.11307111],\n",
              "       [0.17027819],\n",
              "       [0.35437134],\n",
              "       [0.07194209],\n",
              "       [0.6472347 ],\n",
              "       [0.12875208],\n",
              "       [0.8109046 ],\n",
              "       [0.7642468 ],\n",
              "       [0.1336849 ],\n",
              "       [0.8633249 ],\n",
              "       [0.51599365],\n",
              "       [0.68323135],\n",
              "       [0.13374057],\n",
              "       [0.495832  ],\n",
              "       [0.13371271],\n",
              "       [0.8401437 ],\n",
              "       [0.14417458],\n",
              "       [0.10251009],\n",
              "       [0.5181775 ],\n",
              "       [0.82167614],\n",
              "       [0.25137353],\n",
              "       [0.4233897 ],\n",
              "       [0.51599365],\n",
              "       [0.7642362 ],\n",
              "       [0.73392   ],\n",
              "       [0.13827473],\n",
              "       [0.8170067 ],\n",
              "       [0.14279875],\n",
              "       [0.90014356],\n",
              "       [0.14196315],\n",
              "       [0.07593697],\n",
              "       [0.11187544],\n",
              "       [0.5169161 ],\n",
              "       [0.82944566],\n",
              "       [0.12493864],\n",
              "       [0.51599365],\n",
              "       [0.14877114],\n",
              "       [0.76116174],\n",
              "       [0.16089848],\n",
              "       [0.6825291 ],\n",
              "       [0.8144702 ],\n",
              "       [0.9040822 ],\n",
              "       [0.74832594],\n",
              "       [0.51599365],\n",
              "       [0.7556798 ],\n",
              "       [0.7773367 ],\n",
              "       [0.16298932],\n",
              "       [0.7807143 ],\n",
              "       [0.8329748 ],\n",
              "       [0.14745486],\n",
              "       [0.51599365],\n",
              "       [0.11858222],\n",
              "       [0.13092786],\n",
              "       [0.1474683 ],\n",
              "       [0.7978093 ],\n",
              "       [0.14317432],\n",
              "       [0.05207905],\n",
              "       [0.1417486 ],\n",
              "       [0.682171  ],\n",
              "       [0.84966135],\n",
              "       [0.11389783],\n",
              "       [0.15872732],\n",
              "       [0.6555382 ],\n",
              "       [0.7492702 ],\n",
              "       [0.7836741 ],\n",
              "       [0.13382417],\n",
              "       [0.10848376],\n",
              "       [0.1337015 ],\n",
              "       [0.13365704],\n",
              "       [0.6709637 ],\n",
              "       [0.7952249 ],\n",
              "       [0.75089896],\n",
              "       [0.8420739 ],\n",
              "       [0.11133409],\n",
              "       [0.51599365],\n",
              "       [0.52033806],\n",
              "       [0.55856794],\n",
              "       [0.1245895 ],\n",
              "       [0.14619946],\n",
              "       [0.8294655 ],\n",
              "       [0.7026524 ],\n",
              "       [0.14859965],\n",
              "       [0.13320747],\n",
              "       [0.07955962],\n",
              "       [0.12906581],\n",
              "       [0.8709334 ],\n",
              "       [0.51599365],\n",
              "       [0.8455006 ],\n",
              "       [0.51599365],\n",
              "       [0.47862583],\n",
              "       [0.15024215],\n",
              "       [0.15407631],\n",
              "       [0.47878486],\n",
              "       [0.8884579 ],\n",
              "       [0.79183567],\n",
              "       [0.52606785],\n",
              "       [0.13613757],\n",
              "       [0.14901611],\n",
              "       [0.51599365],\n",
              "       [0.14841378],\n",
              "       [0.15659794],\n",
              "       [0.11771017],\n",
              "       [0.42569786],\n",
              "       [0.84263   ],\n",
              "       [0.15685523],\n",
              "       [0.5307092 ],\n",
              "       [0.64824885],\n",
              "       [0.22882104],\n",
              "       [0.12651134],\n",
              "       [0.7300207 ],\n",
              "       [0.44559085],\n",
              "       [0.6804697 ],\n",
              "       [0.14824787],\n",
              "       [0.4124867 ],\n",
              "       [0.1117799 ],\n",
              "       [0.0916208 ],\n",
              "       [0.5493295 ],\n",
              "       [0.13804606],\n",
              "       [0.13193145],\n",
              "       [0.56510264],\n",
              "       [0.81080675],\n",
              "       [0.11771017],\n",
              "       [0.45403647],\n",
              "       [0.11502412],\n",
              "       [0.8204491 ],\n",
              "       [0.8606664 ],\n",
              "       [0.13374057],\n",
              "       [0.5188411 ],\n",
              "       [0.7082591 ],\n",
              "       [0.86859936],\n",
              "       [0.20581639],\n",
              "       [0.83484256],\n",
              "       [0.5296762 ],\n",
              "       [0.51599365],\n",
              "       [0.7402356 ],\n",
              "       [0.8204491 ],\n",
              "       [0.1346685 ],\n",
              "       [0.7778707 ],\n",
              "       [0.8114351 ],\n",
              "       [0.8670267 ],\n",
              "       [0.11191449],\n",
              "       [0.12454471],\n",
              "       [0.836583  ],\n",
              "       [0.0755271 ],\n",
              "       [0.11978319],\n",
              "       [0.79777   ],\n",
              "       [0.8418023 ],\n",
              "       [0.4097161 ],\n",
              "       [0.12767252],\n",
              "       [0.46209893],\n",
              "       [0.51599365],\n",
              "       [0.14650214],\n",
              "       [0.6580347 ],\n",
              "       [0.65397835],\n",
              "       [0.14433667],\n",
              "       [0.08863419],\n",
              "       [0.14362678],\n",
              "       [0.51599365],\n",
              "       [0.5586305 ],\n",
              "       [0.84686404],\n",
              "       [0.6023214 ],\n",
              "       [0.1084896 ],\n",
              "       [0.13069436],\n",
              "       [0.75896335],\n",
              "       [0.154059  ],\n",
              "       [0.78736126],\n",
              "       [0.14159045],\n",
              "       [0.13804543],\n",
              "       [0.82722306],\n",
              "       [0.08439693],\n",
              "       [0.81301486],\n",
              "       [0.55325186],\n",
              "       [0.1970461 ],\n",
              "       [0.14464283],\n",
              "       [0.09321839],\n",
              "       [0.51599365],\n",
              "       [0.83747935],\n",
              "       [0.79807365],\n",
              "       [0.57625145],\n",
              "       [0.859884  ],\n",
              "       [0.10099013]], dtype=float32)"
            ]
          },
          "execution_count": 22,
          "metadata": {},
          "output_type": "execute_result"
        }
      ],
      "source": [
        "model.predict(test, verbose=1)"
      ]
    },
    {
      "cell_type": "code",
      "execution_count": 23,
      "metadata": {
        "id": "0-T0UlDI69VA"
      },
      "outputs": [
        {
          "name": "stdout",
          "output_type": "stream",
          "text": [
            "WARNING:tensorflow:Falling back from v2 loop because of error: Failed to find data adapter that can handle input: <class 'pandas.core.frame.DataFrame'>, <class 'NoneType'>\n"
          ]
        }
      ],
      "source": [
        "prediction = list(model.predict(test))\n",
        "submission = pd.DataFrame({\n",
        "    \"Pclass\": test[\"Pclass\"],\n",
        "    \"Sex\" : test[\"Sex\"],\n",
        "    \"Age\" : test[\"Age\"],\n",
        "    \"Parch\" : test[\"Parch\"],\n",
        "    \"Fare\" : test[\"Fare\"],\n",
        "    \"Survived\" : prediction\n",
        "})\n",
        "submission.to_csv('submission.csv', index=False)"
      ]
    },
    {
      "cell_type": "code",
      "execution_count": 24,
      "metadata": {
        "id": "pQp2BtHtBSWH"
      },
      "outputs": [
        {
          "name": "stdout",
          "output_type": "stream",
          "text": [
            "WARNING:tensorflow:Falling back from v2 loop because of error: Failed to find data adapter that can handle input: <class 'pandas.core.frame.DataFrame'>, <class 'NoneType'>\n",
            "143/143 [==============================] - 0s 827us/sample - loss: 0.5003 - accuracy: 0.7133\n"
          ]
        },
        {
          "data": {
            "text/plain": [
              "[0.5003209951874259, 0.7132867]"
            ]
          },
          "execution_count": 24,
          "metadata": {},
          "output_type": "execute_result"
        }
      ],
      "source": [
        "model = keras.models.load_model('best-model_titanic.h5')\n",
        "\n",
        "model.evaluate(val_scaled, val_target)"
      ]
    },
    {
      "cell_type": "code",
      "execution_count": null,
      "metadata": {},
      "outputs": [],
      "source": []
    }
  ],
  "metadata": {
    "colab": {
      "name": "타이타닉.ipynb",
      "provenance": []
    },
    "kernelspec": {
      "display_name": "Python 3.7.13 ('tfconda')",
      "language": "python",
      "name": "python3"
    },
    "language_info": {
      "codemirror_mode": {
        "name": "ipython",
        "version": 3
      },
      "file_extension": ".py",
      "mimetype": "text/x-python",
      "name": "python",
      "nbconvert_exporter": "python",
      "pygments_lexer": "ipython3",
      "version": "3.7.13"
    },
    "vscode": {
      "interpreter": {
        "hash": "0744aaa7db6f160eeef0af44bf51ca34b1d762fe44eb4b65d75aea0f249a1b66"
      }
    }
  },
  "nbformat": 4,
  "nbformat_minor": 0
}
